{
 "cells": [
  {
   "cell_type": "code",
   "execution_count": null,
   "metadata": {},
   "outputs": [],
   "source": [
    "import MalardHelpers\n",
    "\n",
    "from collections import OrderedDict\n",
    "\n",
    "import pandas as pd\n",
    "\n",
    "from os import listdir\n",
    "from os.path import isfile, join\n",
    "\n",
    "lhsDir = '/data/slug1/store/rawdata/mtngla/tandemx/netcdf/'\n",
    "rhsDir = '/data/slug1/store/rawdata/mtngla/tandemx2/netcdf/'\n",
    "\n",
    "def compareFiles( lhsFile, rhsFile ):\n",
    "    \n",
    "    results = OrderedDict()\n",
    "    \n",
    "    dfLhs = MalardHelpers.getDataFrameFromNetCDF(lhsFile)\n",
    "    dfRhs = MalardHelpers.getDataFrameFromNetCDF(rhsFile)\n",
    "    \n",
    "    checkCols = ['lat','lon','elev','power','demDiff','demDiffMad','coh'] \n",
    "    \n",
    "    for col in checkCols:\n",
    "        results['lhsMin' + col ] = dfLhs[ col ].min()\n",
    "        results['lhsMax' + col ] = dfLhs[ col ].max()\n",
    "        results['lhsMean' + col ] = dfLhs[ col ].mean()\n",
    "        results['rhsMin' + col ] = dfRhs[ col ].min()\n",
    "        results['rhsMax' + col ] = dfRhs[ col ].max()\n",
    "        results['rhsMean' + col ] = dfRhs[ col ].mean()    \n",
    "    \n",
    "    return results\n",
    "\n",
    "def compareDirs( lhsDirectory, rhsDirectory ):\n",
    "    lhsfiles = [f for f in listdir(lhsDirectory) if isfile(join(lhsDirectory, f))]\n",
    "    \n",
    "    print(\"Found %d files to check.\" %(len(lhsfiles)) )\n",
    "    \n",
    "    i = 0\n",
    "    \n",
    "    data = []\n",
    "    for f in lhsfiles:\n",
    "        lhsF = join(lhsDirectory,f)\n",
    "        data.append({ 'fileName' : f  })\n",
    "        #rhsF = join(rhsDirectory,f)\n",
    "        #if isfile( rhsF ):\n",
    "        #    data.append( compareFiles(lhsF, rhsF) )\n",
    "            \n",
    "        i = i + 1\n",
    "        if i >= 100 and i % 100 == 0:\n",
    "            print(\"Files compared=[%d] Percent Complete [%f]\" % (i, 100.0 * (i / len(lhsfiles)) ))\n",
    "            \n",
    "            \n",
    "        \n",
    "    return pd.DataFrame(data)\n",
    "\n"
   ]
  },
  {
   "cell_type": "code",
   "execution_count": null,
   "metadata": {},
   "outputs": [],
   "source": [
    "\n",
    "\n",
    "df = compareDirs( lhsDir, rhsDir  )"
   ]
  },
  {
   "cell_type": "code",
   "execution_count": null,
   "metadata": {},
   "outputs": [],
   "source": [
    "\n",
    "df['diffMinlat'] = df['lhsMinlat'] - df['rhsMinlat']\n",
    "df['diffMaxlat'] = df['lhsMaxlat'] - df['rhsMaxlat']\n",
    "df['diffMinlon'] = df['lhsMinlon'] - df['rhsMinlon']\n",
    "df['diffMaxlon'] = df['lhsMaxlon'] - df['rhsMaxlon']\n",
    "df['diffMinelev'] = df['lhsMinelev'] - df['rhsMinelev']\n",
    "df['diffMaxelev'] = df['lhsMaxelev'] - df['rhsMaxelev']\n",
    "df['diffMindemDiff'] = df['lhsMindemDiff'] - df['rhsMindemDiff']\n",
    "df['diffMaxdemDiff'] = df['lhsMaxdemDiff'] - df['rhsMaxdemDiff']\n",
    "df['diffMeandemDiff'] = df['lhsMeandemDiff'] - df['rhsMeandemDiff']\n",
    "\n",
    "df.to_csv(\"check.csv\")"
   ]
  },
  {
   "cell_type": "code",
   "execution_count": null,
   "metadata": {},
   "outputs": [],
   "source": [
    "print(\"maxlat diff %f\" % (df['diffMaxlat'].max()) )\n",
    "print(\"minlat diff %f\" % (df['diffMinlat'].max()) )\n",
    "print(\"maxlon diff %f\" % (df['diffMaxlon'].max()) )\n",
    "print(\"minlon diff %f\" % (df['diffMinlon'].max()) )\n",
    "\n",
    "print(\"maxelev diff %f\" % (df['diffMaxlat'].max()) )\n",
    "print(\"minelev diff %f\" % (df['diffMinlat'].max()) )\n",
    "print(\"maxdemDiff diff %f\" % (df['diffMaxdemDiff'].max()) )\n",
    "print(\"mindemDiff diff %f\" % (df['diffMindemDiff'].max()) )\n",
    "\n",
    "print(\"minMeandemDiff diff %f\" % (df['diffMeandemDiff'].max()) )\n",
    "\n"
   ]
  },
  {
   "cell_type": "code",
   "execution_count": null,
   "metadata": {},
   "outputs": [],
   "source": [
    "df.to_csv(\"filenames.csv\")"
   ]
  },
  {
   "cell_type": "code",
   "execution_count": null,
   "metadata": {},
   "outputs": [],
   "source": [
    "\n",
    "\n",
    "f = 'CS_OFFL_SIR_SIN_2S_20181004T140511_20181004T140859_C001.nc'\n",
    "\n",
    "lhsName = lhsDir + f\n",
    "rhsName = rhsDir + f\n",
    "\n"
   ]
  },
  {
   "cell_type": "code",
   "execution_count": null,
   "metadata": {},
   "outputs": [],
   "source": []
  }
 ],
 "metadata": {
  "kernelspec": {
   "display_name": "Python 3",
   "language": "python",
   "name": "python3"
  },
  "language_info": {
   "codemirror_mode": {
    "name": "ipython",
    "version": 3
   },
   "file_extension": ".py",
   "mimetype": "text/x-python",
   "name": "python",
   "nbconvert_exporter": "python",
   "pygments_lexer": "ipython3",
   "version": "3.7.3"
  }
 },
 "nbformat": 4,
 "nbformat_minor": 2
}
