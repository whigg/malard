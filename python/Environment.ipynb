{
 "cells": [
  {
   "cell_type": "code",
   "execution_count": 4,
   "metadata": {},
   "outputs": [
    {
     "data": {
      "text/plain": [
       "'{\"name\":\"java.lang.Exception: Environment already exists DEVv2.\",\"detail\":\"java.lang.Exception: Environment already exists DEVv2.\\\\n\\\\tat com.earthwave.environment.impl.EnvironmentServiceImpl.com$earthwave$environment$impl$EnvironmentServiceImpl$$$anonfun$createEnvironment$1(EnvironmentServiceImpl.scala:38)\\\\n\\\\tat com.earthwave.environment.impl.EnvironmentServiceImpl$$anonfun$createEnvironment$2.invoke(EnvironmentServiceImpl.scala:29)\\\\n\\\\tat com.earthwave.environment.impl.EnvironmentServiceImpl$$anonfun$createEnvironment$2.invoke(EnvironmentServiceImpl.scala:29)\\\\n\\\\tat com.lightbend.lagom.scaladsl.api.ServiceCall.$anonfun$handleResponseHeader$1(ServiceCall.scala:81)\\\\n\\\\tat com.lightbend.lagom.scaladsl.api.ServiceCall$$anon$1.invoke(ServiceCall.scala:104)\\\\n\\\\tat com.lightbend.lagom.internal.scaladsl.server.ScaladslServiceRouter.invokeServiceCall(ScaladslServiceRouter.scala:98)\\\\n\\\\tat com.lightbend.lagom.internal.scaladsl.server.ScaladslServiceRouter.invokeServiceCall(ScaladslServiceRouter.scala:25)\\\\n\\\\tat com.lightbend.lagom.internal.server.ServiceRouter.$anonfun$handleServiceCall$1(ServiceRouter.scala:184)\\\\n\\\\tat scala.concurrent.Future.$anonfun$flatMap$1(Future.scala:307)\\\\n\\\\tat scala.concurrent.impl.Promise.$anonfun$transformWith$1(Promise.scala:41)\\\\n\\\\tat scala.concurrent.impl.CallbackRunnable.run(Promise.scala:64)\\\\n\\\\tat akka.dispatch.BatchingExecutor$AbstractBatch.processBatch(BatchingExecutor.scala:55)\\\\n\\\\tat akka.dispatch.BatchingExecutor$BlockableBatch.$anonfun$run$1(BatchingExecutor.scala:92)\\\\n\\\\tat scala.runtime.java8.JFunction0$mcV$sp.apply(JFunction0$mcV$sp.java:23)\\\\n\\\\tat scala.concurrent.BlockContext$.withBlockContext(BlockContext.scala:85)\\\\n\\\\tat akka.dispatch.BatchingExecutor$BlockableBatch.run(BatchingExecutor.scala:92)\\\\n\\\\tat akka.dispatch.TaskInvocation.run(AbstractDispatcher.scala:40)\\\\n\\\\tat akka.dispatch.ForkJoinExecutorConfigurator$AkkaForkJoinTask.exec(ForkJoinExecutorConfigurator.scala:49)\\\\n\\\\tat akka.dispatch.forkjoin.ForkJoinTask.doExec(ForkJoinTask.java:260)\\\\n\\\\tat akka.dispatch.forkjoin.ForkJoinPool$WorkQueue.runTask(ForkJoinPool.java:1339)\\\\n\\\\tat akka.dispatch.forkjoin.ForkJoinPool.runWorker(ForkJoinPool.java:1979)\\\\n\\\\tat akka.dispatch.forkjoin.ForkJoinWorkerThread.run(ForkJoinWorkerThread.java:107)\\\\n\"}'"
      ]
     },
     "execution_count": 4,
     "metadata": {},
     "output_type": "execute_result"
    }
   ],
   "source": [
    "import DataSetQuery\n",
    "import datetime\n",
    "\n",
    "#Sets the URL of the Malard ServiceGateway.\n",
    "query = DataSetQuery.DataSetQuery('http://localhost:9000','DEVv2')\n",
    "\n",
    "#Sets the output directory for all users of the server.\n",
    "#query.createEnvironment('DEV','/data/puma1/scratch/malard/export/','/data/puma1/scratch/malard/mask/','/data/snail1/scratch/malard/points/')\n",
    "#query.createEnvironment('JALOCALv3','C:\\\\Earthwave\\\\malard\\\\export\\\\','C:\\\\Earthwave\\\\malard\\\\masks\\\\','C:\\\\Earthwave\\\\malard\\\\Points\\\\','mongodb://localhost:27017','C:\\\\Earthwave\\\\malard\\\\intermediate\\\\')\n",
    "\n",
    "query.createEnvironment('DEVv2','/data/puma1/scratch/v2/malard/export/','/data/puma1/scratch/v2/malard/mask/','/data/snail1/scratch/v2/malard/points/','mongodb://localhost:27018','/data/puma1/scratch/v2/malard/intermediate/')\n",
    "\n",
    "\n"
   ]
  },
  {
   "cell_type": "code",
   "execution_count": 5,
   "metadata": {},
   "outputs": [
    {
     "name": "stdout",
     "output_type": "stream",
     "text": [
      "{\"shortName\":\"APS\",\"proj4\":\"+proj=stere +lat_0=-90 +lat_ts=-71 +lon_0=0 +k=1 +x_0=0 +y_0=0 +datum=WGS84 +units=m +no_defs\",\"conditions\":[\"<=-60\"]}\n"
     ]
    }
   ],
   "source": [
    "#print( query.getEnvironment('DEVv2'))\n",
    "#print( query.getEnvironment('DEV'))\n",
    "#print( query.getEnvironment('JALOCALv3'))\n",
    "\n",
    "print( query.getProjectionFromShortName('APS'))"
   ]
  },
  {
   "cell_type": "code",
   "execution_count": 3,
   "metadata": {},
   "outputs": [
    {
     "name": "stdout",
     "output_type": "stream",
     "text": [
      "Published: NPS\n",
      "Published: HMA\n",
      "Published: PAT\n",
      "Published: APS\n"
     ]
    }
   ],
   "source": [
    "projections = { 'NPS':  {'proj4' : '+proj=stere +lat_0=90 +lat_ts=70 +lon_0=-45 +k=1 +x_0=0 +y_0=0 +datum=WGS84 +units=m +no_defs','conditions':['>=52']},\n",
    "                'HMA': {'proj4' : '+proj=aea +lat_1=25 +lat_2=47 +lat_0=36 +lon_0=85 +x_0=0 +y_0=0 +ellps=WGS84 +datum=WGS84 +units=m +no_defs','conditions':['>=20','<=50']},\n",
    "                'PAT': {'proj4' : '+proj=aea +lat_1=-55 +lat_2=-45 +lat_0=-50 +lon_0=-70 +x_0=0 +y_0=0 +ellps=WGS84 +datum=WGS84 +units=m +no_def','conditions':['>-60','<=-30']},\n",
    "                'APS': {'proj4' : '+proj=stere +lat_0=-90 +lat_ts=-71 +lon_0=0 +k=1 +x_0=0 +y_0=0 +datum=WGS84 +units=m +no_defs','conditions':['<=-60']}\n",
    "              }\n",
    "\n",
    "for shortName, parameters in projections.items():\n",
    "    print(query.publishProjection(shortName, parameters['proj4'], parameters['conditions'] ))"
   ]
  },
  {
   "cell_type": "code",
   "execution_count": null,
   "metadata": {
    "scrolled": false
   },
   "outputs": [],
   "source": [
    "\n",
    "parents = ['mtngla','cryotempo']\n",
    "\n",
    "regions = { 'alaska':'NPS','antarctic':'APS','greenland':'NPS','himalayas':'HMA'}\n",
    "\n",
    "for p in parents:\n",
    "    for region,shortName in regions.items():\n",
    "        query.publishProjectionRegionMapping(p,region,shortName)\n",
    "\n"
   ]
  },
  {
   "cell_type": "code",
   "execution_count": 10,
   "metadata": {},
   "outputs": [
    {
     "data": {
      "text/plain": [
       "'{\"shortName\":\"NPS\",\"proj4\":\"+proj=stere +lat_0=90 +lat_ts=70 +lon_0=-45 +k=1 +x_0=0 +y_0=0 +datum=WGS84 +units=m +no_defs\",\"conditions\":[\">=52\"]}'"
      ]
     },
     "execution_count": 10,
     "metadata": {},
     "output_type": "execute_result"
    }
   ],
   "source": [
    "query.getProjection('cryotempo','alaska')"
   ]
  },
  {
   "cell_type": "code",
   "execution_count": null,
   "metadata": {},
   "outputs": [],
   "source": []
  }
 ],
 "metadata": {
  "kernelspec": {
   "display_name": "Python 3",
   "language": "python",
   "name": "python3"
  },
  "language_info": {
   "codemirror_mode": {
    "name": "ipython",
    "version": 3
   },
   "file_extension": ".py",
   "mimetype": "text/x-python",
   "name": "python",
   "nbconvert_exporter": "python",
   "pygments_lexer": "ipython3",
   "version": "3.6.7"
  }
 },
 "nbformat": 4,
 "nbformat_minor": 2
}
