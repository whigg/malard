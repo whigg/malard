{
 "cells": [
  {
   "cell_type": "code",
   "execution_count": 1,
   "metadata": {},
   "outputs": [
    {
     "data": {
      "text/plain": [
       "'Environment Set [test]'"
      ]
     },
     "execution_count": 1,
     "metadata": {},
     "output_type": "execute_result"
    }
   ],
   "source": [
    "import DataSetQuery\n",
    "import MalardHelpers\n",
    "import datetime\n",
    "\n",
    "#Sets the URL of the Malard ServiceGateway.\n",
    "query = DataSetQuery.DataSetQuery('http://localhost:9000')\n",
    "\n",
    "#Sets the output directory for all users of the server.\n",
    "query.setEnvironment('test','/data/puma1/scratch/malard/export/')\n",
    "\n",
    "\n"
   ]
  },
  {
   "cell_type": "code",
   "execution_count": 2,
   "metadata": {},
   "outputs": [
    {
     "name": "stdout",
     "output_type": "stream",
     "text": [
      "/data/puma1/scratch/malard/export/mtngla_tandemx_-270025030.nc\n",
      "TandemX MaxElev:[8665.295898] MinElev:[4781.474121] Points:[2632]\n",
      "Srtm MaxElev:[8665.295898] MinElev:[4781.474121] Points:[2430]\n"
     ]
    },
    {
     "data": {
      "text/plain": [
       "'Released cache file /data/puma1/scratch/malard/export/mtngla_srtm_-270025030.nc '"
      ]
     },
     "execution_count": 2,
     "metadata": {},
     "output_type": "execute_result"
    }
   ],
   "source": [
    "#Setup the bounding box\n",
    "import pandas as pd\n",
    "\n",
    "minX=0\n",
    "maxX=100000\n",
    "minY=0\n",
    "maxY=100000\n",
    "minT=datetime.datetime(2012,1,1,0,0)\n",
    "maxT=datetime.datetime(2012,1,31,0,0)\n",
    "\n",
    "#a list of columns to see in the output (x,y,time will be added)\n",
    "projections = ['lat','lon','elev','power','coh','swathFileId'] \n",
    "#a list of dictionaries that specify the filters\n",
    "#only numeric fields are supported with the following operations gt(greater than), gte ( greater than equals), lt (less than) and lte (less than equals)\n",
    "#filters are treated as and conditions\n",
    "filters = [{'column':'swathFileId','op':'gte','threshold':11783}]\n",
    "\n",
    "#No filters\n",
    "nofiltersTandemX = query.executeQuery( 'mtngla','tandemx',minX,maxX,minY,maxY,minT,maxT,projections,filters)\n",
    "print(nofiltersTandemX)\n",
    "dfTx = MalardHelpers.getDataFrameFromNetCDF(nofiltersTandemX)\n",
    "\n",
    "nofiltersSrtm = query.executeQuery( 'mtngla','srtm',minX,maxX,minY,maxY,minT,maxT,projections,filters)\n",
    "#Converts the NetCDF into a DataFrame.\n",
    "dfSrtm = MalardHelpers.getDataFrameFromNetCDF(nofiltersSrtm)\n",
    "\n",
    "print(\"TandemX MaxElev:[%f] MinElev:[%f] Points:[%d]\" % (dfTx['elev'].max(),dfTx['elev'].min(),dfTx['elev'].count()))\n",
    "print(\"Srtm MaxElev:[%f] MinElev:[%f] Points:[%d]\" % (dfSrtm['elev'].max(),dfSrtm['elev'].min(),dfSrtm['elev'].count()))\n",
    "\n",
    "\n",
    "df = pd.merge(dfTx,dfSrtm,left_on=['lat','lon'],right_on=['lat','lon'],how='left')\n",
    "\n",
    "df.to_csv(\"/data/puma1/scratch/test/alljoin.csv\")\n",
    "\n",
    "query.releaseCache(nofiltersTandemX)\n",
    "query.releaseCache(nofiltersSrtm)\n",
    "\n"
   ]
  },
  {
   "cell_type": "code",
   "execution_count": 7,
   "metadata": {},
   "outputs": [
    {
     "name": "stdout",
     "output_type": "stream",
     "text": [
      "              elev  power    coh      x      y   time\n",
      "             count  count  count  count  count  count\n",
      "swathFileId                                          \n",
      "1836         22532  22532  22506  22532  22532  22532\n",
      "2161         98289  98289  98202  98289  98289  98289\n",
      "8984         91214  91214  91140  91214  91214  91214\n",
      "11783         2632   2632   2579   2632   2632   2632\n"
     ]
    }
   ],
   "source": [
    "print(dfTx.groupby(['swathFileId']).agg(['count']))"
   ]
  },
  {
   "cell_type": "code",
   "execution_count": 8,
   "metadata": {},
   "outputs": [
    {
     "name": "stdout",
     "output_type": "stream",
     "text": [
      "              elev  power    coh      x      y   time\n",
      "             count  count  count  count  count  count\n",
      "swathFileId                                          \n",
      "1836         22309  22309  22283  22309  22309  22309\n",
      "2161         98289  98289  98202  98289  98289  98289\n",
      "8984         91214  91214  91140  91214  91214  91214\n",
      "11783         2430   2430   2377   2430   2430   2430\n"
     ]
    }
   ],
   "source": [
    "print(dfSrtm.groupby(['swathFileId']).agg(['count']))"
   ]
  },
  {
   "cell_type": "code",
   "execution_count": 13,
   "metadata": {},
   "outputs": [],
   "source": [
    "\n",
    "sourceTandemX = '/data/puma1/scratch/test/tandemx/CS_LTA__SIR_SIN_2S_20120122T040316_20120122T040631_C001.nc'\n",
    "sourceSrtm = '/data/puma1/scratch/test/srtm/CS_LTA__SIR_SIN_2S_20120122T040316_20120122T040631_C001.nc'\n",
    "\n",
    "rawTx = MalardHelpers.getDataFrameFromNetCDF(sourceTandemX)\n",
    "rawSrtm = MalardHelpers.getDataFrameFromNetCDF(sourceSrtm)\n"
   ]
  },
  {
   "cell_type": "code",
   "execution_count": 15,
   "metadata": {},
   "outputs": [
    {
     "name": "stdout",
     "output_type": "stream",
     "text": [
      "850805\n",
      "850805\n",
      "71864560.56501755\n",
      "71865290.96876465\n"
     ]
    }
   ],
   "source": [
    "print(rawTx['lat'].count())\n",
    "print(rawSrtm['lat'].count())\n",
    "\n",
    "print(rawTx['lon'].sum())\n",
    "print(rawSrtm['lon'].sum())\n",
    "\n"
   ]
  },
  {
   "cell_type": "code",
   "execution_count": 16,
   "metadata": {},
   "outputs": [],
   "source": [
    "df = pd.merge(rawTx,rawSrtm,left_on=['lat','lon'],right_on=['lat','lon'],how='inner')"
   ]
  },
  {
   "cell_type": "code",
   "execution_count": 17,
   "metadata": {},
   "outputs": [
    {
     "name": "stdout",
     "output_type": "stream",
     "text": [
      "<class 'pandas.core.frame.DataFrame'>\n",
      "Int64Index: 838949 entries, 0 to 838948\n",
      "Data columns (total 34 columns):\n",
      "lon                  838949 non-null float64\n",
      "lat                  838949 non-null float64\n",
      "elev_x               838949 non-null float32\n",
      "heading_x            838949 non-null float32\n",
      "demDiff_x            836598 non-null float32\n",
      "demDiffMad_x         836630 non-null float32\n",
      "demDiffMad2_x        836630 non-null float32\n",
      "phaseAmb_x           838949 non-null int16\n",
      "meanDiffSpread_x     838949 non-null float32\n",
      "wf_number_x          838949 non-null int16\n",
      "sampleNb_x           838949 non-null int16\n",
      "power_x              838949 non-null float32\n",
      "powerdB_x            838949 non-null float32\n",
      "phase_x              838949 non-null float32\n",
      "phaseS_x             0 non-null float32\n",
      "phaseSSegment_x      0 non-null float32\n",
      "phaseConfidence_x    0 non-null float32\n",
      "coh_x                837953 non-null float32\n",
      "elev_y               838949 non-null float32\n",
      "heading_y            838949 non-null float32\n",
      "demDiff_y            838949 non-null float32\n",
      "demDiffMad_y         838949 non-null float32\n",
      "demDiffMad2_y        838949 non-null float32\n",
      "phaseAmb_y           838949 non-null int16\n",
      "meanDiffSpread_y     838949 non-null float32\n",
      "wf_number_y          838949 non-null int16\n",
      "sampleNb_y           838949 non-null int16\n",
      "power_y              838949 non-null float32\n",
      "powerdB_y            838949 non-null float32\n",
      "phase_y              838949 non-null float32\n",
      "phaseS_y             0 non-null float32\n",
      "phaseSSegment_y      0 non-null float32\n",
      "phaseConfidence_y    0 non-null float32\n",
      "coh_y                837953 non-null float32\n",
      "dtypes: float32(26), float64(2), int16(6)\n",
      "memory usage: 112.0 MB\n"
     ]
    }
   ],
   "source": [
    "df.info()"
   ]
  },
  {
   "cell_type": "code",
   "execution_count": 18,
   "metadata": {},
   "outputs": [
    {
     "data": {
      "text/plain": [
       "838949"
      ]
     },
     "execution_count": 18,
     "metadata": {},
     "output_type": "execute_result"
    }
   ],
   "source": [
    "df['lat'].count()"
   ]
  },
  {
   "cell_type": "code",
   "execution_count": null,
   "metadata": {},
   "outputs": [],
   "source": []
  }
 ],
 "metadata": {
  "kernelspec": {
   "display_name": "Python 3",
   "language": "python",
   "name": "python3"
  },
  "language_info": {
   "codemirror_mode": {
    "name": "ipython",
    "version": 3
   },
   "file_extension": ".py",
   "mimetype": "text/x-python",
   "name": "python",
   "nbconvert_exporter": "python",
   "pygments_lexer": "ipython3",
   "version": "3.7.3"
  }
 },
 "nbformat": 4,
 "nbformat_minor": 2
}
