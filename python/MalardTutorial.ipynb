{
 "cells": [
  {
   "cell_type": "code",
   "execution_count": 3,
   "metadata": {},
   "outputs": [
    {
     "name": "stdout",
     "output_type": "stream",
     "text": [
      "{\"name\":\"DEVv2\",\"maskPublisherPath\":\"/data/puma1/scratch/v2/malard/mask/\",\"cacheCdfPath\":\"/data/puma1/scratch/v2/malard/export/\",\"pointCdfPath\":\"/data/snail1/scratch/v2/malard/points/\",\"mongoConnection\":\"mongodb://localhost:27018\"}\n",
      "[{\"name\":\"cryotempo\"},{\"name\":\"mtngla\"}]\n",
      "[{\"name\":\"publishtest\",\"region\":\"himalayas\"},{\"name\":\"ADwithTDX\",\"region\":\"alaska\"},{\"name\":\"srtm\",\"region\":\"himalayas\"},{\"name\":\"tdx\",\"region\":\"himalayas\"}]\n",
      "1291161600.0\n",
      "1293753600.0\n",
      "1291161600.0\n",
      "1293753600.0\n",
      "[{\"shardName\":\"/data/snail1/scratch/v2/mtngla/tdx/swath/y2010/m12/cell_HMA_100000_0/GridCell_0.nc\",\"minX\":100000.04722366307,\"maxX\":196902.89463615167,\"minY\":5.379702464323978,\"maxY\":99990.36552472426,\"minT\":1292154378,\"maxT\":1292543264,\"numberOfPoints\":137413},{\"shardName\":\"/data/snail1/scratch/v2/mtngla/tdx/swath/y2010/m12/cell_HMA_-100000_0/GridCell_0.nc\",\"minX\":-99867.34617715601,\"maxX\":-0.23715283634633194,\"minY\":0.5308469311114532,\"maxY\":99746.65876281458,\"minT\":1292672334,\"maxT\":1293233898,\"numberOfPoints\":107751},{\"shardName\":\"/data/snail1/scratch/v2/mtngla/tdx/swath/y2010/m12/cell_HMA_100000_100000/GridCell_0.nc\",\"minX\":100000.19976705266,\"maxX\":199989.84011273063,\"minY\":100000.16448966572,\"maxY\":199998.94461570555,\"minT\":1292154378,\"maxT\":1292715924,\"numberOfPoints\":82343},{\"shardName\":\"/data/snail1/scratch/v2/mtngla/tdx/swath/y2010/m12/cell_HMA_0_0/GridCell_0.nc\",\"minX\":0.2003949070730568,\"maxX\":99999.9139312799,\"minY\":0.16876419055912661,\"maxY\":99999.98214287328,\"minT\":1292327030,\"maxT\":1293061242,\"numberOfPoints\":234694},{\"shardName\":\"/data/snail1/scratch/v2/mtngla/tdx/swath/y2010/m12/cell_HMA_0_200000/GridCell_0.nc\",\"minX\":429.06922439755766,\"maxX\":99999.07298442555,\"minY\":200000.1803790174,\"maxY\":246487.47632425468,\"minT\":1292327030,\"maxT\":1292715924,\"numberOfPoints\":82265},{\"shardName\":\"/data/snail1/scratch/v2/mtngla/tdx/swath/y2010/m12/cell_HMA_100000_200000/GridCell_0.nc\",\"minX\":100001.0226994956,\"maxX\":199996.13437906475,\"minY\":200001.96106457745,\"maxY\":293079.630876039,\"minT\":1291981726,\"maxT\":1292715924,\"numberOfPoints\":130599},{\"shardName\":\"/data/snail1/scratch/v2/mtngla/tdx/swath/y2010/m12/cell_HMA_0_100000/GridCell_0.nc\",\"minX\":1.2978854620427454,\"maxX\":99998.11633494837,\"minY\":100000.15936735396,\"maxY\":199999.5708218924,\"minT\":1292327030,\"maxT\":1292888583,\"numberOfPoints\":285081},{\"shardName\":\"/data/snail1/scratch/v2/mtngla/tdx/swath/y2010/m12/cell_HMA_-100000_100000/GridCell_0.nc\",\"minX\":-87796.93870087292,\"maxX\":-11.898966176782622,\"minY\":100089.97801546738,\"maxY\":196245.50257569543,\"minT\":1292499682,\"maxT\":1293061242,\"numberOfPoints\":180090}]\n"
     ]
    }
   ],
   "source": [
    "import DataSetQuery\n",
    "import datetime\n",
    "\n",
    "\n",
    "environmentName = 'DEVv2'\n",
    "#Sets the URL of the Malard ServiceGateway.\n",
    "query = DataSetQuery.DataSetQuery('http://localhost:9000',environmentName)\n",
    "\n",
    "print(query.getEnvironment(environmentName))\n",
    "\n",
    "#determines the databases that store multiple datasets \n",
    "print(query.getParentDataSets())\n",
    "#retrieve the data sets for a given parent\n",
    "print(query.getDataSets('mtngla'))\n",
    "#The overall data cube for the two datasets\n",
    "\n",
    "parentDs = 'cryotempo'\n",
    "dataSet = 'GRIS_BASE_CQ2'\n",
    "region='greenland'\n",
    "\n",
    "#print(query.getDataSetBoundingBox( parentDs,dataSet,region ))\n",
    "#print(query.getDataSetBoundingBox( 'mtngla','srtm','himalayas' ))\n",
    "\n",
    "#Setup the bounding box\n",
    "minX=0\n",
    "maxX=100000\n",
    "minY=100000\n",
    "maxY=200000\n",
    "minT=datetime.datetime(2010,12,1,0,0)\n",
    "maxT=datetime.datetime(2010,12,31,0,0)\n",
    "\n",
    "print( datetime.datetime.timestamp(minT))\n",
    "print( datetime.datetime.timestamp(maxT))\n",
    "\n",
    "#Queries the catalogue and returns the gridcells grouped by x and y with the min and max times.\n",
    "#gcs = query.getGridCells(  'mtngla','tdx','himalayas',minX,maxX,minY,maxY,minT,maxT )\n",
    "#print(\"Found [%d] Grid cells\" % ( len(gcs)) )\n",
    "#print(gcs)\n",
    "#Queries the catalogue to determine the shards that comprise the bounding box of interest.\n",
    "shards = query.getShards( 'mtngla','tdx','himalayas',minX,maxX,minY,maxY,minT,maxT)\n",
    "print(shards )\n",
    "\n",
    "\n",
    "\n"
   ]
  },
  {
   "cell_type": "code",
   "execution_count": null,
   "metadata": {},
   "outputs": [],
   "source": [
    "# loads the json output of the getGridCells call and creates a flattened DataFrame.\n",
    "from pandas.io.json import json_normalize\n",
    "import json\n",
    "\n",
    "data = json.loads(gcs)\n",
    "df = json_normalize(data)\n",
    "\n",
    "print(df)\n",
    "\n",
    "#totalPoints = df['totalPoints'].sum()\n",
    "#maxNumPoints = df['totalPoints'].max()\n",
    "\n",
    "#print('TP=[%d] MaxPoints in Cell=[%d]'%(totalPoints,maxNumPoints))   \n",
    "\n"
   ]
  },
  {
   "cell_type": "code",
   "execution_count": null,
   "metadata": {},
   "outputs": [],
   "source": [
    "#Converts the Json output of the getShards call into a DataFrame.\n",
    "dataShard = json.loads(shards)\n",
    "dfShards = json_normalize(dataShard)\n",
    "\n",
    "print(dfShards['shardName'])\n"
   ]
  },
  {
   "cell_type": "code",
   "execution_count": null,
   "metadata": {},
   "outputs": [],
   "source": [
    "#Gets the available column names from the NetCDFs that are in the BoundingBox.\n",
    "print(query.getDataSetColumns( 'mtngla','tdx','himalayas',minX,maxX,minY,maxY,minT,maxT))"
   ]
  },
  {
   "cell_type": "code",
   "execution_count": null,
   "metadata": {},
   "outputs": [],
   "source": [
    "import MalardHelpers\n",
    "\n",
    "#Returns a file handle to a NetCDF that is a merge and filter of all the shards in a BoundingBox.\n",
    "fileName = query.getNetCdfFile( 'mtngla','tdx','himalayas',minX,maxX,minY,maxY,minT,maxT)\n",
    "\n",
    "print(\"File created: %s\" % (fileName))\n",
    "\n",
    "#Converts the NetCDF into a DataFrame.\n",
    "df = MalardHelpers.getDataFrameFromNetCDF(fileName)\n",
    "\n",
    "print(\"Max Elevation %f\" % (df['elev'].max()))\n",
    "print(\"Min Elevation %f\" % (df['elev'].min()))\n",
    "\n",
    "print(\"Min Coh %f\" % (df['coh'].min()))\n",
    "print(\"Min Power %f\" % (df['power'].min()))\n",
    "\n",
    "print(df[0:1])"
   ]
  },
  {
   "cell_type": "code",
   "execution_count": null,
   "metadata": {},
   "outputs": [],
   "source": [
    "\n",
    "#a list of columns to see in the output (x,y,time will be added)\n",
    "projections = ['elev','power','coh'] \n",
    "#a list of dictionaries that specify the filters\n",
    "#only numeric fields are supported with the following operations gt(greater than), gte ( greater than equals), lt (less than) and lte (less than equals)\n",
    "#filters are treated as and conditions\n",
    "filters = [{'column':'power','op':'gt','threshold':10000},{'column':'coh','op':'gt','threshold':0.8}]\n",
    "\n",
    "#No filters\n",
    "nofilters = query.executeQuery(  'mtngla','tdx','himalayas',minX,maxX,minY,maxY,minT,maxT,projections,[])\n",
    "#Converts the NetCDF into a DataFrame.\n",
    "dfNoFilter = MalardHelpers.getDataFrameFromNetCDF(nofilters)\n",
    "\n",
    "print( \"Max Coh [%f] Min Coh [%f] Max Power [%f] Min Power [%f] Count [%d]\" % ( dfNoFilter['coh'].max(),  dfNoFilter['coh'].min(), dfNoFilter['power'].max(), dfNoFilter['power'].min(), dfNoFilter['power'].count() ) )  \n",
    "\n",
    "#With filters\n",
    "withfilters = query.executeQuery( 'mtngla','tdx','himalayas',minX,maxX,minY,maxY,minT,maxT,projections,filters)\n",
    "#Converts the NetCDF into a DataFrame.\n",
    "withFilter = MalardHelpers.getDataFrameFromNetCDF(withfilters)\n",
    "\n",
    "print( \"Max Coh [%f] Min Coh [%f] Max Power [%f] Min Power [%f] Count [%d]\" % ( withFilter['coh'].max(),  withFilter['coh'].min(), withFilter['power'].max(), withFilter['power'].min(), withFilter['power'].count() ) )  \n",
    "\n",
    "print( \"Max Coh [%f] Min Coh [%f] Max Power [%f] Min Power [%f] Count [%d]\" % ( withFilter['coh'].max(),  withFilter['coh'].min(), withFilter['power'].max(), withFilter['power'].min(), withFilter['power'].count() ) )  \n"
   ]
  },
  {
   "cell_type": "code",
   "execution_count": null,
   "metadata": {},
   "outputs": [],
   "source": [
    "%matplotlib inline\n",
    "import matplotlib.pyplot as plt\n"
   ]
  },
  {
   "cell_type": "code",
   "execution_count": null,
   "metadata": {
    "scrolled": false
   },
   "outputs": [],
   "source": [
    "## plot with no filters\n",
    "plt.figure(figsize=(12,10))\n",
    "plt.scatter(x=dfNoFilter['x'], y=dfNoFilter['y'], c=dfNoFilter['elev'], marker='.', s=20, vmax=7500)\n",
    "plt.colorbar()\n",
    "plt.show()"
   ]
  },
  {
   "cell_type": "code",
   "execution_count": null,
   "metadata": {},
   "outputs": [],
   "source": [
    "## plot with filters\n",
    "plt.figure(figsize=(12,10))\n",
    "#vmin and vmax set min and max of colour bar\n",
    "plt.scatter(x=withFilter['x'], y=withFilter['y'], c=withFilter['elev'], marker='.', s=20, vmax=dfNoFilter['elev'].max(), vmin=dfNoFilter['elev'].min())\n",
    "plt.colorbar()\n",
    "plt.show()"
   ]
  },
  {
   "cell_type": "code",
   "execution_count": null,
   "metadata": {},
   "outputs": [],
   "source": [
    "\n",
    "#swathDetails - information about the source swath data and how the DataSetLoader did the gridding.\n",
    "results = query.getSwathDetails('mtngla','tdx','himalayas')\n",
    "\n",
    "print(results)\n"
   ]
  },
  {
   "cell_type": "code",
   "execution_count": null,
   "metadata": {},
   "outputs": [],
   "source": [
    "swathById = query.getSwathDetailsFromId('mtngla','tdx','himalayas',1)\n",
    "\n",
    "print(swathById)\n",
    " \n",
    "swathByName = query.getSwathDetailsFromName('mtngla','tdx','himalayas','CS_LTA__SIR_SIN_2S_20100716T075344_20100716T075554_C001.nc')\n",
    "\n",
    "print(swathByName)\n"
   ]
  },
  {
   "cell_type": "code",
   "execution_count": null,
   "metadata": {},
   "outputs": [],
   "source": [
    "#swathDetails - get all the swaths for a particular data set.\n",
    "import pandas as pd\n",
    "import MalardHelpers as m\n",
    "\n",
    "df = m.getSwathDetailsAsDataFrame('mtngla','tdx','himalayas',query)\n",
    "\n",
    "print(df[0:1])\n"
   ]
  },
  {
   "cell_type": "code",
   "execution_count": null,
   "metadata": {},
   "outputs": [],
   "source": [
    "sourcePath = '/data/snail1/scratch/test/'#put your input path in here\n",
    "fileName = 'testmask.shp'#put your test file in here\n",
    "parentDsName = 'test'\n",
    "dataSet = 'RS6'\n",
    "maskType = 'Glacier' \n",
    "region = 'HMA' \n",
    "minX = 500000 \n",
    "minY = 0 \n",
    "size = 100000 \n",
    "\n",
    "query.publishMask(sourcePath, fileName, parentDsName, dataSet, maskType, region, minX, minY, size )"
   ]
  },
  {
   "cell_type": "code",
   "execution_count": 6,
   "metadata": {
    "scrolled": true
   },
   "outputs": [
    {
     "name": "stdout",
     "output_type": "stream",
     "text": [
      "[{\"dataSet\":\"SDCv10\",\"type\":\"Debris\",\"region\":\"HMA\"},{\"dataSet\":\"RGIv60\",\"type\":\"Glacier\",\"region\":\"HMA\"}]\n"
     ]
    }
   ],
   "source": [
    "print(query.getMasks('mtngla'))"
   ]
  },
  {
   "cell_type": "code",
   "execution_count": 8,
   "metadata": {},
   "outputs": [
    {
     "name": "stdout",
     "output_type": "stream",
     "text": [
      "[{\"gridCell\":{\"minX\":-1600000,\"minY\":-100000,\"size\":100000},\"fileName\":\"/data/puma1/scratch/malard/mask/mtngla/static/RGIv60/Glacier/HMA/cell_x-1600000_y-100000_s100000/mask_Glacier_x-1600000_y-100000_s100000.gpkg\"},{\"gridCell\":{\"minX\":-1500000,\"minY\":0,\"size\":100000},\"fileName\":\"/data/puma1/scratch/malard/mask/mtngla/static/RGIv60/Glacier/HMA/cell_x-1500000_y0_s100000/mask_Glacier_x-1500000_y0_s100000.gpkg\"},{\"gridCell\":{\"minX\":-1500000,\"minY\":400000,\"size\":100000},\"fileName\":\"/data/puma1/scratch/malard/mask/mtngla/static/RGIv60/Glacier/HMA/cell_x-1500000_y400000_s100000/mask_Glacier_x-1500000_y400000_s100000.gpkg\"},{\"gridCell\":{\"minX\":-1400000,\"minY\":0,\"size\":100000},\"fileName\":\"/data/puma1/scratch/malard/mask/mtngla/static/RGIv60/Glacier/HMA/cell_x-1400000_y0_s100000/mask_Glacier_x-1400000_y0_s100000.gpkg\"},{\"gridCell\":{\"minX\":-1400000,\"minY\":100000,\"size\":100000},\"fileName\":\"/data/puma1/scratch/malard/mask/mtngla/static/RGIv60/Glacier/HMA/cell_x-1400000_y100000_s100000/mask_Glacier_x-1400000_y100000_s100000.gpkg\"},{\"gridCell\":{\"minX\":-1400000,\"minY\":400000,\"size\":100000},\"fileName\":\"/data/puma1/scratch/malard/mask/mtngla/static/RGIv60/Glacier/HMA/cell_x-1400000_y400000_s100000/mask_Glacier_x-1400000_y400000_s100000.gpkg\"},{\"gridCell\":{\"minX\":-1400000,\"minY\":500000,\"size\":100000},\"fileName\":\"/data/puma1/scratch/malard/mask/mtngla/static/RGIv60/Glacier/HMA/cell_x-1400000_y500000_s100000/mask_Glacier_x-1400000_y500000_s100000.gpkg\"},{\"gridCell\":{\"minX\":-1300000,\"minY\":0,\"size\":100000},\"fileName\":\"/data/puma1/scratch/malard/mask/mtngla/static/RGIv60/Glacier/HMA/cell_x-1300000_y0_s100000/mask_Glacier_x-1300000_y0_s100000.gpkg\"},{\"gridCell\":{\"minX\":-1300000,\"minY\":500000,\"size\":100000},\"fileName\":\"/data/puma1/scratch/malard/mask/mtngla/static/RGIv60/Glacier/HMA/cell_x-1300000_y500000_s100000/mask_Glacier_x-1300000_y500000_s100000.gpkg\"},{\"gridCell\":{\"minX\":-1300000,\"minY\":100000,\"size\":100000},\"fileName\":\"/data/puma1/scratch/malard/mask/mtngla/static/RGIv60/Glacier/HMA/cell_x-1300000_y100000_s100000/mask_Glacier_x-1300000_y100000_s100000.gpkg\"},{\"gridCell\":{\"minX\":-1300000,\"minY\":300000,\"size\":100000},\"fileName\":\"/data/puma1/scratch/malard/mask/mtngla/static/RGIv60/Glacier/HMA/cell_x-1300000_y300000_s100000/mask_Glacier_x-1300000_y300000_s100000.gpkg\"},{\"gridCell\":{\"minX\":-1300000,\"minY\":200000,\"size\":100000},\"fileName\":\"/data/puma1/scratch/malard/mask/mtngla/static/RGIv60/Glacier/HMA/cell_x-1300000_y200000_s100000/mask_Glacier_x-1300000_y200000_s100000.gpkg\"},{\"gridCell\":{\"minX\":-1300000,\"minY\":700000,\"size\":100000},\"fileName\":\"/data/puma1/scratch/malard/mask/mtngla/static/RGIv60/Glacier/HMA/cell_x-1300000_y700000_s100000/mask_Glacier_x-1300000_y700000_s100000.gpkg\"},{\"gridCell\":{\"minX\":-1300000,\"minY\":400000,\"size\":100000},\"fileName\":\"/data/puma1/scratch/malard/mask/mtngla/static/RGIv60/Glacier/HMA/cell_x-1300000_y400000_s100000/mask_Glacier_x-1300000_y400000_s100000.gpkg\"},{\"gridCell\":{\"minX\":-1200000,\"minY\":-100000,\"size\":100000},\"fileName\":\"/data/puma1/scratch/malard/mask/mtngla/static/RGIv60/Glacier/HMA/cell_x-1200000_y-100000_s100000/mask_Glacier_x-1200000_y-100000_s100000.gpkg\"},{\"gridCell\":{\"minX\":-1200000,\"minY\":0,\"size\":100000},\"fileName\":\"/data/puma1/scratch/malard/mask/mtngla/static/RGIv60/Glacier/HMA/cell_x-1200000_y0_s100000/mask_Glacier_x-1200000_y0_s100000.gpkg\"},{\"gridCell\":{\"minX\":-1200000,\"minY\":100000,\"size\":100000},\"fileName\":\"/data/puma1/scratch/malard/mask/mtngla/static/RGIv60/Glacier/HMA/cell_x-1200000_y100000_s100000/mask_Glacier_x-1200000_y100000_s100000.gpkg\"},{\"gridCell\":{\"minX\":-1200000,\"minY\":200000,\"size\":100000},\"fileName\":\"/data/puma1/scratch/malard/mask/mtngla/static/RGIv60/Glacier/HMA/cell_x-1200000_y200000_s100000/mask_Glacier_x-1200000_y200000_s100000.gpkg\"},{\"gridCell\":{\"minX\":-1200000,\"minY\":500000,\"size\":100000},\"fileName\":\"/data/puma1/scratch/malard/mask/mtngla/static/RGIv60/Glacier/HMA/cell_x-1200000_y500000_s100000/mask_Glacier_x-1200000_y500000_s100000.gpkg\"},{\"gridCell\":{\"minX\":-1200000,\"minY\":600000,\"size\":100000},\"fileName\":\"/data/puma1/scratch/malard/mask/mtngla/static/RGIv60/Glacier/HMA/cell_x-1200000_y600000_s100000/mask_Glacier_x-1200000_y600000_s100000.gpkg\"},{\"gridCell\":{\"minX\":-1200000,\"minY\":700000,\"size\":100000},\"fileName\":\"/data/puma1/scratch/malard/mask/mtngla/static/RGIv60/Glacier/HMA/cell_x-1200000_y700000_s100000/mask_Glacier_x-1200000_y700000_s100000.gpkg\"},{\"gridCell\":{\"minX\":-1200000,\"minY\":300000,\"size\":100000},\"fileName\":\"/data/puma1/scratch/malard/mask/mtngla/static/RGIv60/Glacier/HMA/cell_x-1200000_y300000_s100000/mask_Glacier_x-1200000_y300000_s100000.gpkg\"},{\"gridCell\":{\"minX\":-1200000,\"minY\":400000,\"size\":100000},\"fileName\":\"/data/puma1/scratch/malard/mask/mtngla/static/RGIv60/Glacier/HMA/cell_x-1200000_y400000_s100000/mask_Glacier_x-1200000_y400000_s100000.gpkg\"},{\"gridCell\":{\"minX\":-1200000,\"minY\":800000,\"size\":100000},\"fileName\":\"/data/puma1/scratch/malard/mask/mtngla/static/RGIv60/Glacier/HMA/cell_x-1200000_y800000_s100000/mask_Glacier_x-1200000_y800000_s100000.gpkg\"},{\"gridCell\":{\"minX\":-1100000,\"minY\":-200000,\"size\":100000},\"fileName\":\"/data/puma1/scratch/malard/mask/mtngla/static/RGIv60/Glacier/HMA/cell_x-1100000_y-200000_s100000/mask_Glacier_x-1100000_y-200000_s100000.gpkg\"},{\"gridCell\":{\"minX\":-1100000,\"minY\":-100000,\"size\":100000},\"fileName\":\"/data/puma1/scratch/malard/mask/mtngla/static/RGIv60/Glacier/HMA/cell_x-1100000_y-100000_s100000/mask_Glacier_x-1100000_y-100000_s100000.gpkg\"},{\"gridCell\":{\"minX\":-1100000,\"minY\":0,\"size\":100000},\"fileName\":\"/data/puma1/scratch/malard/mask/mtngla/static/RGIv60/Glacier/HMA/cell_x-1100000_y0_s100000/mask_Glacier_x-1100000_y0_s100000.gpkg\"},{\"gridCell\":{\"minX\":-1100000,\"minY\":100000,\"size\":100000},\"fileName\":\"/data/puma1/scratch/malard/mask/mtngla/static/RGIv60/Glacier/HMA/cell_x-1100000_y100000_s100000/mask_Glacier_x-1100000_y100000_s100000.gpkg\"},{\"gridCell\":{\"minX\":-1100000,\"minY\":200000,\"size\":100000},\"fileName\":\"/data/puma1/scratch/malard/mask/mtngla/static/RGIv60/Glacier/HMA/cell_x-1100000_y200000_s100000/mask_Glacier_x-1100000_y200000_s100000.gpkg\"},{\"gridCell\":{\"minX\":-1100000,\"minY\":400000,\"size\":100000},\"fileName\":\"/data/puma1/scratch/malard/mask/mtngla/static/RGIv60/Glacier/HMA/cell_x-1100000_y400000_s100000/mask_Glacier_x-1100000_y400000_s100000.gpkg\"},{\"gridCell\":{\"minX\":-1100000,\"minY\":500000,\"size\":100000},\"fileName\":\"/data/puma1/scratch/malard/mask/mtngla/static/RGIv60/Glacier/HMA/cell_x-1100000_y500000_s100000/mask_Glacier_x-1100000_y500000_s100000.gpkg\"},{\"gridCell\":{\"minX\":-1100000,\"minY\":300000,\"size\":100000},\"fileName\":\"/data/puma1/scratch/malard/mask/mtngla/static/RGIv60/Glacier/HMA/cell_x-1100000_y300000_s100000/mask_Glacier_x-1100000_y300000_s100000.gpkg\"},{\"gridCell\":{\"minX\":-1100000,\"minY\":700000,\"size\":100000},\"fileName\":\"/data/puma1/scratch/malard/mask/mtngla/static/RGIv60/Glacier/HMA/cell_x-1100000_y700000_s100000/mask_Glacier_x-1100000_y700000_s100000.gpkg\"},{\"gridCell\":{\"minX\":-1000000,\"minY\":-200000,\"size\":100000},\"fileName\":\"/data/puma1/scratch/malard/mask/mtngla/static/RGIv60/Glacier/HMA/cell_x-1000000_y-200000_s100000/mask_Glacier_x-1000000_y-200000_s100000.gpkg\"},{\"gridCell\":{\"minX\":-1000000,\"minY\":-300000,\"size\":100000},\"fileName\":\"/data/puma1/scratch/malard/mask/mtngla/static/RGIv60/Glacier/HMA/cell_x-1000000_y-300000_s100000/mask_Glacier_x-1000000_y-300000_s100000.gpkg\"},{\"gridCell\":{\"minX\":-1000000,\"minY\":-100000,\"size\":100000},\"fileName\":\"/data/puma1/scratch/malard/mask/mtngla/static/RGIv60/Glacier/HMA/cell_x-1000000_y-100000_s100000/mask_Glacier_x-1000000_y-100000_s100000.gpkg\"},{\"gridCell\":{\"minX\":-1000000,\"minY\":200000,\"size\":100000},\"fileName\":\"/data/puma1/scratch/malard/mask/mtngla/static/RGIv60/Glacier/HMA/cell_x-1000000_y200000_s100000/mask_Glacier_x-1000000_y200000_s100000.gpkg\"},{\"gridCell\":{\"minX\":-1000000,\"minY\":300000,\"size\":100000},\"fileName\":\"/data/puma1/scratch/malard/mask/mtngla/static/RGIv60/Glacier/HMA/cell_x-1000000_y300000_s100000/mask_Glacier_x-1000000_y300000_s100000.gpkg\"},{\"gridCell\":{\"minX\":-1000000,\"minY\":0,\"size\":100000},\"fileName\":\"/data/puma1/scratch/malard/mask/mtngla/static/RGIv60/Glacier/HMA/cell_x-1000000_y0_s100000/mask_Glacier_x-1000000_y0_s100000.gpkg\"},{\"gridCell\":{\"minX\":-1000000,\"minY\":600000,\"size\":100000},\"fileName\":\"/data/puma1/scratch/malard/mask/mtngla/static/RGIv60/Glacier/HMA/cell_x-1000000_y600000_s100000/mask_Glacier_x-1000000_y600000_s100000.gpkg\"},{\"gridCell\":{\"minX\":-1000000,\"minY\":500000,\"size\":100000},\"fileName\":\"/data/puma1/scratch/malard/mask/mtngla/static/RGIv60/Glacier/HMA/cell_x-1000000_y500000_s100000/mask_Glacier_x-1000000_y500000_s100000.gpkg\"},{\"gridCell\":{\"minX\":-1000000,\"minY\":400000,\"size\":100000},\"fileName\":\"/data/puma1/scratch/malard/mask/mtngla/static/RGIv60/Glacier/HMA/cell_x-1000000_y400000_s100000/mask_Glacier_x-1000000_y400000_s100000.gpkg\"},{\"gridCell\":{\"minX\":-1000000,\"minY\":700000,\"size\":100000},\"fileName\":\"/data/puma1/scratch/malard/mask/mtngla/static/RGIv60/Glacier/HMA/cell_x-1000000_y700000_s100000/mask_Glacier_x-1000000_y700000_s100000.gpkg\"},{\"gridCell\":{\"minX\":-1000000,\"minY\":100000,\"size\":100000},\"fileName\":\"/data/puma1/scratch/malard/mask/mtngla/static/RGIv60/Glacier/HMA/cell_x-1000000_y100000_s100000/mask_Glacier_x-1000000_y100000_s100000.gpkg\"},{\"gridCell\":{\"minX\":-900000,\"minY\":-200000,\"size\":100000},\"fileName\":\"/data/puma1/scratch/malard/mask/mtngla/static/RGIv60/Glacier/HMA/cell_x-900000_y-200000_s100000/mask_Glacier_x-900000_y-200000_s100000.gpkg\"},{\"gridCell\":{\"minX\":-900000,\"minY\":-400000,\"size\":100000},\"fileName\":\"/data/puma1/scratch/malard/mask/mtngla/static/RGIv60/Glacier/HMA/cell_x-900000_y-400000_s100000/mask_Glacier_x-900000_y-400000_s100000.gpkg\"},{\"gridCell\":{\"minX\":-900000,\"minY\":-300000,\"size\":100000},\"fileName\":\"/data/puma1/scratch/malard/mask/mtngla/static/RGIv60/Glacier/HMA/cell_x-900000_y-300000_s100000/mask_Glacier_x-900000_y-300000_s100000.gpkg\"},{\"gridCell\":{\"minX\":-900000,\"minY\":-100000,\"size\":100000},\"fileName\":\"/data/puma1/scratch/malard/mask/mtngla/static/RGIv60/Glacier/HMA/cell_x-900000_y-100000_s100000/mask_Glacier_x-900000_y-100000_s100000.gpkg\"},{\"gridCell\":{\"minX\":-900000,\"minY\":200000,\"size\":100000},\"fileName\":\"/data/puma1/scratch/malard/mask/mtngla/static/RGIv60/Glacier/HMA/cell_x-900000_y200000_s100000/mask_Glacier_x-900000_y200000_s100000.gpkg\"},{\"gridCell\":{\"minX\":-900000,\"minY\":400000,\"size\":100000},\"fileName\":\"/data/puma1/scratch/malard/mask/mtngla/static/RGIv60/Glacier/HMA/cell_x-900000_y400000_s100000/mask_Glacier_x-900000_y400000_s100000.gpkg\"},{\"gridCell\":{\"minX\":-900000,\"minY\":300000,\"size\":100000},\"fileName\":\"/data/puma1/scratch/malard/mask/mtngla/static/RGIv60/Glacier/HMA/cell_x-900000_y300000_s100000/mask_Glacier_x-900000_y300000_s100000.gpkg\"},{\"gridCell\":{\"minX\":-900000,\"minY\":500000,\"size\":100000},\"fileName\":\"/data/puma1/scratch/malard/mask/mtngla/static/RGIv60/Glacier/HMA/cell_x-900000_y500000_s100000/mask_Glacier_x-900000_y500000_s100000.gpkg\"},{\"gridCell\":{\"minX\":-900000,\"minY\":100000,\"size\":100000},\"fileName\":\"/data/puma1/scratch/malard/mask/mtngla/static/RGIv60/Glacier/HMA/cell_x-900000_y100000_s100000/mask_Glacier_x-900000_y100000_s100000.gpkg\"},{\"gridCell\":{\"minX\":-900000,\"minY\":600000,\"size\":100000},\"fileName\":\"/data/puma1/scratch/malard/mask/mtngla/static/RGIv60/Glacier/HMA/cell_x-900000_y600000_s100000/mask_Glacier_x-900000_y600000_s100000.gpkg\"},{\"gridCell\":{\"minX\":-900000,\"minY\":0,\"size\":100000},\"fileName\":\"/data/puma1/scratch/malard/mask/mtngla/static/RGIv60/Glacier/HMA/cell_x-900000_y0_s100000/mask_Glacier_x-900000_y0_s100000.gpkg\"},{\"gridCell\":{\"minX\":-900000,\"minY\":700000,\"size\":100000},\"fileName\":\"/data/puma1/scratch/malard/mask/mtngla/static/RGIv60/Glacier/HMA/cell_x-900000_y700000_s100000/mask_Glacier_x-900000_y700000_s100000.gpkg\"},{\"gridCell\":{\"minX\":-800000,\"minY\":-500000,\"size\":100000},\"fileName\":\"/data/puma1/scratch/malard/mask/mtngla/static/RGIv60/Glacier/HMA/cell_x-800000_y-500000_s100000/mask_Glacier_x-800000_y-500000_s100000.gpkg\"},{\"gridCell\":{\"minX\":-800000,\"minY\":-400000,\"size\":100000},\"fileName\":\"/data/puma1/scratch/malard/mask/mtngla/static/RGIv60/Glacier/HMA/cell_x-800000_y-400000_s100000/mask_Glacier_x-800000_y-400000_s100000.gpkg\"},{\"gridCell\":{\"minX\":-800000,\"minY\":-200000,\"size\":100000},\"fileName\":\"/data/puma1/scratch/malard/mask/mtngla/static/RGIv60/Glacier/HMA/cell_x-800000_y-200000_s100000/mask_Glacier_x-800000_y-200000_s100000.gpkg\"},{\"gridCell\":{\"minX\":-800000,\"minY\":-300000,\"size\":100000},\"fileName\":\"/data/puma1/scratch/malard/mask/mtngla/static/RGIv60/Glacier/HMA/cell_x-800000_y-300000_s100000/mask_Glacier_x-800000_y-300000_s100000.gpkg\"},{\"gridCell\":{\"minX\":-800000,\"minY\":-100000,\"size\":100000},\"fileName\":\"/data/puma1/scratch/malard/mask/mtngla/static/RGIv60/Glacier/HMA/cell_x-800000_y-100000_s100000/mask_Glacier_x-800000_y-100000_s100000.gpkg\"},{\"gridCell\":{\"minX\":-800000,\"minY\":100000,\"size\":100000},\"fileName\":\"/data/puma1/scratch/malard/mask/mtngla/static/RGIv60/Glacier/HMA/cell_x-800000_y100000_s100000/mask_Glacier_x-800000_y100000_s100000.gpkg\"},{\"gridCell\":{\"minX\":-800000,\"minY\":200000,\"size\":100000},\"fileName\":\"/data/puma1/scratch/malard/mask/mtngla/static/RGIv60/Glacier/HMA/cell_x-800000_y200000_s100000/mask_Glacier_x-800000_y200000_s100000.gpkg\"},{\"gridCell\":{\"minX\":-800000,\"minY\":300000,\"size\":100000},\"fileName\":\"/data/puma1/scratch/malard/mask/mtngla/static/RGIv60/Glacier/HMA/cell_x-800000_y300000_s100000/mask_Glacier_x-800000_y300000_s100000.gpkg\"},{\"gridCell\":{\"minX\":-800000,\"minY\":500000,\"size\":100000},\"fileName\":\"/data/puma1/scratch/malard/mask/mtngla/static/RGIv60/Glacier/HMA/cell_x-800000_y500000_s100000/mask_Glacier_x-800000_y500000_s100000.gpkg\"},{\"gridCell\":{\"minX\":-800000,\"minY\":0,\"size\":100000},\"fileName\":\"/data/puma1/scratch/malard/mask/mtngla/static/RGIv60/Glacier/HMA/cell_x-800000_y0_s100000/mask_Glacier_x-800000_y0_s100000.gpkg\"},{\"gridCell\":{\"minX\":-800000,\"minY\":800000,\"size\":100000},\"fileName\":\"/data/puma1/scratch/malard/mask/mtngla/static/RGIv60/Glacier/HMA/cell_x-800000_y800000_s100000/mask_Glacier_x-800000_y800000_s100000.gpkg\"},{\"gridCell\":{\"minX\":-800000,\"minY\":700000,\"size\":100000},\"fileName\":\"/data/puma1/scratch/malard/mask/mtngla/static/RGIv60/Glacier/HMA/cell_x-800000_y700000_s100000/mask_Glacier_x-800000_y700000_s100000.gpkg\"},{\"gridCell\":{\"minX\":-800000,\"minY\":600000,\"size\":100000},\"fileName\":\"/data/puma1/scratch/malard/mask/mtngla/static/RGIv60/Glacier/HMA/cell_x-800000_y600000_s100000/mask_Glacier_x-800000_y600000_s100000.gpkg\"},{\"gridCell\":{\"minX\":-700000,\"minY\":-600000,\"size\":100000},\"fileName\":\"/data/puma1/scratch/malard/mask/mtngla/static/RGIv60/Glacier/HMA/cell_x-700000_y-600000_s100000/mask_Glacier_x-700000_y-600000_s100000.gpkg\"},{\"gridCell\":{\"minX\":-700000,\"minY\":-500000,\"size\":100000},\"fileName\":\"/data/puma1/scratch/malard/mask/mtngla/static/RGIv60/Glacier/HMA/cell_x-700000_y-500000_s100000/mask_Glacier_x-700000_y-500000_s100000.gpkg\"},{\"gridCell\":{\"minX\":-700000,\"minY\":-400000,\"size\":100000},\"fileName\":\"/data/puma1/scratch/malard/mask/mtngla/static/RGIv60/Glacier/HMA/cell_x-700000_y-400000_s100000/mask_Glacier_x-700000_y-400000_s100000.gpkg\"},{\"gridCell\":{\"minX\":-700000,\"minY\":-300000,\"size\":100000},\"fileName\":\"/data/puma1/scratch/malard/mask/mtngla/static/RGIv60/Glacier/HMA/cell_x-700000_y-300000_s100000/mask_Glacier_x-700000_y-300000_s100000.gpkg\"},{\"gridCell\":{\"minX\":-700000,\"minY\":100000,\"size\":100000},\"fileName\":\"/data/puma1/scratch/malard/mask/mtngla/static/RGIv60/Glacier/HMA/cell_x-700000_y100000_s100000/mask_Glacier_x-700000_y100000_s100000.gpkg\"},{\"gridCell\":{\"minX\":-700000,\"minY\":-200000,\"size\":100000},\"fileName\":\"/data/puma1/scratch/malard/mask/mtngla/static/RGIv60/Glacier/HMA/cell_x-700000_y-200000_s100000/mask_Glacier_x-700000_y-200000_s100000.gpkg\"},{\"gridCell\":{\"minX\":-700000,\"minY\":0,\"size\":100000},\"fileName\":\"/data/puma1/scratch/malard/mask/mtngla/static/RGIv60/Glacier/HMA/cell_x-700000_y0_s100000/mask_Glacier_x-700000_y0_s100000.gpkg\"},{\"gridCell\":{\"minX\":-700000,\"minY\":500000,\"size\":100000},\"fileName\":\"/data/puma1/scratch/malard/mask/mtngla/static/RGIv60/Glacier/HMA/cell_x-700000_y500000_s100000/mask_Glacier_x-700000_y500000_s100000.gpkg\"},{\"gridCell\":{\"minX\":-700000,\"minY\":600000,\"size\":100000},\"fileName\":\"/data/puma1/scratch/malard/mask/mtngla/static/RGIv60/Glacier/HMA/cell_x-700000_y600000_s100000/mask_Glacier_x-700000_y600000_s100000.gpkg\"},{\"gridCell\":{\"minX\":-700000,\"minY\":-100000,\"size\":100000},\"fileName\":\"/data/puma1/scratch/malard/mask/mtngla/static/RGIv60/Glacier/HMA/cell_x-700000_y-100000_s100000/mask_Glacier_x-700000_y-100000_s100000.gpkg\"},{\"gridCell\":{\"minX\":-700000,\"minY\":700000,\"size\":100000},\"fileName\":\"/data/puma1/scratch/malard/mask/mtngla/static/RGIv60/Glacier/HMA/cell_x-700000_y700000_s100000/mask_Glacier_x-700000_y700000_s100000.gpkg\"},{\"gridCell\":{\"minX\":-700000,\"minY\":800000,\"size\":100000},\"fileName\":\"/data/puma1/scratch/malard/mask/mtngla/static/RGIv60/Glacier/HMA/cell_x-700000_y800000_s100000/mask_Glacier_x-700000_y800000_s100000.gpkg\"},{\"gridCell\":{\"minX\":-600000,\"minY\":-700000,\"size\":100000},\"fileName\":\"/data/puma1/scratch/malard/mask/mtngla/static/RGIv60/Glacier/HMA/cell_x-600000_y-700000_s100000/mask_Glacier_x-600000_y-700000_s100000.gpkg\"},{\"gridCell\":{\"minX\":-600000,\"minY\":-500000,\"size\":100000},\"fileName\":\"/data/puma1/scratch/malard/mask/mtngla/static/RGIv60/Glacier/HMA/cell_x-600000_y-500000_s100000/mask_Glacier_x-600000_y-500000_s100000.gpkg\"},{\"gridCell\":{\"minX\":-600000,\"minY\":-600000,\"size\":100000},\"fileName\":\"/data/puma1/scratch/malard/mask/mtngla/static/RGIv60/Glacier/HMA/cell_x-600000_y-600000_s100000/mask_Glacier_x-600000_y-600000_s100000.gpkg\"},{\"gridCell\":{\"minX\":-600000,\"minY\":-400000,\"size\":100000},\"fileName\":\"/data/puma1/scratch/malard/mask/mtngla/static/RGIv60/Glacier/HMA/cell_x-600000_y-400000_s100000/mask_Glacier_x-600000_y-400000_s100000.gpkg\"},{\"gridCell\":{\"minX\":-600000,\"minY\":-300000,\"size\":100000},\"fileName\":\"/data/puma1/scratch/malard/mask/mtngla/static/RGIv60/Glacier/HMA/cell_x-600000_y-300000_s100000/mask_Glacier_x-600000_y-300000_s100000.gpkg\"},{\"gridCell\":{\"minX\":-600000,\"minY\":-200000,\"size\":100000},\"fileName\":\"/data/puma1/scratch/malard/mask/mtngla/static/RGIv60/Glacier/HMA/cell_x-600000_y-200000_s100000/mask_Glacier_x-600000_y-200000_s100000.gpkg\"},{\"gridCell\":{\"minX\":-600000,\"minY\":100000,\"size\":100000},\"fileName\":\"/data/puma1/scratch/malard/mask/mtngla/static/RGIv60/Glacier/HMA/cell_x-600000_y100000_s100000/mask_Glacier_x-600000_y100000_s100000.gpkg\"},{\"gridCell\":{\"minX\":-600000,\"minY\":0,\"size\":100000},\"fileName\":\"/data/puma1/scratch/malard/mask/mtngla/static/RGIv60/Glacier/HMA/cell_x-600000_y0_s100000/mask_Glacier_x-600000_y0_s100000.gpkg\"},{\"gridCell\":{\"minX\":-600000,\"minY\":-100000,\"size\":100000},\"fileName\":\"/data/puma1/scratch/malard/mask/mtngla/static/RGIv60/Glacier/HMA/cell_x-600000_y-100000_s100000/mask_Glacier_x-600000_y-100000_s100000.gpkg\"},{\"gridCell\":{\"minX\":-600000,\"minY\":500000,\"size\":100000},\"fileName\":\"/data/puma1/scratch/malard/mask/mtngla/static/RGIv60/Glacier/HMA/cell_x-600000_y500000_s100000/mask_Glacier_x-600000_y500000_s100000.gpkg\"},{\"gridCell\":{\"minX\":-600000,\"minY\":600000,\"size\":100000},\"fileName\":\"/data/puma1/scratch/malard/mask/mtngla/static/RGIv60/Glacier/HMA/cell_x-600000_y600000_s100000/mask_Glacier_x-600000_y600000_s100000.gpkg\"},{\"gridCell\":{\"minX\":-600000,\"minY\":700000,\"size\":100000},\"fileName\":\"/data/puma1/scratch/malard/mask/mtngla/static/RGIv60/Glacier/HMA/cell_x-600000_y700000_s100000/mask_Glacier_x-600000_y700000_s100000.gpkg\"},{\"gridCell\":{\"minX\":-600000,\"minY\":800000,\"size\":100000},\"fileName\":\"/data/puma1/scratch/malard/mask/mtngla/static/RGIv60/Glacier/HMA/cell_x-600000_y800000_s100000/mask_Glacier_x-600000_y800000_s100000.gpkg\"},{\"gridCell\":{\"minX\":-500000,\"minY\":-600000,\"size\":100000},\"fileName\":\"/data/puma1/scratch/malard/mask/mtngla/static/RGIv60/Glacier/HMA/cell_x-500000_y-600000_s100000/mask_Glacier_x-500000_y-600000_s100000.gpkg\"},{\"gridCell\":{\"minX\":-500000,\"minY\":-700000,\"size\":100000},\"fileName\":\"/data/puma1/scratch/malard/mask/mtngla/static/RGIv60/Glacier/HMA/cell_x-500000_y-700000_s100000/mask_Glacier_x-500000_y-700000_s100000.gpkg\"},{\"gridCell\":{\"minX\":-500000,\"minY\":-400000,\"size\":100000},\"fileName\":\"/data/puma1/scratch/malard/mask/mtngla/static/RGIv60/Glacier/HMA/cell_x-500000_y-400000_s100000/mask_Glacier_x-500000_y-400000_s100000.gpkg\"},{\"gridCell\":{\"minX\":-500000,\"minY\":-500000,\"size\":100000},\"fileName\":\"/data/puma1/scratch/malard/mask/mtngla/static/RGIv60/Glacier/HMA/cell_x-500000_y-500000_s100000/mask_Glacier_x-500000_y-500000_s100000.gpkg\"},{\"gridCell\":{\"minX\":-500000,\"minY\":-300000,\"size\":100000},\"fileName\":\"/data/puma1/scratch/malard/mask/mtngla/static/RGIv60/Glacier/HMA/cell_x-500000_y-300000_s100000/mask_Glacier_x-500000_y-300000_s100000.gpkg\"},{\"gridCell\":{\"minX\":-500000,\"minY\":-200000,\"size\":100000},\"fileName\":\"/data/puma1/scratch/malard/mask/mtngla/static/RGIv60/Glacier/HMA/cell_x-500000_y-200000_s100000/mask_Glacier_x-500000_y-200000_s100000.gpkg\"},{\"gridCell\":{\"minX\":-500000,\"minY\":-100000,\"size\":100000},\"fileName\":\"/data/puma1/scratch/malard/mask/mtngla/static/RGIv60/Glacier/HMA/cell_x-500000_y-100000_s100000/mask_Glacier_x-500000_y-100000_s100000.gpkg\"},{\"gridCell\":{\"minX\":-500000,\"minY\":0,\"size\":100000},\"fileName\":\"/data/puma1/scratch/malard/mask/mtngla/static/RGIv60/Glacier/HMA/cell_x-500000_y0_s100000/mask_Glacier_x-500000_y0_s100000.gpkg\"},{\"gridCell\":{\"minX\":-500000,\"minY\":600000,\"size\":100000},\"fileName\":\"/data/puma1/scratch/malard/mask/mtngla/static/RGIv60/Glacier/HMA/cell_x-500000_y600000_s100000/mask_Glacier_x-500000_y600000_s100000.gpkg\"},{\"gridCell\":{\"minX\":-500000,\"minY\":700000,\"size\":100000},\"fileName\":\"/data/puma1/scratch/malard/mask/mtngla/static/RGIv60/Glacier/HMA/cell_x-500000_y700000_s100000/mask_Glacier_x-500000_y700000_s100000.gpkg\"},{\"gridCell\":{\"minX\":-400000,\"minY\":-800000,\"size\":100000},\"fileName\":\"/data/puma1/scratch/malard/mask/mtngla/static/RGIv60/Glacier/HMA/cell_x-400000_y-800000_s100000/mask_Glacier_x-400000_y-800000_s100000.gpkg\"},{\"gridCell\":{\"minX\":-400000,\"minY\":-700000,\"size\":100000},\"fileName\":\"/data/puma1/scratch/malard/mask/mtngla/static/RGIv60/Glacier/HMA/cell_x-400000_y-700000_s100000/mask_Glacier_x-400000_y-700000_s100000.gpkg\"},{\"gridCell\":{\"minX\":-400000,\"minY\":-600000,\"size\":100000},\"fileName\":\"/data/puma1/scratch/malard/mask/mtngla/static/RGIv60/Glacier/HMA/cell_x-400000_y-600000_s100000/mask_Glacier_x-400000_y-600000_s100000.gpkg\"},{\"gridCell\":{\"minX\":-400000,\"minY\":-500000,\"size\":100000},\"fileName\":\"/data/puma1/scratch/malard/mask/mtngla/static/RGIv60/Glacier/HMA/cell_x-400000_y-500000_s100000/mask_Glacier_x-400000_y-500000_s100000.gpkg\"},{\"gridCell\":{\"minX\":-400000,\"minY\":-300000,\"size\":100000},\"fileName\":\"/data/puma1/scratch/malard/mask/mtngla/static/RGIv60/Glacier/HMA/cell_x-400000_y-300000_s100000/mask_Glacier_x-400000_y-300000_s100000.gpkg\"},{\"gridCell\":{\"minX\":-400000,\"minY\":-400000,\"size\":100000},\"fileName\":\"/data/puma1/scratch/malard/mask/mtngla/static/RGIv60/Glacier/HMA/cell_x-400000_y-400000_s100000/mask_Glacier_x-400000_y-400000_s100000.gpkg\"},{\"gridCell\":{\"minX\":-400000,\"minY\":-100000,\"size\":100000},\"fileName\":\"/data/puma1/scratch/malard/mask/mtngla/static/RGIv60/Glacier/HMA/cell_x-400000_y-100000_s100000/mask_Glacier_x-400000_y-100000_s100000.gpkg\"},{\"gridCell\":{\"minX\":-400000,\"minY\":-200000,\"size\":100000},\"fileName\":\"/data/puma1/scratch/malard/mask/mtngla/static/RGIv60/Glacier/HMA/cell_x-400000_y-200000_s100000/mask_Glacier_x-400000_y-200000_s100000.gpkg\"},{\"gridCell\":{\"minX\":-400000,\"minY\":0,\"size\":100000},\"fileName\":\"/data/puma1/scratch/malard/mask/mtngla/static/RGIv60/Glacier/HMA/cell_x-400000_y0_s100000/mask_Glacier_x-400000_y0_s100000.gpkg\"},{\"gridCell\":{\"minX\":-400000,\"minY\":600000,\"size\":100000},\"fileName\":\"/data/puma1/scratch/malard/mask/mtngla/static/RGIv60/Glacier/HMA/cell_x-400000_y600000_s100000/mask_Glacier_x-400000_y600000_s100000.gpkg\"},{\"gridCell\":{\"minX\":-400000,\"minY\":700000,\"size\":100000},\"fileName\":\"/data/puma1/scratch/malard/mask/mtngla/static/RGIv60/Glacier/HMA/cell_x-400000_y700000_s100000/mask_Glacier_x-400000_y700000_s100000.gpkg\"},{\"gridCell\":{\"minX\":-300000,\"minY\":-900000,\"size\":100000},\"fileName\":\"/data/puma1/scratch/malard/mask/mtngla/static/RGIv60/Glacier/HMA/cell_x-300000_y-900000_s100000/mask_Glacier_x-300000_y-900000_s100000.gpkg\"},{\"gridCell\":{\"minX\":-300000,\"minY\":-800000,\"size\":100000},\"fileName\":\"/data/puma1/scratch/malard/mask/mtngla/static/RGIv60/Glacier/HMA/cell_x-300000_y-800000_s100000/mask_Glacier_x-300000_y-800000_s100000.gpkg\"},{\"gridCell\":{\"minX\":-300000,\"minY\":-600000,\"size\":100000},\"fileName\":\"/data/puma1/scratch/malard/mask/mtngla/static/RGIv60/Glacier/HMA/cell_x-300000_y-600000_s100000/mask_Glacier_x-300000_y-600000_s100000.gpkg\"},{\"gridCell\":{\"minX\":-300000,\"minY\":-700000,\"size\":100000},\"fileName\":\"/data/puma1/scratch/malard/mask/mtngla/static/RGIv60/Glacier/HMA/cell_x-300000_y-700000_s100000/mask_Glacier_x-300000_y-700000_s100000.gpkg\"},{\"gridCell\":{\"minX\":-300000,\"minY\":-500000,\"size\":100000},\"fileName\":\"/data/puma1/scratch/malard/mask/mtngla/static/RGIv60/Glacier/HMA/cell_x-300000_y-500000_s100000/mask_Glacier_x-300000_y-500000_s100000.gpkg\"},{\"gridCell\":{\"minX\":-300000,\"minY\":-300000,\"size\":100000},\"fileName\":\"/data/puma1/scratch/malard/mask/mtngla/static/RGIv60/Glacier/HMA/cell_x-300000_y-300000_s100000/mask_Glacier_x-300000_y-300000_s100000.gpkg\"},{\"gridCell\":{\"minX\":-300000,\"minY\":-200000,\"size\":100000},\"fileName\":\"/data/puma1/scratch/malard/mask/mtngla/static/RGIv60/Glacier/HMA/cell_x-300000_y-200000_s100000/mask_Glacier_x-300000_y-200000_s100000.gpkg\"},{\"gridCell\":{\"minX\":-300000,\"minY\":-100000,\"size\":100000},\"fileName\":\"/data/puma1/scratch/malard/mask/mtngla/static/RGIv60/Glacier/HMA/cell_x-300000_y-100000_s100000/mask_Glacier_x-300000_y-100000_s100000.gpkg\"},{\"gridCell\":{\"minX\":-300000,\"minY\":0,\"size\":100000},\"fileName\":\"/data/puma1/scratch/malard/mask/mtngla/static/RGIv60/Glacier/HMA/cell_x-300000_y0_s100000/mask_Glacier_x-300000_y0_s100000.gpkg\"},{\"gridCell\":{\"minX\":-300000,\"minY\":600000,\"size\":100000},\"fileName\":\"/data/puma1/scratch/malard/mask/mtngla/static/RGIv60/Glacier/HMA/cell_x-300000_y600000_s100000/mask_Glacier_x-300000_y600000_s100000.gpkg\"},{\"gridCell\":{\"minX\":-300000,\"minY\":700000,\"size\":100000},\"fileName\":\"/data/puma1/scratch/malard/mask/mtngla/static/RGIv60/Glacier/HMA/cell_x-300000_y700000_s100000/mask_Glacier_x-300000_y700000_s100000.gpkg\"},{\"gridCell\":{\"minX\":-200000,\"minY\":-900000,\"size\":100000},\"fileName\":\"/data/puma1/scratch/malard/mask/mtngla/static/RGIv60/Glacier/HMA/cell_x-200000_y-900000_s100000/mask_Glacier_x-200000_y-900000_s100000.gpkg\"},{\"gridCell\":{\"minX\":-200000,\"minY\":-700000,\"size\":100000},\"fileName\":\"/data/puma1/scratch/malard/mask/mtngla/static/RGIv60/Glacier/HMA/cell_x-200000_y-700000_s100000/mask_Glacier_x-200000_y-700000_s100000.gpkg\"},{\"gridCell\":{\"minX\":-200000,\"minY\":-800000,\"size\":100000},\"fileName\":\"/data/puma1/scratch/malard/mask/mtngla/static/RGIv60/Glacier/HMA/cell_x-200000_y-800000_s100000/mask_Glacier_x-200000_y-800000_s100000.gpkg\"},{\"gridCell\":{\"minX\":-200000,\"minY\":-500000,\"size\":100000},\"fileName\":\"/data/puma1/scratch/malard/mask/mtngla/static/RGIv60/Glacier/HMA/cell_x-200000_y-500000_s100000/mask_Glacier_x-200000_y-500000_s100000.gpkg\"},{\"gridCell\":{\"minX\":-200000,\"minY\":-600000,\"size\":100000},\"fileName\":\"/data/puma1/scratch/malard/mask/mtngla/static/RGIv60/Glacier/HMA/cell_x-200000_y-600000_s100000/mask_Glacier_x-200000_y-600000_s100000.gpkg\"},{\"gridCell\":{\"minX\":-200000,\"minY\":-300000,\"size\":100000},\"fileName\":\"/data/puma1/scratch/malard/mask/mtngla/static/RGIv60/Glacier/HMA/cell_x-200000_y-300000_s100000/mask_Glacier_x-200000_y-300000_s100000.gpkg\"},{\"gridCell\":{\"minX\":-200000,\"minY\":-200000,\"size\":100000},\"fileName\":\"/data/puma1/scratch/malard/mask/mtngla/static/RGIv60/Glacier/HMA/cell_x-200000_y-200000_s100000/mask_Glacier_x-200000_y-200000_s100000.gpkg\"},{\"gridCell\":{\"minX\":-200000,\"minY\":-100000,\"size\":100000},\"fileName\":\"/data/puma1/scratch/malard/mask/mtngla/static/RGIv60/Glacier/HMA/cell_x-200000_y-100000_s100000/mask_Glacier_x-200000_y-100000_s100000.gpkg\"},{\"gridCell\":{\"minX\":-200000,\"minY\":0,\"size\":100000},\"fileName\":\"/data/puma1/scratch/malard/mask/mtngla/static/RGIv60/Glacier/HMA/cell_x-200000_y0_s100000/mask_Glacier_x-200000_y0_s100000.gpkg\"},{\"gridCell\":{\"minX\":-200000,\"minY\":800000,\"size\":100000},\"fileName\":\"/data/puma1/scratch/malard/mask/mtngla/static/RGIv60/Glacier/HMA/cell_x-200000_y800000_s100000/mask_Glacier_x-200000_y800000_s100000.gpkg\"},{\"gridCell\":{\"minX\":-200000,\"minY\":700000,\"size\":100000},\"fileName\":\"/data/puma1/scratch/malard/mask/mtngla/static/RGIv60/Glacier/HMA/cell_x-200000_y700000_s100000/mask_Glacier_x-200000_y700000_s100000.gpkg\"},{\"gridCell\":{\"minX\":-100000,\"minY\":-900000,\"size\":100000},\"fileName\":\"/data/puma1/scratch/malard/mask/mtngla/static/RGIv60/Glacier/HMA/cell_x-100000_y-900000_s100000/mask_Glacier_x-100000_y-900000_s100000.gpkg\"},{\"gridCell\":{\"minX\":-100000,\"minY\":-800000,\"size\":100000},\"fileName\":\"/data/puma1/scratch/malard/mask/mtngla/static/RGIv60/Glacier/HMA/cell_x-100000_y-800000_s100000/mask_Glacier_x-100000_y-800000_s100000.gpkg\"},{\"gridCell\":{\"minX\":-100000,\"minY\":-700000,\"size\":100000},\"fileName\":\"/data/puma1/scratch/malard/mask/mtngla/static/RGIv60/Glacier/HMA/cell_x-100000_y-700000_s100000/mask_Glacier_x-100000_y-700000_s100000.gpkg\"},{\"gridCell\":{\"minX\":-100000,\"minY\":-600000,\"size\":100000},\"fileName\":\"/data/puma1/scratch/malard/mask/mtngla/static/RGIv60/Glacier/HMA/cell_x-100000_y-600000_s100000/mask_Glacier_x-100000_y-600000_s100000.gpkg\"},{\"gridCell\":{\"minX\":-100000,\"minY\":-300000,\"size\":100000},\"fileName\":\"/data/puma1/scratch/malard/mask/mtngla/static/RGIv60/Glacier/HMA/cell_x-100000_y-300000_s100000/mask_Glacier_x-100000_y-300000_s100000.gpkg\"},{\"gridCell\":{\"minX\":-100000,\"minY\":-200000,\"size\":100000},\"fileName\":\"/data/puma1/scratch/malard/mask/mtngla/static/RGIv60/Glacier/HMA/cell_x-100000_y-200000_s100000/mask_Glacier_x-100000_y-200000_s100000.gpkg\"},{\"gridCell\":{\"minX\":-100000,\"minY\":-400000,\"size\":100000},\"fileName\":\"/data/puma1/scratch/malard/mask/mtngla/static/RGIv60/Glacier/HMA/cell_x-100000_y-400000_s100000/mask_Glacier_x-100000_y-400000_s100000.gpkg\"},{\"gridCell\":{\"minX\":-100000,\"minY\":0,\"size\":100000},\"fileName\":\"/data/puma1/scratch/malard/mask/mtngla/static/RGIv60/Glacier/HMA/cell_x-100000_y0_s100000/mask_Glacier_x-100000_y0_s100000.gpkg\"},{\"gridCell\":{\"minX\":-100000,\"minY\":100000,\"size\":100000},\"fileName\":\"/data/puma1/scratch/malard/mask/mtngla/static/RGIv60/Glacier/HMA/cell_x-100000_y100000_s100000/mask_Glacier_x-100000_y100000_s100000.gpkg\"},{\"gridCell\":{\"minX\":-100000,\"minY\":700000,\"size\":100000},\"fileName\":\"/data/puma1/scratch/malard/mask/mtngla/static/RGIv60/Glacier/HMA/cell_x-100000_y700000_s100000/mask_Glacier_x-100000_y700000_s100000.gpkg\"},{\"gridCell\":{\"minX\":-100000,\"minY\":800000,\"size\":100000},\"fileName\":\"/data/puma1/scratch/malard/mask/mtngla/static/RGIv60/Glacier/HMA/cell_x-100000_y800000_s100000/mask_Glacier_x-100000_y800000_s100000.gpkg\"},{\"gridCell\":{\"minX\":0,\"minY\":-700000,\"size\":100000},\"fileName\":\"/data/puma1/scratch/malard/mask/mtngla/static/RGIv60/Glacier/HMA/cell_x0_y-700000_s100000/mask_Glacier_x0_y-700000_s100000.gpkg\"},{\"gridCell\":{\"minX\":0,\"minY\":-800000,\"size\":100000},\"fileName\":\"/data/puma1/scratch/malard/mask/mtngla/static/RGIv60/Glacier/HMA/cell_x0_y-800000_s100000/mask_Glacier_x0_y-800000_s100000.gpkg\"},{\"gridCell\":{\"minX\":0,\"minY\":-600000,\"size\":100000},\"fileName\":\"/data/puma1/scratch/malard/mask/mtngla/static/RGIv60/Glacier/HMA/cell_x0_y-600000_s100000/mask_Glacier_x0_y-600000_s100000.gpkg\"},{\"gridCell\":{\"minX\":0,\"minY\":-900000,\"size\":100000},\"fileName\":\"/data/puma1/scratch/malard/mask/mtngla/static/RGIv60/Glacier/HMA/cell_x0_y-900000_s100000/mask_Glacier_x0_y-900000_s100000.gpkg\"},{\"gridCell\":{\"minX\":0,\"minY\":-500000,\"size\":100000},\"fileName\":\"/data/puma1/scratch/malard/mask/mtngla/static/RGIv60/Glacier/HMA/cell_x0_y-500000_s100000/mask_Glacier_x0_y-500000_s100000.gpkg\"},{\"gridCell\":{\"minX\":0,\"minY\":-400000,\"size\":100000},\"fileName\":\"/data/puma1/scratch/malard/mask/mtngla/static/RGIv60/Glacier/HMA/cell_x0_y-400000_s100000/mask_Glacier_x0_y-400000_s100000.gpkg\"},{\"gridCell\":{\"minX\":0,\"minY\":-300000,\"size\":100000},\"fileName\":\"/data/puma1/scratch/malard/mask/mtngla/static/RGIv60/Glacier/HMA/cell_x0_y-300000_s100000/mask_Glacier_x0_y-300000_s100000.gpkg\"},{\"gridCell\":{\"minX\":0,\"minY\":-200000,\"size\":100000},\"fileName\":\"/data/puma1/scratch/malard/mask/mtngla/static/RGIv60/Glacier/HMA/cell_x0_y-200000_s100000/mask_Glacier_x0_y-200000_s100000.gpkg\"},{\"gridCell\":{\"minX\":0,\"minY\":-100000,\"size\":100000},\"fileName\":\"/data/puma1/scratch/malard/mask/mtngla/static/RGIv60/Glacier/HMA/cell_x0_y-100000_s100000/mask_Glacier_x0_y-100000_s100000.gpkg\"},{\"gridCell\":{\"minX\":0,\"minY\":0,\"size\":100000},\"fileName\":\"/data/puma1/scratch/malard/mask/mtngla/static/RGIv60/Glacier/HMA/cell_x0_y0_s100000/mask_Glacier_x0_y0_s100000.gpkg\"},{\"gridCell\":{\"minX\":0,\"minY\":100000,\"size\":100000},\"fileName\":\"/data/puma1/scratch/malard/mask/mtngla/static/RGIv60/Glacier/HMA/cell_x0_y100000_s100000/mask_Glacier_x0_y100000_s100000.gpkg\"},{\"gridCell\":{\"minX\":0,\"minY\":700000,\"size\":100000},\"fileName\":\"/data/puma1/scratch/malard/mask/mtngla/static/RGIv60/Glacier/HMA/cell_x0_y700000_s100000/mask_Glacier_x0_y700000_s100000.gpkg\"},{\"gridCell\":{\"minX\":0,\"minY\":800000,\"size\":100000},\"fileName\":\"/data/puma1/scratch/malard/mask/mtngla/static/RGIv60/Glacier/HMA/cell_x0_y800000_s100000/mask_Glacier_x0_y800000_s100000.gpkg\"},{\"gridCell\":{\"minX\":100000,\"minY\":-1000000,\"size\":100000},\"fileName\":\"/data/puma1/scratch/malard/mask/mtngla/static/RGIv60/Glacier/HMA/cell_x100000_y-1000000_s100000/mask_Glacier_x100000_y-1000000_s100000.gpkg\"},{\"gridCell\":{\"minX\":100000,\"minY\":-900000,\"size\":100000},\"fileName\":\"/data/puma1/scratch/malard/mask/mtngla/static/RGIv60/Glacier/HMA/cell_x100000_y-900000_s100000/mask_Glacier_x100000_y-900000_s100000.gpkg\"},{\"gridCell\":{\"minX\":100000,\"minY\":-800000,\"size\":100000},\"fileName\":\"/data/puma1/scratch/malard/mask/mtngla/static/RGIv60/Glacier/HMA/cell_x100000_y-800000_s100000/mask_Glacier_x100000_y-800000_s100000.gpkg\"},{\"gridCell\":{\"minX\":100000,\"minY\":-700000,\"size\":100000},\"fileName\":\"/data/puma1/scratch/malard/mask/mtngla/static/RGIv60/Glacier/HMA/cell_x100000_y-700000_s100000/mask_Glacier_x100000_y-700000_s100000.gpkg\"},{\"gridCell\":{\"minX\":100000,\"minY\":-600000,\"size\":100000},\"fileName\":\"/data/puma1/scratch/malard/mask/mtngla/static/RGIv60/Glacier/HMA/cell_x100000_y-600000_s100000/mask_Glacier_x100000_y-600000_s100000.gpkg\"},{\"gridCell\":{\"minX\":100000,\"minY\":-500000,\"size\":100000},\"fileName\":\"/data/puma1/scratch/malard/mask/mtngla/static/RGIv60/Glacier/HMA/cell_x100000_y-500000_s100000/mask_Glacier_x100000_y-500000_s100000.gpkg\"},{\"gridCell\":{\"minX\":100000,\"minY\":-200000,\"size\":100000},\"fileName\":\"/data/puma1/scratch/malard/mask/mtngla/static/RGIv60/Glacier/HMA/cell_x100000_y-200000_s100000/mask_Glacier_x100000_y-200000_s100000.gpkg\"},{\"gridCell\":{\"minX\":100000,\"minY\":-300000,\"size\":100000},\"fileName\":\"/data/puma1/scratch/malard/mask/mtngla/static/RGIv60/Glacier/HMA/cell_x100000_y-300000_s100000/mask_Glacier_x100000_y-300000_s100000.gpkg\"},{\"gridCell\":{\"minX\":100000,\"minY\":0,\"size\":100000},\"fileName\":\"/data/puma1/scratch/malard/mask/mtngla/static/RGIv60/Glacier/HMA/cell_x100000_y0_s100000/mask_Glacier_x100000_y0_s100000.gpkg\"},{\"gridCell\":{\"minX\":100000,\"minY\":100000,\"size\":100000},\"fileName\":\"/data/puma1/scratch/malard/mask/mtngla/static/RGIv60/Glacier/HMA/cell_x100000_y100000_s100000/mask_Glacier_x100000_y100000_s100000.gpkg\"},{\"gridCell\":{\"minX\":100000,\"minY\":200000,\"size\":100000},\"fileName\":\"/data/puma1/scratch/malard/mask/mtngla/static/RGIv60/Glacier/HMA/cell_x100000_y200000_s100000/mask_Glacier_x100000_y200000_s100000.gpkg\"},{\"gridCell\":{\"minX\":100000,\"minY\":700000,\"size\":100000},\"fileName\":\"/data/puma1/scratch/malard/mask/mtngla/static/RGIv60/Glacier/HMA/cell_x100000_y700000_s100000/mask_Glacier_x100000_y700000_s100000.gpkg\"},{\"gridCell\":{\"minX\":100000,\"minY\":800000,\"size\":100000},\"fileName\":\"/data/puma1/scratch/malard/mask/mtngla/static/RGIv60/Glacier/HMA/cell_x100000_y800000_s100000/mask_Glacier_x100000_y800000_s100000.gpkg\"},{\"gridCell\":{\"minX\":200000,\"minY\":-900000,\"size\":100000},\"fileName\":\"/data/puma1/scratch/malard/mask/mtngla/static/RGIv60/Glacier/HMA/cell_x200000_y-900000_s100000/mask_Glacier_x200000_y-900000_s100000.gpkg\"},{\"gridCell\":{\"minX\":200000,\"minY\":-800000,\"size\":100000},\"fileName\":\"/data/puma1/scratch/malard/mask/mtngla/static/RGIv60/Glacier/HMA/cell_x200000_y-800000_s100000/mask_Glacier_x200000_y-800000_s100000.gpkg\"},{\"gridCell\":{\"minX\":200000,\"minY\":-1000000,\"size\":100000},\"fileName\":\"/data/puma1/scratch/malard/mask/mtngla/static/RGIv60/Glacier/HMA/cell_x200000_y-1000000_s100000/mask_Glacier_x200000_y-1000000_s100000.gpkg\"},{\"gridCell\":{\"minX\":200000,\"minY\":-700000,\"size\":100000},\"fileName\":\"/data/puma1/scratch/malard/mask/mtngla/static/RGIv60/Glacier/HMA/cell_x200000_y-700000_s100000/mask_Glacier_x200000_y-700000_s100000.gpkg\"},{\"gridCell\":{\"minX\":200000,\"minY\":-600000,\"size\":100000},\"fileName\":\"/data/puma1/scratch/malard/mask/mtngla/static/RGIv60/Glacier/HMA/cell_x200000_y-600000_s100000/mask_Glacier_x200000_y-600000_s100000.gpkg\"},{\"gridCell\":{\"minX\":200000,\"minY\":-400000,\"size\":100000},\"fileName\":\"/data/puma1/scratch/malard/mask/mtngla/static/RGIv60/Glacier/HMA/cell_x200000_y-400000_s100000/mask_Glacier_x200000_y-400000_s100000.gpkg\"},{\"gridCell\":{\"minX\":200000,\"minY\":-500000,\"size\":100000},\"fileName\":\"/data/puma1/scratch/malard/mask/mtngla/static/RGIv60/Glacier/HMA/cell_x200000_y-500000_s100000/mask_Glacier_x200000_y-500000_s100000.gpkg\"},{\"gridCell\":{\"minX\":200000,\"minY\":-300000,\"size\":100000},\"fileName\":\"/data/puma1/scratch/malard/mask/mtngla/static/RGIv60/Glacier/HMA/cell_x200000_y-300000_s100000/mask_Glacier_x200000_y-300000_s100000.gpkg\"},{\"gridCell\":{\"minX\":200000,\"minY\":-100000,\"size\":100000},\"fileName\":\"/data/puma1/scratch/malard/mask/mtngla/static/RGIv60/Glacier/HMA/cell_x200000_y-100000_s100000/mask_Glacier_x200000_y-100000_s100000.gpkg\"},{\"gridCell\":{\"minX\":200000,\"minY\":0,\"size\":100000},\"fileName\":\"/data/puma1/scratch/malard/mask/mtngla/static/RGIv60/Glacier/HMA/cell_x200000_y0_s100000/mask_Glacier_x200000_y0_s100000.gpkg\"},{\"gridCell\":{\"minX\":200000,\"minY\":100000,\"size\":100000},\"fileName\":\"/data/puma1/scratch/malard/mask/mtngla/static/RGIv60/Glacier/HMA/cell_x200000_y100000_s100000/mask_Glacier_x200000_y100000_s100000.gpkg\"},{\"gridCell\":{\"minX\":200000,\"minY\":200000,\"size\":100000},\"fileName\":\"/data/puma1/scratch/malard/mask/mtngla/static/RGIv60/Glacier/HMA/cell_x200000_y200000_s100000/mask_Glacier_x200000_y200000_s100000.gpkg\"},{\"gridCell\":{\"minX\":200000,\"minY\":800000,\"size\":100000},\"fileName\":\"/data/puma1/scratch/malard/mask/mtngla/static/RGIv60/Glacier/HMA/cell_x200000_y800000_s100000/mask_Glacier_x200000_y800000_s100000.gpkg\"},{\"gridCell\":{\"minX\":300000,\"minY\":-900000,\"size\":100000},\"fileName\":\"/data/puma1/scratch/malard/mask/mtngla/static/RGIv60/Glacier/HMA/cell_x300000_y-900000_s100000/mask_Glacier_x300000_y-900000_s100000.gpkg\"},{\"gridCell\":{\"minX\":300000,\"minY\":-700000,\"size\":100000},\"fileName\":\"/data/puma1/scratch/malard/mask/mtngla/static/RGIv60/Glacier/HMA/cell_x300000_y-700000_s100000/mask_Glacier_x300000_y-700000_s100000.gpkg\"},{\"gridCell\":{\"minX\":300000,\"minY\":-1000000,\"size\":100000},\"fileName\":\"/data/puma1/scratch/malard/mask/mtngla/static/RGIv60/Glacier/HMA/cell_x300000_y-1000000_s100000/mask_Glacier_x300000_y-1000000_s100000.gpkg\"},{\"gridCell\":{\"minX\":300000,\"minY\":-800000,\"size\":100000},\"fileName\":\"/data/puma1/scratch/malard/mask/mtngla/static/RGIv60/Glacier/HMA/cell_x300000_y-800000_s100000/mask_Glacier_x300000_y-800000_s100000.gpkg\"},{\"gridCell\":{\"minX\":300000,\"minY\":-600000,\"size\":100000},\"fileName\":\"/data/puma1/scratch/malard/mask/mtngla/static/RGIv60/Glacier/HMA/cell_x300000_y-600000_s100000/mask_Glacier_x300000_y-600000_s100000.gpkg\"},{\"gridCell\":{\"minX\":300000,\"minY\":-400000,\"size\":100000},\"fileName\":\"/data/puma1/scratch/malard/mask/mtngla/static/RGIv60/Glacier/HMA/cell_x300000_y-400000_s100000/mask_Glacier_x300000_y-400000_s100000.gpkg\"},{\"gridCell\":{\"minX\":300000,\"minY\":-300000,\"size\":100000},\"fileName\":\"/data/puma1/scratch/malard/mask/mtngla/static/RGIv60/Glacier/HMA/cell_x300000_y-300000_s100000/mask_Glacier_x300000_y-300000_s100000.gpkg\"},{\"gridCell\":{\"minX\":300000,\"minY\":-100000,\"size\":100000},\"fileName\":\"/data/puma1/scratch/malard/mask/mtngla/static/RGIv60/Glacier/HMA/cell_x300000_y-100000_s100000/mask_Glacier_x300000_y-100000_s100000.gpkg\"},{\"gridCell\":{\"minX\":300000,\"minY\":0,\"size\":100000},\"fileName\":\"/data/puma1/scratch/malard/mask/mtngla/static/RGIv60/Glacier/HMA/cell_x300000_y0_s100000/mask_Glacier_x300000_y0_s100000.gpkg\"},{\"gridCell\":{\"minX\":300000,\"minY\":200000,\"size\":100000},\"fileName\":\"/data/puma1/scratch/malard/mask/mtngla/static/RGIv60/Glacier/HMA/cell_x300000_y200000_s100000/mask_Glacier_x300000_y200000_s100000.gpkg\"},{\"gridCell\":{\"minX\":300000,\"minY\":100000,\"size\":100000},\"fileName\":\"/data/puma1/scratch/malard/mask/mtngla/static/RGIv60/Glacier/HMA/cell_x300000_y100000_s100000/mask_Glacier_x300000_y100000_s100000.gpkg\"},{\"gridCell\":{\"minX\":300000,\"minY\":800000,\"size\":100000},\"fileName\":\"/data/puma1/scratch/malard/mask/mtngla/static/RGIv60/Glacier/HMA/cell_x300000_y800000_s100000/mask_Glacier_x300000_y800000_s100000.gpkg\"},{\"gridCell\":{\"minX\":400000,\"minY\":-1000000,\"size\":100000},\"fileName\":\"/data/puma1/scratch/malard/mask/mtngla/static/RGIv60/Glacier/HMA/cell_x400000_y-1000000_s100000/mask_Glacier_x400000_y-1000000_s100000.gpkg\"},{\"gridCell\":{\"minX\":400000,\"minY\":-900000,\"size\":100000},\"fileName\":\"/data/puma1/scratch/malard/mask/mtngla/static/RGIv60/Glacier/HMA/cell_x400000_y-900000_s100000/mask_Glacier_x400000_y-900000_s100000.gpkg\"},{\"gridCell\":{\"minX\":400000,\"minY\":-800000,\"size\":100000},\"fileName\":\"/data/puma1/scratch/malard/mask/mtngla/static/RGIv60/Glacier/HMA/cell_x400000_y-800000_s100000/mask_Glacier_x400000_y-800000_s100000.gpkg\"},{\"gridCell\":{\"minX\":400000,\"minY\":-700000,\"size\":100000},\"fileName\":\"/data/puma1/scratch/malard/mask/mtngla/static/RGIv60/Glacier/HMA/cell_x400000_y-700000_s100000/mask_Glacier_x400000_y-700000_s100000.gpkg\"},{\"gridCell\":{\"minX\":400000,\"minY\":-300000,\"size\":100000},\"fileName\":\"/data/puma1/scratch/malard/mask/mtngla/static/RGIv60/Glacier/HMA/cell_x400000_y-300000_s100000/mask_Glacier_x400000_y-300000_s100000.gpkg\"},{\"gridCell\":{\"minX\":400000,\"minY\":-200000,\"size\":100000},\"fileName\":\"/data/puma1/scratch/malard/mask/mtngla/static/RGIv60/Glacier/HMA/cell_x400000_y-200000_s100000/mask_Glacier_x400000_y-200000_s100000.gpkg\"},{\"gridCell\":{\"minX\":400000,\"minY\":-100000,\"size\":100000},\"fileName\":\"/data/puma1/scratch/malard/mask/mtngla/static/RGIv60/Glacier/HMA/cell_x400000_y-100000_s100000/mask_Glacier_x400000_y-100000_s100000.gpkg\"},{\"gridCell\":{\"minX\":400000,\"minY\":200000,\"size\":100000},\"fileName\":\"/data/puma1/scratch/malard/mask/mtngla/static/RGIv60/Glacier/HMA/cell_x400000_y200000_s100000/mask_Glacier_x400000_y200000_s100000.gpkg\"},{\"gridCell\":{\"minX\":400000,\"minY\":100000,\"size\":100000},\"fileName\":\"/data/puma1/scratch/malard/mask/mtngla/static/RGIv60/Glacier/HMA/cell_x400000_y100000_s100000/mask_Glacier_x400000_y100000_s100000.gpkg\"},{\"gridCell\":{\"minX\":400000,\"minY\":0,\"size\":100000},\"fileName\":\"/data/puma1/scratch/malard/mask/mtngla/static/RGIv60/Glacier/HMA/cell_x400000_y0_s100000/mask_Glacier_x400000_y0_s100000.gpkg\"},{\"gridCell\":{\"minX\":500000,\"minY\":-1000000,\"size\":100000},\"fileName\":\"/data/puma1/scratch/malard/mask/mtngla/static/RGIv60/Glacier/HMA/cell_x500000_y-1000000_s100000/mask_Glacier_x500000_y-1000000_s100000.gpkg\"},{\"gridCell\":{\"minX\":500000,\"minY\":-800000,\"size\":100000},\"fileName\":\"/data/puma1/scratch/malard/mask/mtngla/static/RGIv60/Glacier/HMA/cell_x500000_y-800000_s100000/mask_Glacier_x500000_y-800000_s100000.gpkg\"},{\"gridCell\":{\"minX\":500000,\"minY\":-900000,\"size\":100000},\"fileName\":\"/data/puma1/scratch/malard/mask/mtngla/static/RGIv60/Glacier/HMA/cell_x500000_y-900000_s100000/mask_Glacier_x500000_y-900000_s100000.gpkg\"},{\"gridCell\":{\"minX\":500000,\"minY\":-700000,\"size\":100000},\"fileName\":\"/data/puma1/scratch/malard/mask/mtngla/static/RGIv60/Glacier/HMA/cell_x500000_y-700000_s100000/mask_Glacier_x500000_y-700000_s100000.gpkg\"},{\"gridCell\":{\"minX\":500000,\"minY\":-600000,\"size\":100000},\"fileName\":\"/data/puma1/scratch/malard/mask/mtngla/static/RGIv60/Glacier/HMA/cell_x500000_y-600000_s100000/mask_Glacier_x500000_y-600000_s100000.gpkg\"},{\"gridCell\":{\"minX\":500000,\"minY\":-200000,\"size\":100000},\"fileName\":\"/data/puma1/scratch/malard/mask/mtngla/static/RGIv60/Glacier/HMA/cell_x500000_y-200000_s100000/mask_Glacier_x500000_y-200000_s100000.gpkg\"},{\"gridCell\":{\"minX\":500000,\"minY\":-300000,\"size\":100000},\"fileName\":\"/data/puma1/scratch/malard/mask/mtngla/static/RGIv60/Glacier/HMA/cell_x500000_y-300000_s100000/mask_Glacier_x500000_y-300000_s100000.gpkg\"},{\"gridCell\":{\"minX\":500000,\"minY\":-100000,\"size\":100000},\"fileName\":\"/data/puma1/scratch/malard/mask/mtngla/static/RGIv60/Glacier/HMA/cell_x500000_y-100000_s100000/mask_Glacier_x500000_y-100000_s100000.gpkg\"},{\"gridCell\":{\"minX\":500000,\"minY\":-400000,\"size\":100000},\"fileName\":\"/data/puma1/scratch/malard/mask/mtngla/static/RGIv60/Glacier/HMA/cell_x500000_y-400000_s100000/mask_Glacier_x500000_y-400000_s100000.gpkg\"},{\"gridCell\":{\"minX\":500000,\"minY\":0,\"size\":100000},\"fileName\":\"/data/puma1/scratch/malard/mask/mtngla/static/RGIv60/Glacier/HMA/cell_x500000_y0_s100000/mask_Glacier_x500000_y0_s100000.gpkg\"},{\"gridCell\":{\"minX\":500000,\"minY\":100000,\"size\":100000},\"fileName\":\"/data/puma1/scratch/malard/mask/mtngla/static/RGIv60/Glacier/HMA/cell_x500000_y100000_s100000/mask_Glacier_x500000_y100000_s100000.gpkg\"},{\"gridCell\":{\"minX\":500000,\"minY\":200000,\"size\":100000},\"fileName\":\"/data/puma1/scratch/malard/mask/mtngla/static/RGIv60/Glacier/HMA/cell_x500000_y200000_s100000/mask_Glacier_x500000_y200000_s100000.gpkg\"},{\"gridCell\":{\"minX\":600000,\"minY\":-900000,\"size\":100000},\"fileName\":\"/data/puma1/scratch/malard/mask/mtngla/static/RGIv60/Glacier/HMA/cell_x600000_y-900000_s100000/mask_Glacier_x600000_y-900000_s100000.gpkg\"},{\"gridCell\":{\"minX\":600000,\"minY\":-1000000,\"size\":100000},\"fileName\":\"/data/puma1/scratch/malard/mask/mtngla/static/RGIv60/Glacier/HMA/cell_x600000_y-1000000_s100000/mask_Glacier_x600000_y-1000000_s100000.gpkg\"},{\"gridCell\":{\"minX\":600000,\"minY\":-800000,\"size\":100000},\"fileName\":\"/data/puma1/scratch/malard/mask/mtngla/static/RGIv60/Glacier/HMA/cell_x600000_y-800000_s100000/mask_Glacier_x600000_y-800000_s100000.gpkg\"},{\"gridCell\":{\"minX\":600000,\"minY\":-700000,\"size\":100000},\"fileName\":\"/data/puma1/scratch/malard/mask/mtngla/static/RGIv60/Glacier/HMA/cell_x600000_y-700000_s100000/mask_Glacier_x600000_y-700000_s100000.gpkg\"},{\"gridCell\":{\"minX\":600000,\"minY\":-600000,\"size\":100000},\"fileName\":\"/data/puma1/scratch/malard/mask/mtngla/static/RGIv60/Glacier/HMA/cell_x600000_y-600000_s100000/mask_Glacier_x600000_y-600000_s100000.gpkg\"},{\"gridCell\":{\"minX\":600000,\"minY\":-400000,\"size\":100000},\"fileName\":\"/data/puma1/scratch/malard/mask/mtngla/static/RGIv60/Glacier/HMA/cell_x600000_y-400000_s100000/mask_Glacier_x600000_y-400000_s100000.gpkg\"},{\"gridCell\":{\"minX\":600000,\"minY\":-300000,\"size\":100000},\"fileName\":\"/data/puma1/scratch/malard/mask/mtngla/static/RGIv60/Glacier/HMA/cell_x600000_y-300000_s100000/mask_Glacier_x600000_y-300000_s100000.gpkg\"},{\"gridCell\":{\"minX\":600000,\"minY\":-100000,\"size\":100000},\"fileName\":\"/data/puma1/scratch/malard/mask/mtngla/static/RGIv60/Glacier/HMA/cell_x600000_y-100000_s100000/mask_Glacier_x600000_y-100000_s100000.gpkg\"},{\"gridCell\":{\"minX\":600000,\"minY\":0,\"size\":100000},\"fileName\":\"/data/puma1/scratch/malard/mask/mtngla/static/RGIv60/Glacier/HMA/cell_x600000_y0_s100000/mask_Glacier_x600000_y0_s100000.gpkg\"},{\"gridCell\":{\"minX\":600000,\"minY\":800000,\"size\":100000},\"fileName\":\"/data/puma1/scratch/malard/mask/mtngla/static/RGIv60/Glacier/HMA/cell_x600000_y800000_s100000/mask_Glacier_x600000_y800000_s100000.gpkg\"},{\"gridCell\":{\"minX\":700000,\"minY\":-1000000,\"size\":100000},\"fileName\":\"/data/puma1/scratch/malard/mask/mtngla/static/RGIv60/Glacier/HMA/cell_x700000_y-1000000_s100000/mask_Glacier_x700000_y-1000000_s100000.gpkg\"},{\"gridCell\":{\"minX\":700000,\"minY\":-900000,\"size\":100000},\"fileName\":\"/data/puma1/scratch/malard/mask/mtngla/static/RGIv60/Glacier/HMA/cell_x700000_y-900000_s100000/mask_Glacier_x700000_y-900000_s100000.gpkg\"},{\"gridCell\":{\"minX\":700000,\"minY\":-800000,\"size\":100000},\"fileName\":\"/data/puma1/scratch/malard/mask/mtngla/static/RGIv60/Glacier/HMA/cell_x700000_y-800000_s100000/mask_Glacier_x700000_y-800000_s100000.gpkg\"},{\"gridCell\":{\"minX\":700000,\"minY\":-700000,\"size\":100000},\"fileName\":\"/data/puma1/scratch/malard/mask/mtngla/static/RGIv60/Glacier/HMA/cell_x700000_y-700000_s100000/mask_Glacier_x700000_y-700000_s100000.gpkg\"},{\"gridCell\":{\"minX\":700000,\"minY\":-600000,\"size\":100000},\"fileName\":\"/data/puma1/scratch/malard/mask/mtngla/static/RGIv60/Glacier/HMA/cell_x700000_y-600000_s100000/mask_Glacier_x700000_y-600000_s100000.gpkg\"},{\"gridCell\":{\"minX\":700000,\"minY\":-500000,\"size\":100000},\"fileName\":\"/data/puma1/scratch/malard/mask/mtngla/static/RGIv60/Glacier/HMA/cell_x700000_y-500000_s100000/mask_Glacier_x700000_y-500000_s100000.gpkg\"},{\"gridCell\":{\"minX\":700000,\"minY\":-200000,\"size\":100000},\"fileName\":\"/data/puma1/scratch/malard/mask/mtngla/static/RGIv60/Glacier/HMA/cell_x700000_y-200000_s100000/mask_Glacier_x700000_y-200000_s100000.gpkg\"},{\"gridCell\":{\"minX\":700000,\"minY\":-400000,\"size\":100000},\"fileName\":\"/data/puma1/scratch/malard/mask/mtngla/static/RGIv60/Glacier/HMA/cell_x700000_y-400000_s100000/mask_Glacier_x700000_y-400000_s100000.gpkg\"},{\"gridCell\":{\"minX\":700000,\"minY\":-300000,\"size\":100000},\"fileName\":\"/data/puma1/scratch/malard/mask/mtngla/static/RGIv60/Glacier/HMA/cell_x700000_y-300000_s100000/mask_Glacier_x700000_y-300000_s100000.gpkg\"},{\"gridCell\":{\"minX\":700000,\"minY\":0,\"size\":100000},\"fileName\":\"/data/puma1/scratch/malard/mask/mtngla/static/RGIv60/Glacier/HMA/cell_x700000_y0_s100000/mask_Glacier_x700000_y0_s100000.gpkg\"},{\"gridCell\":{\"minX\":700000,\"minY\":300000,\"size\":100000},\"fileName\":\"/data/puma1/scratch/malard/mask/mtngla/static/RGIv60/Glacier/HMA/cell_x700000_y300000_s100000/mask_Glacier_x700000_y300000_s100000.gpkg\"},{\"gridCell\":{\"minX\":700000,\"minY\":400000,\"size\":100000},\"fileName\":\"/data/puma1/scratch/malard/mask/mtngla/static/RGIv60/Glacier/HMA/cell_x700000_y400000_s100000/mask_Glacier_x700000_y400000_s100000.gpkg\"},{\"gridCell\":{\"minX\":700000,\"minY\":800000,\"size\":100000},\"fileName\":\"/data/puma1/scratch/malard/mask/mtngla/static/RGIv60/Glacier/HMA/cell_x700000_y800000_s100000/mask_Glacier_x700000_y800000_s100000.gpkg\"},{\"gridCell\":{\"minX\":800000,\"minY\":-900000,\"size\":100000},\"fileName\":\"/data/puma1/scratch/malard/mask/mtngla/static/RGIv60/Glacier/HMA/cell_x800000_y-900000_s100000/mask_Glacier_x800000_y-900000_s100000.gpkg\"},{\"gridCell\":{\"minX\":800000,\"minY\":-800000,\"size\":100000},\"fileName\":\"/data/puma1/scratch/malard/mask/mtngla/static/RGIv60/Glacier/HMA/cell_x800000_y-800000_s100000/mask_Glacier_x800000_y-800000_s100000.gpkg\"},{\"gridCell\":{\"minX\":800000,\"minY\":-700000,\"size\":100000},\"fileName\":\"/data/puma1/scratch/malard/mask/mtngla/static/RGIv60/Glacier/HMA/cell_x800000_y-700000_s100000/mask_Glacier_x800000_y-700000_s100000.gpkg\"},{\"gridCell\":{\"minX\":800000,\"minY\":-500000,\"size\":100000},\"fileName\":\"/data/puma1/scratch/malard/mask/mtngla/static/RGIv60/Glacier/HMA/cell_x800000_y-500000_s100000/mask_Glacier_x800000_y-500000_s100000.gpkg\"},{\"gridCell\":{\"minX\":800000,\"minY\":-600000,\"size\":100000},\"fileName\":\"/data/puma1/scratch/malard/mask/mtngla/static/RGIv60/Glacier/HMA/cell_x800000_y-600000_s100000/mask_Glacier_x800000_y-600000_s100000.gpkg\"},{\"gridCell\":{\"minX\":800000,\"minY\":-400000,\"size\":100000},\"fileName\":\"/data/puma1/scratch/malard/mask/mtngla/static/RGIv60/Glacier/HMA/cell_x800000_y-400000_s100000/mask_Glacier_x800000_y-400000_s100000.gpkg\"},{\"gridCell\":{\"minX\":800000,\"minY\":-300000,\"size\":100000},\"fileName\":\"/data/puma1/scratch/malard/mask/mtngla/static/RGIv60/Glacier/HMA/cell_x800000_y-300000_s100000/mask_Glacier_x800000_y-300000_s100000.gpkg\"},{\"gridCell\":{\"minX\":800000,\"minY\":-200000,\"size\":100000},\"fileName\":\"/data/puma1/scratch/malard/mask/mtngla/static/RGIv60/Glacier/HMA/cell_x800000_y-200000_s100000/mask_Glacier_x800000_y-200000_s100000.gpkg\"},{\"gridCell\":{\"minX\":800000,\"minY\":-100000,\"size\":100000},\"fileName\":\"/data/puma1/scratch/malard/mask/mtngla/static/RGIv60/Glacier/HMA/cell_x800000_y-100000_s100000/mask_Glacier_x800000_y-100000_s100000.gpkg\"},{\"gridCell\":{\"minX\":800000,\"minY\":0,\"size\":100000},\"fileName\":\"/data/puma1/scratch/malard/mask/mtngla/static/RGIv60/Glacier/HMA/cell_x800000_y0_s100000/mask_Glacier_x800000_y0_s100000.gpkg\"},{\"gridCell\":{\"minX\":800000,\"minY\":400000,\"size\":100000},\"fileName\":\"/data/puma1/scratch/malard/mask/mtngla/static/RGIv60/Glacier/HMA/cell_x800000_y400000_s100000/mask_Glacier_x800000_y400000_s100000.gpkg\"},{\"gridCell\":{\"minX\":800000,\"minY\":200000,\"size\":100000},\"fileName\":\"/data/puma1/scratch/malard/mask/mtngla/static/RGIv60/Glacier/HMA/cell_x800000_y200000_s100000/mask_Glacier_x800000_y200000_s100000.gpkg\"},{\"gridCell\":{\"minX\":800000,\"minY\":300000,\"size\":100000},\"fileName\":\"/data/puma1/scratch/malard/mask/mtngla/static/RGIv60/Glacier/HMA/cell_x800000_y300000_s100000/mask_Glacier_x800000_y300000_s100000.gpkg\"},{\"gridCell\":{\"minX\":900000,\"minY\":-800000,\"size\":100000},\"fileName\":\"/data/puma1/scratch/malard/mask/mtngla/static/RGIv60/Glacier/HMA/cell_x900000_y-800000_s100000/mask_Glacier_x900000_y-800000_s100000.gpkg\"},{\"gridCell\":{\"minX\":900000,\"minY\":-700000,\"size\":100000},\"fileName\":\"/data/puma1/scratch/malard/mask/mtngla/static/RGIv60/Glacier/HMA/cell_x900000_y-700000_s100000/mask_Glacier_x900000_y-700000_s100000.gpkg\"},{\"gridCell\":{\"minX\":900000,\"minY\":-600000,\"size\":100000},\"fileName\":\"/data/puma1/scratch/malard/mask/mtngla/static/RGIv60/Glacier/HMA/cell_x900000_y-600000_s100000/mask_Glacier_x900000_y-600000_s100000.gpkg\"},{\"gridCell\":{\"minX\":900000,\"minY\":-500000,\"size\":100000},\"fileName\":\"/data/puma1/scratch/malard/mask/mtngla/static/RGIv60/Glacier/HMA/cell_x900000_y-500000_s100000/mask_Glacier_x900000_y-500000_s100000.gpkg\"},{\"gridCell\":{\"minX\":900000,\"minY\":-400000,\"size\":100000},\"fileName\":\"/data/puma1/scratch/malard/mask/mtngla/static/RGIv60/Glacier/HMA/cell_x900000_y-400000_s100000/mask_Glacier_x900000_y-400000_s100000.gpkg\"},{\"gridCell\":{\"minX\":900000,\"minY\":-200000,\"size\":100000},\"fileName\":\"/data/puma1/scratch/malard/mask/mtngla/static/RGIv60/Glacier/HMA/cell_x900000_y-200000_s100000/mask_Glacier_x900000_y-200000_s100000.gpkg\"},{\"gridCell\":{\"minX\":900000,\"minY\":-300000,\"size\":100000},\"fileName\":\"/data/puma1/scratch/malard/mask/mtngla/static/RGIv60/Glacier/HMA/cell_x900000_y-300000_s100000/mask_Glacier_x900000_y-300000_s100000.gpkg\"},{\"gridCell\":{\"minX\":900000,\"minY\":0,\"size\":100000},\"fileName\":\"/data/puma1/scratch/malard/mask/mtngla/static/RGIv60/Glacier/HMA/cell_x900000_y0_s100000/mask_Glacier_x900000_y0_s100000.gpkg\"},{\"gridCell\":{\"minX\":900000,\"minY\":200000,\"size\":100000},\"fileName\":\"/data/puma1/scratch/malard/mask/mtngla/static/RGIv60/Glacier/HMA/cell_x900000_y200000_s100000/mask_Glacier_x900000_y200000_s100000.gpkg\"},{\"gridCell\":{\"minX\":900000,\"minY\":400000,\"size\":100000},\"fileName\":\"/data/puma1/scratch/malard/mask/mtngla/static/RGIv60/Glacier/HMA/cell_x900000_y400000_s100000/mask_Glacier_x900000_y400000_s100000.gpkg\"},{\"gridCell\":{\"minX\":900000,\"minY\":300000,\"size\":100000},\"fileName\":\"/data/puma1/scratch/malard/mask/mtngla/static/RGIv60/Glacier/HMA/cell_x900000_y300000_s100000/mask_Glacier_x900000_y300000_s100000.gpkg\"},{\"gridCell\":{\"minX\":1000000,\"minY\":-800000,\"size\":100000},\"fileName\":\"/data/puma1/scratch/malard/mask/mtngla/static/RGIv60/Glacier/HMA/cell_x1000000_y-800000_s100000/mask_Glacier_x1000000_y-800000_s100000.gpkg\"},{\"gridCell\":{\"minX\":1000000,\"minY\":-600000,\"size\":100000},\"fileName\":\"/data/puma1/scratch/malard/mask/mtngla/static/RGIv60/Glacier/HMA/cell_x1000000_y-600000_s100000/mask_Glacier_x1000000_y-600000_s100000.gpkg\"},{\"gridCell\":{\"minX\":1000000,\"minY\":-500000,\"size\":100000},\"fileName\":\"/data/puma1/scratch/malard/mask/mtngla/static/RGIv60/Glacier/HMA/cell_x1000000_y-500000_s100000/mask_Glacier_x1000000_y-500000_s100000.gpkg\"},{\"gridCell\":{\"minX\":1000000,\"minY\":-400000,\"size\":100000},\"fileName\":\"/data/puma1/scratch/malard/mask/mtngla/static/RGIv60/Glacier/HMA/cell_x1000000_y-400000_s100000/mask_Glacier_x1000000_y-400000_s100000.gpkg\"},{\"gridCell\":{\"minX\":1000000,\"minY\":-700000,\"size\":100000},\"fileName\":\"/data/puma1/scratch/malard/mask/mtngla/static/RGIv60/Glacier/HMA/cell_x1000000_y-700000_s100000/mask_Glacier_x1000000_y-700000_s100000.gpkg\"},{\"gridCell\":{\"minX\":1000000,\"minY\":0,\"size\":100000},\"fileName\":\"/data/puma1/scratch/malard/mask/mtngla/static/RGIv60/Glacier/HMA/cell_x1000000_y0_s100000/mask_Glacier_x1000000_y0_s100000.gpkg\"},{\"gridCell\":{\"minX\":1000000,\"minY\":200000,\"size\":100000},\"fileName\":\"/data/puma1/scratch/malard/mask/mtngla/static/RGIv60/Glacier/HMA/cell_x1000000_y200000_s100000/mask_Glacier_x1000000_y200000_s100000.gpkg\"},{\"gridCell\":{\"minX\":1000000,\"minY\":300000,\"size\":100000},\"fileName\":\"/data/puma1/scratch/malard/mask/mtngla/static/RGIv60/Glacier/HMA/cell_x1000000_y300000_s100000/mask_Glacier_x1000000_y300000_s100000.gpkg\"},{\"gridCell\":{\"minX\":1000000,\"minY\":400000,\"size\":100000},\"fileName\":\"/data/puma1/scratch/malard/mask/mtngla/static/RGIv60/Glacier/HMA/cell_x1000000_y400000_s100000/mask_Glacier_x1000000_y400000_s100000.gpkg\"},{\"gridCell\":{\"minX\":1100000,\"minY\":-900000,\"size\":100000},\"fileName\":\"/data/puma1/scratch/malard/mask/mtngla/static/RGIv60/Glacier/HMA/cell_x1100000_y-900000_s100000/mask_Glacier_x1100000_y-900000_s100000.gpkg\"},{\"gridCell\":{\"minX\":1100000,\"minY\":-800000,\"size\":100000},\"fileName\":\"/data/puma1/scratch/malard/mask/mtngla/static/RGIv60/Glacier/HMA/cell_x1100000_y-800000_s100000/mask_Glacier_x1100000_y-800000_s100000.gpkg\"},{\"gridCell\":{\"minX\":1100000,\"minY\":-600000,\"size\":100000},\"fileName\":\"/data/puma1/scratch/malard/mask/mtngla/static/RGIv60/Glacier/HMA/cell_x1100000_y-600000_s100000/mask_Glacier_x1100000_y-600000_s100000.gpkg\"},{\"gridCell\":{\"minX\":1100000,\"minY\":-700000,\"size\":100000},\"fileName\":\"/data/puma1/scratch/malard/mask/mtngla/static/RGIv60/Glacier/HMA/cell_x1100000_y-700000_s100000/mask_Glacier_x1100000_y-700000_s100000.gpkg\"},{\"gridCell\":{\"minX\":1100000,\"minY\":-400000,\"size\":100000},\"fileName\":\"/data/puma1/scratch/malard/mask/mtngla/static/RGIv60/Glacier/HMA/cell_x1100000_y-400000_s100000/mask_Glacier_x1100000_y-400000_s100000.gpkg\"},{\"gridCell\":{\"minX\":1100000,\"minY\":0,\"size\":100000},\"fileName\":\"/data/puma1/scratch/malard/mask/mtngla/static/RGIv60/Glacier/HMA/cell_x1100000_y0_s100000/mask_Glacier_x1100000_y0_s100000.gpkg\"},{\"gridCell\":{\"minX\":1100000,\"minY\":200000,\"size\":100000},\"fileName\":\"/data/puma1/scratch/malard/mask/mtngla/static/RGIv60/Glacier/HMA/cell_x1100000_y200000_s100000/mask_Glacier_x1100000_y200000_s100000.gpkg\"},{\"gridCell\":{\"minX\":1100000,\"minY\":400000,\"size\":100000},\"fileName\":\"/data/puma1/scratch/malard/mask/mtngla/static/RGIv60/Glacier/HMA/cell_x1100000_y400000_s100000/mask_Glacier_x1100000_y400000_s100000.gpkg\"},{\"gridCell\":{\"minX\":1100000,\"minY\":300000,\"size\":100000},\"fileName\":\"/data/puma1/scratch/malard/mask/mtngla/static/RGIv60/Glacier/HMA/cell_x1100000_y300000_s100000/mask_Glacier_x1100000_y300000_s100000.gpkg\"},{\"gridCell\":{\"minX\":1200000,\"minY\":-900000,\"size\":100000},\"fileName\":\"/data/puma1/scratch/malard/mask/mtngla/static/RGIv60/Glacier/HMA/cell_x1200000_y-900000_s100000/mask_Glacier_x1200000_y-900000_s100000.gpkg\"},{\"gridCell\":{\"minX\":1200000,\"minY\":-800000,\"size\":100000},\"fileName\":\"/data/puma1/scratch/malard/mask/mtngla/static/RGIv60/Glacier/HMA/cell_x1200000_y-800000_s100000/mask_Glacier_x1200000_y-800000_s100000.gpkg\"},{\"gridCell\":{\"minX\":1200000,\"minY\":-700000,\"size\":100000},\"fileName\":\"/data/puma1/scratch/malard/mask/mtngla/static/RGIv60/Glacier/HMA/cell_x1200000_y-700000_s100000/mask_Glacier_x1200000_y-700000_s100000.gpkg\"},{\"gridCell\":{\"minX\":1200000,\"minY\":-400000,\"size\":100000},\"fileName\":\"/data/puma1/scratch/malard/mask/mtngla/static/RGIv60/Glacier/HMA/cell_x1200000_y-400000_s100000/mask_Glacier_x1200000_y-400000_s100000.gpkg\"},{\"gridCell\":{\"minX\":1200000,\"minY\":-100000,\"size\":100000},\"fileName\":\"/data/puma1/scratch/malard/mask/mtngla/static/RGIv60/Glacier/HMA/cell_x1200000_y-100000_s100000/mask_Glacier_x1200000_y-100000_s100000.gpkg\"},{\"gridCell\":{\"minX\":1200000,\"minY\":0,\"size\":100000},\"fileName\":\"/data/puma1/scratch/malard/mask/mtngla/static/RGIv60/Glacier/HMA/cell_x1200000_y0_s100000/mask_Glacier_x1200000_y0_s100000.gpkg\"},{\"gridCell\":{\"minX\":1200000,\"minY\":400000,\"size\":100000},\"fileName\":\"/data/puma1/scratch/malard/mask/mtngla/static/RGIv60/Glacier/HMA/cell_x1200000_y400000_s100000/mask_Glacier_x1200000_y400000_s100000.gpkg\"},{\"gridCell\":{\"minX\":1200000,\"minY\":300000,\"size\":100000},\"fileName\":\"/data/puma1/scratch/malard/mask/mtngla/static/RGIv60/Glacier/HMA/cell_x1200000_y300000_s100000/mask_Glacier_x1200000_y300000_s100000.gpkg\"},{\"gridCell\":{\"minX\":1300000,\"minY\":-900000,\"size\":100000},\"fileName\":\"/data/puma1/scratch/malard/mask/mtngla/static/RGIv60/Glacier/HMA/cell_x1300000_y-900000_s100000/mask_Glacier_x1300000_y-900000_s100000.gpkg\"},{\"gridCell\":{\"minX\":1300000,\"minY\":-600000,\"size\":100000},\"fileName\":\"/data/puma1/scratch/malard/mask/mtngla/static/RGIv60/Glacier/HMA/cell_x1300000_y-600000_s100000/mask_Glacier_x1300000_y-600000_s100000.gpkg\"},{\"gridCell\":{\"minX\":1300000,\"minY\":-800000,\"size\":100000},\"fileName\":\"/data/puma1/scratch/malard/mask/mtngla/static/RGIv60/Glacier/HMA/cell_x1300000_y-800000_s100000/mask_Glacier_x1300000_y-800000_s100000.gpkg\"},{\"gridCell\":{\"minX\":1300000,\"minY\":-400000,\"size\":100000},\"fileName\":\"/data/puma1/scratch/malard/mask/mtngla/static/RGIv60/Glacier/HMA/cell_x1300000_y-400000_s100000/mask_Glacier_x1300000_y-400000_s100000.gpkg\"},{\"gridCell\":{\"minX\":1300000,\"minY\":-500000,\"size\":100000},\"fileName\":\"/data/puma1/scratch/malard/mask/mtngla/static/RGIv60/Glacier/HMA/cell_x1300000_y-500000_s100000/mask_Glacier_x1300000_y-500000_s100000.gpkg\"},{\"gridCell\":{\"minX\":1300000,\"minY\":-100000,\"size\":100000},\"fileName\":\"/data/puma1/scratch/malard/mask/mtngla/static/RGIv60/Glacier/HMA/cell_x1300000_y-100000_s100000/mask_Glacier_x1300000_y-100000_s100000.gpkg\"},{\"gridCell\":{\"minX\":1300000,\"minY\":300000,\"size\":100000},\"fileName\":\"/data/puma1/scratch/malard/mask/mtngla/static/RGIv60/Glacier/HMA/cell_x1300000_y300000_s100000/mask_Glacier_x1300000_y300000_s100000.gpkg\"},{\"gridCell\":{\"minX\":1400000,\"minY\":-800000,\"size\":100000},\"fileName\":\"/data/puma1/scratch/malard/mask/mtngla/static/RGIv60/Glacier/HMA/cell_x1400000_y-800000_s100000/mask_Glacier_x1400000_y-800000_s100000.gpkg\"},{\"gridCell\":{\"minX\":1400000,\"minY\":-900000,\"size\":100000},\"fileName\":\"/data/puma1/scratch/malard/mask/mtngla/static/RGIv60/Glacier/HMA/cell_x1400000_y-900000_s100000/mask_Glacier_x1400000_y-900000_s100000.gpkg\"},{\"gridCell\":{\"minX\":1400000,\"minY\":-600000,\"size\":100000},\"fileName\":\"/data/puma1/scratch/malard/mask/mtngla/static/RGIv60/Glacier/HMA/cell_x1400000_y-600000_s100000/mask_Glacier_x1400000_y-600000_s100000.gpkg\"},{\"gridCell\":{\"minX\":1400000,\"minY\":-500000,\"size\":100000},\"fileName\":\"/data/puma1/scratch/malard/mask/mtngla/static/RGIv60/Glacier/HMA/cell_x1400000_y-500000_s100000/mask_Glacier_x1400000_y-500000_s100000.gpkg\"},{\"gridCell\":{\"minX\":1400000,\"minY\":-400000,\"size\":100000},\"fileName\":\"/data/puma1/scratch/malard/mask/mtngla/static/RGIv60/Glacier/HMA/cell_x1400000_y-400000_s100000/mask_Glacier_x1400000_y-400000_s100000.gpkg\"},{\"gridCell\":{\"minX\":1400000,\"minY\":-200000,\"size\":100000},\"fileName\":\"/data/puma1/scratch/malard/mask/mtngla/static/RGIv60/Glacier/HMA/cell_x1400000_y-200000_s100000/mask_Glacier_x1400000_y-200000_s100000.gpkg\"},{\"gridCell\":{\"minX\":1400000,\"minY\":300000,\"size\":100000},\"fileName\":\"/data/puma1/scratch/malard/mask/mtngla/static/RGIv60/Glacier/HMA/cell_x1400000_y300000_s100000/mask_Glacier_x1400000_y300000_s100000.gpkg\"},{\"gridCell\":{\"minX\":1400000,\"minY\":200000,\"size\":100000},\"fileName\":\"/data/puma1/scratch/malard/mask/mtngla/static/RGIv60/Glacier/HMA/cell_x1400000_y200000_s100000/mask_Glacier_x1400000_y200000_s100000.gpkg\"},{\"gridCell\":{\"minX\":1500000,\"minY\":-600000,\"size\":100000},\"fileName\":\"/data/puma1/scratch/malard/mask/mtngla/static/RGIv60/Glacier/HMA/cell_x1500000_y-600000_s100000/mask_Glacier_x1500000_y-600000_s100000.gpkg\"},{\"gridCell\":{\"minX\":1500000,\"minY\":-700000,\"size\":100000},\"fileName\":\"/data/puma1/scratch/malard/mask/mtngla/static/RGIv60/Glacier/HMA/cell_x1500000_y-700000_s100000/mask_Glacier_x1500000_y-700000_s100000.gpkg\"},{\"gridCell\":{\"minX\":1500000,\"minY\":-500000,\"size\":100000},\"fileName\":\"/data/puma1/scratch/malard/mask/mtngla/static/RGIv60/Glacier/HMA/cell_x1500000_y-500000_s100000/mask_Glacier_x1500000_y-500000_s100000.gpkg\"},{\"gridCell\":{\"minX\":1600000,\"minY\":-700000,\"size\":100000},\"fileName\":\"/data/puma1/scratch/malard/mask/mtngla/static/RGIv60/Glacier/HMA/cell_x1600000_y-700000_s100000/mask_Glacier_x1600000_y-700000_s100000.gpkg\"},{\"gridCell\":{\"minX\":1600000,\"minY\":-500000,\"size\":100000},\"fileName\":\"/data/puma1/scratch/malard/mask/mtngla/static/RGIv60/Glacier/HMA/cell_x1600000_y-500000_s100000/mask_Glacier_x1600000_y-500000_s100000.gpkg\"},{\"gridCell\":{\"minX\":1600000,\"minY\":-600000,\"size\":100000},\"fileName\":\"/data/puma1/scratch/malard/mask/mtngla/static/RGIv60/Glacier/HMA/cell_x1600000_y-600000_s100000/mask_Glacier_x1600000_y-600000_s100000.gpkg\"},{\"gridCell\":{\"minX\":1600000,\"minY\":-400000,\"size\":100000},\"fileName\":\"/data/puma1/scratch/malard/mask/mtngla/static/RGIv60/Glacier/HMA/cell_x1600000_y-400000_s100000/mask_Glacier_x1600000_y-400000_s100000.gpkg\"},{\"gridCell\":{\"minX\":1600000,\"minY\":-300000,\"size\":100000},\"fileName\":\"/data/puma1/scratch/malard/mask/mtngla/static/RGIv60/Glacier/HMA/cell_x1600000_y-300000_s100000/mask_Glacier_x1600000_y-300000_s100000.gpkg\"}]\n"
     ]
    }
   ],
   "source": [
    "parentdataset = 'mtngla'\n",
    "dataSet = 'RGIv60'\n",
    "maskType = 'Glacier'\n",
    "region = 'HMA'\n",
    "\n",
    "print(query.getGridCellMasks(parentdataset, dataSet, maskType, region))"
   ]
  },
  {
   "cell_type": "code",
   "execution_count": null,
   "metadata": {},
   "outputs": [],
   "source": [
    "#gets the mask for a gridcell.\n",
    "\n",
    "print(query.getGridCellMask(parentdataset, dataSet, maskType, region,minX,minY,size))"
   ]
  },
  {
   "cell_type": "code",
   "execution_count": null,
   "metadata": {},
   "outputs": [],
   "source": [
    "parentDsName = 'test'\n",
    "runName = 'gctest_2'\n",
    "minX = 0.0\n",
    "minY = 200000.0\n",
    "size = 100000.0\n",
    "\n",
    "#expects a dictionary of string to double.\n",
    "statistics = {'NumberOfPoints':1000,'MaskedPoints':500}\n",
    "\n",
    "query.publishGridCellStats( parentDsName, runName, minX, minY, size, statistics )"
   ]
  },
  {
   "cell_type": "code",
   "execution_count": null,
   "metadata": {},
   "outputs": [],
   "source": [
    "#get the available run statistics\n",
    "parentDsName = 'mtngla'\n",
    "query.getAvailableRunStatistics( parentDsName )"
   ]
  },
  {
   "cell_type": "code",
   "execution_count": null,
   "metadata": {},
   "outputs": [],
   "source": [
    "#get the statistics for a gridcell.\n",
    "query.getGridCellStatistics(parentDsName, runName, minX, minY, size)"
   ]
  },
  {
   "cell_type": "code",
   "execution_count": null,
   "metadata": {},
   "outputs": [],
   "source": [
    "query.getRunStatistics(parentDsName,\"TestRun\")"
   ]
  },
  {
   "cell_type": "code",
   "execution_count": null,
   "metadata": {},
   "outputs": [],
   "source": [
    "#Get the proj4 for code for the given shortCode.\n",
    "print( query.getProjection('HMA'))"
   ]
  },
  {
   "cell_type": "code",
   "execution_count": null,
   "metadata": {},
   "outputs": [],
   "source": [
    "#Publish points for a grid cell.\n",
    "parentDataSet = 'mtngla' #intended usage mtngla\n",
    "dataSet = 'publishtest'\n",
    "region = 'himalayas'\n",
    "projection = 'HMA'\n",
    "sourceFileName = '/data/snail1/scratch/tandemx/swath/y2017/m6/cell_HMA_0_600000/GridCell_0.nc'\n",
    "minX = 0\n",
    "minY = 600000\n",
    "size = 100000\n",
    "\n",
    "query.publishGridCellPoints(parentDataSet, dataSet,region, minX, minY, size, sourceFileName, projection)\n"
   ]
  },
  {
   "cell_type": "code",
   "execution_count": null,
   "metadata": {},
   "outputs": [],
   "source": [
    "print(datetime.datetime.fromtimestamp(1337598197))\n",
    "print(datetime.datetime.fromtimestamp(1279356087))"
   ]
  },
  {
   "cell_type": "code",
   "execution_count": null,
   "metadata": {},
   "outputs": [],
   "source": []
  }
 ],
 "metadata": {
  "kernelspec": {
   "display_name": "Python 3",
   "language": "python",
   "name": "python3"
  },
  "language_info": {
   "codemirror_mode": {
    "name": "ipython",
    "version": 3
   },
   "file_extension": ".py",
   "mimetype": "text/x-python",
   "name": "python",
   "nbconvert_exporter": "python",
   "pygments_lexer": "ipython3",
   "version": "3.7.3"
  }
 },
 "nbformat": 4,
 "nbformat_minor": 2
}
