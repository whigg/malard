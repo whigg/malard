{
 "cells": [
  {
   "cell_type": "code",
   "execution_count": 2,
   "metadata": {},
   "outputs": [
    {
     "name": "stdout",
     "output_type": "stream",
     "text": [
      "{\"name\":\"test\",\"outputCdfPath\":\"c:/earthwave/jonathan/testdata/\"}\n",
      "{\"dataSets\":[{\"name\":\"mtngla\"},{\"name\":\"scratch\"}]}\n",
      "{\"dataSets\":[{\"name\":\"mtngla\"}]}\n",
      "{\"gridCellMinX\":-1900000,\"gridCellMaxX\":1100000,\"gridCellMinY\":-1100000,\"gridCellMaxY\":5600000,\"minTime\":1279356087000,\"maxTime\":1285386965000,\"totalPoints\":635961,\"numberOfShards\":256}\n",
      "c:/earthwave/jonathan/testdata/data.nc\n"
     ]
    }
   ],
   "source": [
    "import DataSetQuery\n",
    "\n",
    "query = DataSetQuery.DataSetQuery('http://localhost:9000')\n",
    "\n",
    "#Sets the output directory for the getnetcdffile call\n",
    "query.setEnvironment('test','c:/earthwave/jonathan/testdata/')\n",
    "\n",
    "print(query.getEnvironment())\n",
    "\n",
    "print(query.getParentDataSets())\n",
    "\n",
    "print(query.getDataSets('mtngla'))\n",
    "\n",
    "print(query.getDataSetBoundingBox( 'mtngla','mtngla' ))\n",
    "\n",
    "minX=-1900000\n",
    "maxX=1100000\n",
    "minY=-1100000\n",
    "maxY=5600000\n",
    "minT=1279356087000\n",
    "maxT=1285386965000\n",
    "\n",
    "gcs = query.getGridCells( 'mtngla','mtngla',minX,maxX,minY,maxY,minT,maxT ) \n",
    "\n",
    "shards = query.getShards('mtngla','mtngla',minX,maxX,minY,maxY,minT,maxT)\n",
    "\n",
    "print(query.getNetCdfFile('mtngla','mtngla',minX,maxX,minY,maxY,minT,maxT))"
   ]
  },
  {
   "cell_type": "code",
   "execution_count": 6,
   "metadata": {},
   "outputs": [
    {
     "name": "stdout",
     "output_type": "stream",
     "text": [
      "   gridCellMaxX  gridCellMaxY  gridCellMinX  gridCellMinY        maxTime  \\\n",
      "0       -300000        800000       -400000        700000  1284095031000   \n",
      "1       -600000       5600000       -700000       5500000  1283795773000   \n",
      "\n",
      "         minTime  numberOfShards  totalPoints  \n",
      "0  1284095031000               1        32866  \n",
      "1  1283795773000               1            3  \n",
      "TP=[635961] MaxPoints in Cell=[104233]\n",
      "            maxT          maxX           maxY           minT          minX  \\\n",
      "0  1285386965000  97288.981396  255996.974922  1285386965000  55565.774818   \n",
      "1  1285386965000  56689.479345  569805.677418  1285386965000  55440.288649   \n",
      "\n",
      "            minY  numberOfPoints  \\\n",
      "0  222051.218682               4   \n",
      "1  568799.937460               2   \n",
      "\n",
      "                                           shardName  \n",
      "0  C:\\Earthwave\\/mtngla/swath/y2010/m9/cell_HMA_0...  \n",
      "1  C:\\Earthwave\\/mtngla/swath/y2010/m9/cell_HMA_0...  \n"
     ]
    }
   ],
   "source": [
    "from pandas.io.json import json_normalize\n",
    "import json\n",
    "\n",
    "\n",
    "data = json.loads(gcs)\n",
    "df = json_normalize(data['boxes'])\n",
    "\n",
    "print(df[0:2])\n",
    "\n",
    "totalPoints = df['totalPoints'].sum()\n",
    "maxNumPoints = df['totalPoints'].max()\n",
    "\n",
    "print('TP=[%d] MaxPoints in Cell=[%d]'%(totalPoints,maxNumPoints))   \n",
    "\n",
    "dataShard = json.loads(shards)\n",
    "\n",
    "\n",
    "dfShards = json_normalize(dataShard['shards'])\n",
    "\n",
    "print(dfShards[0:2])\n",
    "\n"
   ]
  },
  {
   "cell_type": "code",
   "execution_count": null,
   "metadata": {},
   "outputs": [],
   "source": []
  }
 ],
 "metadata": {
  "kernelspec": {
   "display_name": "Python 3",
   "language": "python",
   "name": "python3"
  },
  "language_info": {
   "codemirror_mode": {
    "name": "ipython",
    "version": 3
   },
   "file_extension": ".py",
   "mimetype": "text/x-python",
   "name": "python",
   "nbconvert_exporter": "python",
   "pygments_lexer": "ipython3",
   "version": "3.6.5"
  }
 },
 "nbformat": 4,
 "nbformat_minor": 2
}
