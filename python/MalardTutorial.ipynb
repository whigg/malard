{
 "cells": [
  {
   "cell_type": "code",
   "execution_count": 3,
   "metadata": {},
   "outputs": [
    {
     "name": "stdout",
     "output_type": "stream",
     "text": [
      "{\"name\":\"test\",\"outputCdfPath\":\"/data/puma1/scratch/malard/export/\"}\n",
      "{\"dataSets\":[{\"name\":\"mtngla\"},{\"name\":\"tempstore\"}]}\n",
      "{\"dataSets\":[{\"name\":\"srtm\"},{\"name\":\"tandemx\"}]}\n",
      "{\"gridCellMinX\":-1900000,\"gridCellMaxX\":1700000,\"gridCellMinY\":-1300000,\"gridCellMaxY\":900000,\"minTime\":1279266673000,\"maxTime\":1546296307000,\"totalPoints\":5307063627,\"numberOfShards\":53566}\n",
      "{\"gridCellMinX\":-1900000,\"gridCellMaxX\":1700000,\"gridCellMinY\":-1300000,\"gridCellMaxY\":900000,\"minTime\":1279266673000,\"maxTime\":1546296307000,\"totalPoints\":5307063627,\"numberOfShards\":53828}\n"
     ]
    }
   ],
   "source": [
    "import DataSetQuery\n",
    "import datetime\n",
    "\n",
    "#Sets the URL of the Malard ServiceGateway.\n",
    "query = DataSetQuery.DataSetQuery('http://localhost:9000')\n",
    "\n",
    "#Sets the output directory for all users of the server.\n",
    "query.setEnvironment('test','/data/puma1/scratch/malard/export/')\n",
    "#Retrieves the environment that has just been set.\n",
    "print(query.getEnvironment())\n",
    "\n",
    "#determines the databases that store multiple datasets \n",
    "print(query.getParentDataSets())\n",
    "#retrieve the data sets for a given parent\n",
    "print(query.getDataSets('mtngla'))\n",
    "#The overall data cube for the two datasets\n",
    "print(query.getDataSetBoundingBox( 'mtngla','tandemx' ))\n",
    "print(query.getDataSetBoundingBox( 'mtngla','srtm' ))\n",
    "\n",
    "#Setup the bounding box\n",
    "minX=0\n",
    "maxX=100000\n",
    "minY=0\n",
    "maxY=100000\n",
    "minT=datetime.datetime(2010,7,1,0,0)\n",
    "maxT=datetime.datetime(2010,12,31,0,0)\n",
    "\n",
    "#Queries the catalogue and returns the gridcells grouped by x and y with the min and max times.\n",
    "gcs = query.getGridCells( 'mtngla','tandemx',minX,maxX,minY,maxY,minT,maxT )\n",
    "#print(gcs)\n",
    "\n",
    "#Queries the catalogue to determine the shards that comprise the bounding box of interest.\n",
    "shards = query.getShards('mtngla','tandemx',minX,maxX,minY,maxY,minT,maxT)\n",
    "#print(shards)\n",
    "\n"
   ]
  },
  {
   "cell_type": "code",
   "execution_count": 4,
   "metadata": {},
   "outputs": [
    {
     "name": "stdout",
     "output_type": "stream",
     "text": [
      "   gridCellMaxX  gridCellMaxY  gridCellMinX  gridCellMinY        maxTime  \\\n",
      "0        200000        200000        100000        100000  1292715924000   \n",
      "1             0        200000       -100000        100000  1293061242000   \n",
      "2        100000             0             0       -100000  1292888583000   \n",
      "3        200000             0        100000       -100000  1292543264000   \n",
      "4        100000        100000             0             0  1293061242000   \n",
      "5             0        100000       -100000             0  1293233898000   \n",
      "6        200000        100000        100000             0  1292543264000   \n",
      "7        100000        200000             0        100000  1292888583000   \n",
      "8             0             0       -100000       -100000  1293061242000   \n",
      "\n",
      "         minTime  numberOfShards  totalPoints  \n",
      "0  1279824627000               5       588262  \n",
      "1  1280515145000               6       950622  \n",
      "2  1280169839000               5       903633  \n",
      "3  1279997229000               5       828783  \n",
      "4  1280169839000               5       868710  \n",
      "5  1280515145000               6       560787  \n",
      "6  1279824627000               5       779410  \n",
      "7  1279997229000               6      1044104  \n",
      "8  1280515145000               6      1105155  \n",
      "TP=[7629466] MaxPoints in Cell=[1105155]\n"
     ]
    }
   ],
   "source": [
    "#loads the json output of the getGridCells call and creates a flattened DataFrame.\n",
    "from pandas.io.json import json_normalize\n",
    "import json\n",
    "\n",
    "data = json.loads(gcs)\n",
    "df = json_normalize(data['boxes'])\n",
    "\n",
    "print(df)\n",
    "\n",
    "totalPoints = df['totalPoints'].sum()\n",
    "maxNumPoints = df['totalPoints'].max()\n",
    "\n",
    "print('TP=[%d] MaxPoints in Cell=[%d]'%(totalPoints,maxNumPoints))   \n",
    "\n"
   ]
  },
  {
   "cell_type": "code",
   "execution_count": 5,
   "metadata": {},
   "outputs": [
    {
     "name": "stdout",
     "output_type": "stream",
     "text": [
      "0    /data/snail1/scratch/tandemx/swath/y2010/m9/ce...\n",
      "1    /data/snail1/scratch/tandemx/swath/y2010/m11/c...\n",
      "2    /data/snail1/scratch/tandemx/swath/y2010/m10/c...\n",
      "3    /data/snail1/scratch/tandemx/swath/y2010/m12/c...\n",
      "4    /data/snail1/scratch/tandemx/swath/y2010/m7/ce...\n",
      "Name: shardName, dtype: object\n"
     ]
    }
   ],
   "source": [
    "#Converts the Json output of the getShards call into a DataFrame.\n",
    "dataShard = json.loads(shards)\n",
    "dfShards = json_normalize(dataShard['shards'])\n",
    "\n",
    "print(dfShards['shardName'])\n"
   ]
  },
  {
   "cell_type": "code",
   "execution_count": 6,
   "metadata": {},
   "outputs": [
    {
     "name": "stdout",
     "output_type": "stream",
     "text": [
      "http://localhost:9000/point/datasetcolumns/mtngla/tandemx\n",
      "{\"column\":[{\"name\":\"lon\"},{\"name\":\"lat\"},{\"name\":\"elev\"},{\"name\":\"heading\"},{\"name\":\"demDiff\"},{\"name\":\"demDiffMad\"},{\"name\":\"demDiffMad2\"},{\"name\":\"phaseAmb\"},{\"name\":\"meanDiffSpread\"},{\"name\":\"wf_number\"},{\"name\":\"sampleNb\"},{\"name\":\"power\"},{\"name\":\"powerdB\"},{\"name\":\"phase\"},{\"name\":\"phaseS\"},{\"name\":\"phaseSSegment\"},{\"name\":\"phaseConfidence\"},{\"name\":\"coh\"},{\"name\":\"x\"},{\"name\":\"y\"},{\"name\":\"time\"},{\"name\":\"swathFileId\"}]}\n"
     ]
    }
   ],
   "source": [
    "#Gets the available column names from the NetCDFs that are in the BoundingBox.\n",
    "print(query.getDataSetColumns('mtngla','tandemx',minX,maxX,minY,maxY,minT,maxT))"
   ]
  },
  {
   "cell_type": "code",
   "execution_count": 7,
   "metadata": {},
   "outputs": [
    {
     "name": "stdout",
     "output_type": "stream",
     "text": [
      "File created: /data/puma1/scratch/malard/export/mtngla_tandemx_0_100000_0_100000_1277938800000_1293753600000.nc\n",
      "Max Elevation 8791.354492\n",
      "Min Elevation 4438.363770\n"
     ]
    }
   ],
   "source": [
    "import MalardHelpers\n",
    "\n",
    "#Returns a file handle to a NetCDF that is a merge and filter of all the shards in a BoundingBox.\n",
    "fileName = query.getNetCdfFile('mtngla','tandemx',minX,maxX,minY,maxY,minT,maxT)\n",
    "\n",
    "print(\"File created: %s\" % (fileName))\n",
    "\n",
    "#Converts the NetCDF into a DataFrame.\n",
    "df = MalardHelpers.getDataFrameFromNetCDF(fileName)\n",
    "\n",
    "print(\"Max Elevation %f\" % (df['elev'].max()))\n",
    "print(\"Min Elevation %f\" % (df['elev'].min()))\n"
   ]
  },
  {
   "cell_type": "code",
   "execution_count": 11,
   "metadata": {},
   "outputs": [
    {
     "name": "stdout",
     "output_type": "stream",
     "text": [
      "Max Coh [1.000000] Min Coh [0.600000] Max Power [60915.500000] Min Power [1000.004211] Count [868704]\n",
      "Max Coh [1.000000] Min Coh [0.800000] Max Power [60325.578125] Min Power [10000.048828] Count [189280]\n"
     ]
    }
   ],
   "source": [
    "\n",
    "#a list of columns to see in the output (x,y,time will be added)\n",
    "projections = ['elev','power','coh'] \n",
    "#a list of dictionaries that specify the filters\n",
    "#only numeric fields are supported with the following operations gt(greater than), gte ( greater than equals), lt (less than) and lte (less than equals)\n",
    "#filters are treated as and conditions\n",
    "filters = [{'column':'power','op':'gt','threshold':10000},{'column':'coh','op':'gt','threshold':0.8}]\n",
    "\n",
    "#No filters\n",
    "nofilters = query.executeQuery( 'mtngla','tandemx',minX,maxX,minY,maxY,minT,maxT,projections,[])\n",
    "#Converts the NetCDF into a DataFrame.\n",
    "dfNoFilter = MalardHelpers.getDataFrameFromNetCDF(nofilters)\n",
    "\n",
    "print( \"Max Coh [%f] Min Coh [%f] Max Power [%f] Min Power [%f] Count [%d]\" % ( dfNoFilter['coh'].max(),  dfNoFilter['coh'].min(), dfNoFilter['power'].max(), dfNoFilter['power'].min(), dfNoFilter['power'].count() ) )  \n",
    "\n",
    "#With filters\n",
    "withfilters = query.executeQuery( 'mtngla','tandemx',minX,maxX,minY,maxY,minT,maxT,projections,filters)\n",
    "#Converts the NetCDF into a DataFrame.\n",
    "withFilter = MalardHelpers.getDataFrameFromNetCDF(withfilters)\n",
    "\n",
    "print( \"Max Coh [%f] Min Coh [%f] Max Power [%f] Min Power [%f] Count [%d]\" % ( withFilter['coh'].max(),  withFilter['coh'].min(), withFilter['power'].max(), withFilter['power'].min(), withFilter['power'].count() ) )  \n"
   ]
  },
  {
   "cell_type": "code",
   "execution_count": null,
   "metadata": {},
   "outputs": [],
   "source": []
  }
 ],
 "metadata": {
  "kernelspec": {
   "display_name": "Python 3",
   "language": "python",
   "name": "python3"
  },
  "language_info": {
   "codemirror_mode": {
    "name": "ipython",
    "version": 3
   },
   "file_extension": ".py",
   "mimetype": "text/x-python",
   "name": "python",
   "nbconvert_exporter": "python",
   "pygments_lexer": "ipython3",
   "version": "3.7.3"
  }
 },
 "nbformat": 4,
 "nbformat_minor": 2
}
