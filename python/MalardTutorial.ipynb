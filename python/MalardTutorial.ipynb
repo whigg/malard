{
 "cells": [
  {
   "cell_type": "code",
   "execution_count": 5,
   "metadata": {},
   "outputs": [
    {
     "name": "stdout",
     "output_type": "stream",
     "text": [
      "{\"name\":\"test\",\"outputCdfPath\":\"/data/puma1/scratch/malard/export/\"}\n",
      "{\"dataSets\":[{\"name\":\"mtngla\"},{\"name\":\"tempstore\"}]}\n",
      "{\"dataSets\":[{\"name\":\"srtm\"},{\"name\":\"tandemx\"}]}\n",
      "{\"gridCellMinX\":-1900000,\"gridCellMaxX\":1700000,\"gridCellMinY\":-1300000,\"gridCellMaxY\":900000,\"minTime\":1279266673000,\"maxTime\":1546296307000,\"totalPoints\":5307063627,\"numberOfShards\":53566}\n",
      "{\"gridCellMinX\":-1900000,\"gridCellMaxX\":1700000,\"gridCellMinY\":-1300000,\"gridCellMaxY\":900000,\"minTime\":1279266673000,\"maxTime\":1546296307000,\"totalPoints\":5307063627,\"numberOfShards\":53828}\n",
      "/data/puma1/scratch/malard/export/mtngla_tandemx_0_100000_0_100000_1277938800000_1293753600000.nc\n"
     ]
    }
   ],
   "source": [
    "import DataSetQuery\n",
    "import datetime\n",
    "\n",
    "\n",
    "query = DataSetQuery.DataSetQuery('http://localhost:9000')\n",
    "\n",
    "#Sets the output directory for the getnetcdffile call\n",
    "query.setEnvironment('test','/data/puma1/scratch/malard/export/')\n",
    "\n",
    "print(query.getEnvironment())\n",
    "\n",
    "print(query.getParentDataSets())\n",
    "\n",
    "print(query.getDataSets('mtngla'))\n",
    "\n",
    "print(query.getDataSetBoundingBox( 'mtngla','tandemx' ))\n",
    "print(query.getDataSetBoundingBox( 'mtngla','srtm' ))\n",
    "\n",
    "\n",
    "minX=0\n",
    "maxX=100000\n",
    "minY=0\n",
    "maxY=100000\n",
    "minT=datetime.datetime(2010,7,1,0,0)\n",
    "maxT=datetime.datetime(2010,12,31,0,0)\n",
    "\n",
    "gcs = query.getGridCells( 'mtngla','tandemx',minX,maxX,minY,maxY,minT,maxT )\n",
    "#print(gcs)\n",
    "\n",
    "shards = query.getShards('mtngla','tandemx',minX,maxX,minY,maxY,minT,maxT)\n",
    "#print(shards)\n",
    "\n",
    "print(query.getNetCdfFile('mtngla','tandemx',minX,maxX,minY,maxY,minT,maxT))"
   ]
  },
  {
   "cell_type": "code",
   "execution_count": 12,
   "metadata": {},
   "outputs": [
    {
     "name": "stdout",
     "output_type": "stream",
     "text": [
      "   gridCellMaxX  gridCellMaxY  gridCellMinX  gridCellMinY        maxTime  \\\n",
      "0        200000        200000        100000        100000  1292715924000   \n",
      "1             0        200000       -100000        100000  1293061242000   \n",
      "2        100000             0             0       -100000  1292888583000   \n",
      "3        200000             0        100000       -100000  1292543264000   \n",
      "4        100000        100000             0             0  1293061242000   \n",
      "5             0        100000       -100000             0  1293233898000   \n",
      "6        200000        100000        100000             0  1292543264000   \n",
      "7        100000        200000             0        100000  1292888583000   \n",
      "8             0             0       -100000       -100000  1293061242000   \n",
      "\n",
      "         minTime  numberOfShards  totalPoints  \n",
      "0  1279824627000               5       588262  \n",
      "1  1280515145000               6       950622  \n",
      "2  1280169839000               5       903633  \n",
      "3  1279997229000               5       828783  \n",
      "4  1280169839000               5       868710  \n",
      "5  1280515145000               6       560787  \n",
      "6  1279824627000               5       779410  \n",
      "7  1279997229000               6      1044104  \n",
      "8  1280515145000               6      1105155  \n",
      "TP=[7629466] MaxPoints in Cell=[1105155]\n"
     ]
    }
   ],
   "source": [
    "from pandas.io.json import json_normalize\n",
    "import json\n",
    "\n",
    "\n",
    "data = json.loads(gcs)\n",
    "df = json_normalize(data['boxes'])\n",
    "\n",
    "print(df)\n",
    "\n",
    "totalPoints = df['totalPoints'].sum()\n",
    "maxNumPoints = df['totalPoints'].max()\n",
    "\n",
    "print('TP=[%d] MaxPoints in Cell=[%d]'%(totalPoints,maxNumPoints))   \n",
    "\n"
   ]
  },
  {
   "cell_type": "code",
   "execution_count": 11,
   "metadata": {},
   "outputs": [
    {
     "name": "stdout",
     "output_type": "stream",
     "text": [
      "0    /data/snail1/scratch/tandemx/swath/y2010/m9/ce...\n",
      "1    /data/snail1/scratch/tandemx/swath/y2010/m11/c...\n",
      "2    /data/snail1/scratch/tandemx/swath/y2010/m10/c...\n",
      "3    /data/snail1/scratch/tandemx/swath/y2010/m12/c...\n",
      "4    /data/snail1/scratch/tandemx/swath/y2010/m7/ce...\n",
      "Name: shardName, dtype: object\n"
     ]
    }
   ],
   "source": [
    "\n",
    "dataShard = json.loads(shards)\n",
    "\n",
    "\n",
    "dfShards = json_normalize(dataShard['shards'])\n",
    "\n",
    "print(dfShards['shardName'])\n"
   ]
  },
  {
   "cell_type": "code",
   "execution_count": null,
   "metadata": {},
   "outputs": [],
   "source": []
  }
 ],
 "metadata": {
  "kernelspec": {
   "display_name": "Python 3",
   "language": "python",
   "name": "python3"
  },
  "language_info": {
   "codemirror_mode": {
    "name": "ipython",
    "version": 3
   },
   "file_extension": ".py",
   "mimetype": "text/x-python",
   "name": "python",
   "nbconvert_exporter": "python",
   "pygments_lexer": "ipython3",
   "version": "3.7.3"
  }
 },
 "nbformat": 4,
 "nbformat_minor": 2
}
