{
 "cells": [
  {
   "cell_type": "code",
   "execution_count": null,
   "metadata": {
    "scrolled": false
   },
   "outputs": [],
   "source": [
    "import asyncio\n",
    "import websockets\n",
    "import nest_asyncio\n",
    "\n",
    "import json\n",
    "\n",
    "async def validate(uri, request):\n",
    "    async with websockets.connect(uri) as websocket:\n",
    "        await websocket.send(request)\n",
    "        i = 1\n",
    "        data = []\n",
    "        while True:\n",
    "            try:\n",
    "                response = await websocket.recv()\n",
    "                data.append(response)\n",
    "            except websockets.ConnectionClosed:\n",
    "                return data\n",
    "            print('Receiving... ' + response + ' [' + str(i) + ']')\n",
    "            i = i + 1\n",
    "\n",
    "async def validateNetCdf( path, startsWith, endsWith, columns ):\n",
    "    nest_asyncio.apply()\n",
    "    \n",
    "    loop = asyncio.get_running_loop()\n",
    "\n",
    "    # Create a new Future object.\n",
    "    fut = loop.create_future()\n",
    "\n",
    "    request = { 'dir' : path, 'startsWith' : startsWith, 'endsWith' : endsWith, 'expectedColumns' : columns } \n",
    "    j = json.dumps(request)\n",
    "\n",
    "    fut.set_result(await validate('ws://localhost:9000/validateasync', j))\n",
    "\n",
    "    return await fut\n",
    "\n",
    "path = 'C:\\\\Earthwave\\\\MountainGlaciers\\\\files'\n",
    "startsWith = 'CS'\n",
    "endsWith = '.nc'\n",
    "columns = ['coh','power']\n",
    "\n",
    "data = await validateNetCdf( path, startsWith, endsWith, columns )\n"
   ]
  },
  {
   "cell_type": "code",
   "execution_count": null,
   "metadata": {},
   "outputs": [],
   "source": [
    "print(data[5])\n",
    "    \n",
    "\n",
    "    \n",
    "\n"
   ]
  },
  {
   "cell_type": "code",
   "execution_count": null,
   "metadata": {},
   "outputs": [],
   "source": []
  },
  {
   "cell_type": "code",
   "execution_count": null,
   "metadata": {},
   "outputs": [],
   "source": []
  }
 ],
 "metadata": {
  "kernelspec": {
   "display_name": "Python 3",
   "language": "python",
   "name": "python3"
  },
  "language_info": {
   "codemirror_mode": {
    "name": "ipython",
    "version": 3
   },
   "file_extension": ".py",
   "mimetype": "text/x-python",
   "name": "python",
   "nbconvert_exporter": "python",
   "pygments_lexer": "ipython3",
   "version": "3.7.3"
  }
 },
 "nbformat": 4,
 "nbformat_minor": 2
}
