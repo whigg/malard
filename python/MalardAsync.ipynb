{
 "cells": [
  {
   "cell_type": "code",
   "execution_count": 1,
   "metadata": {
    "scrolled": false
   },
   "outputs": [],
   "source": [
    "import AsyncDataSetQuery\n",
    "\n",
    "environmentName = 'JALOCAL'\n",
    "\n",
    "query = AsyncDataSetQuery.AsyncDataSetQuery( 'ws://localhost:9000',environmentName)\n",
    "\n",
    "path = 'C:\\\\Earthwave\\\\MountainGlaciers\\\\files'\n",
    "startsWith = 'CS'\n",
    "endsWith = '.nc'\n",
    "columns = ['coh','power']\n",
    "\n",
    "data = await query.validateNetCdf( path, startsWith, endsWith, columns )\n"
   ]
  },
  {
   "cell_type": "code",
   "execution_count": 2,
   "metadata": {},
   "outputs": [
    {
     "name": "stdout",
     "output_type": "stream",
     "text": [
      "{\"fileName\":\"C:\\\\Earthwave\\\\MountainGlaciers\\\\files\\\\CS_LTA__SIR_SIN_2S_20100717T084127_20100717T084150_C001.nc\",\"status\":\"Success\",\"missingColumns\":[]}\n"
     ]
    }
   ],
   "source": [
    "print(data[5])\n",
    "    \n",
    "\n",
    "    \n",
    "\n"
   ]
  },
  {
   "cell_type": "code",
   "execution_count": null,
   "metadata": {},
   "outputs": [
    {
     "name": "stdout",
     "output_type": "stream",
     "text": [
      "Converter 1277938800.0\n",
      "Converter 1546206964.0\n",
      "{\"envName\": \"JALOCAL\", \"parentDSName\": \"mtngla\", \"dsName\": \"tandemx\", \"bbf\": {\"minX\": -1800000, \"maxX\": 1300000, \"minY\": -1200000, \"maxY\": 5600000, \"minT\": 1277938800.0, \"maxT\": 1546206964.0}, \"projections\": [], \"filters\": []}\n",
      "ws://localhost:9000/query\n",
      "Receiving... C:\\Earthwave\\malard\\export\\mtngla_tandemx_121951792.nc [1]\n",
      "['C:\\\\Earthwave\\\\malard\\\\export\\\\mtngla_tandemx_121951792.nc']\n"
     ]
    }
   ],
   "source": [
    "import datetime\n",
    "\n",
    "envName = 'JALOCAL'\n",
    "parentDs = 'mtngla'\n",
    "dataSetName ='tandemx'\n",
    "minX=-1800000\n",
    "maxX=1300000\n",
    "minY=-1200000\n",
    "maxY=5600000\n",
    "minT=datetime.datetime(2010,7,1,0,0)\n",
    "maxT=datetime.datetime(2018,12,30,21,56,4)\n",
    "\n",
    "projections = []\n",
    "filters = []\n",
    "\n",
    "filename = await query.executeQuery( parentDs, dataSetName, minX, maxX, minY, maxY, minT, maxT, projections, filters )\n",
    "\n",
    "print(filename)\n",
    "\n"
   ]
  },
  {
   "cell_type": "code",
   "execution_count": 4,
   "metadata": {},
   "outputs": [
    {
     "name": "stdout",
     "output_type": "stream",
     "text": [
      "['C:\\\\Earthwave\\\\malard\\\\export\\\\mtngla_tandemx_121951792.nc']\n"
     ]
    }
   ],
   "source": [
    "print(filename)"
   ]
  },
  {
   "cell_type": "code",
   "execution_count": null,
   "metadata": {},
   "outputs": [],
   "source": []
  }
 ],
 "metadata": {
  "kernelspec": {
   "display_name": "Python 3",
   "language": "python",
   "name": "python3"
  },
  "language_info": {
   "codemirror_mode": {
    "name": "ipython",
    "version": 3
   },
   "file_extension": ".py",
   "mimetype": "text/x-python",
   "name": "python",
   "nbconvert_exporter": "python",
   "pygments_lexer": "ipython3",
   "version": "3.7.3"
  }
 },
 "nbformat": 4,
 "nbformat_minor": 2
}
