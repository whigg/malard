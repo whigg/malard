{
 "cells": [
  {
   "cell_type": "code",
   "execution_count": null,
   "metadata": {
    "scrolled": false
   },
   "outputs": [],
   "source": [
    "import AsyncDataSetQuery\n",
    "import DataSetQuery\n",
    "\n",
    "environmentName = 'DEVv2'\n",
    "\n",
    "query = AsyncDataSetQuery.AsyncDataSetQuery( 'ws://localhost:9000',environmentName)\n",
    "querySync = DataSetQuery.DataSetQuery( 'http://localhost:9000',environmentName)\n"
   ]
  },
  {
   "cell_type": "code",
   "execution_count": null,
   "metadata": {},
   "outputs": [],
   "source": [
    "from datetime import datetime\n",
    "\n",
    "import re\n",
    "\n",
    "parentDataSet = 'mtngla'\n",
    "dataSet = 'tdx'\n",
    "region = 'himalayas'\n",
    "inputFilePath = 'C:\\\\Users\\\\s_j_a\\\\Dropbox\\\\Earthwave\\\\jon\\\\test\\\\'\n",
    "\n",
    "inputFileNames = ['CS_OFFL_SIR_SIN_2S_20170116T215527_20170116T215643_C001.nc','CS_OFFL_SIR_SIN_2S_20170118T215257_20170118T215407_C001.nc'  ]\n",
    "\n",
    "\n",
    "columnFilters = {'coh':0.3,'power':100.0}\n",
    "includeColumns =[]\n",
    "gridCellSize = 100000\n",
    "\n",
    "results = []\n",
    "\n",
    "for file in inputFileNames:\n",
    "    print(file)\n",
    "    matchObj = re.findall(r'2S_(\\d+T\\d+)', file)\n",
    "    dataTime = datetime.strptime(matchObj[0], '%Y%m%dT%H%M%S')\n",
    "    result = query.publishSwathToGridCells( parentDataSet, dataSet, region, file, inputFilePath, dataTime, columnFilters, includeColumns, gridCellSize )\n",
    "    results.append(result)    \n"
   ]
  },
  {
   "cell_type": "code",
   "execution_count": null,
   "metadata": {
    "scrolled": true
   },
   "outputs": [],
   "source": [
    "import json\n",
    "import pandas as pd\n",
    "\n",
    "data = []\n",
    "    \n",
    "for result in results:\n",
    "    jsonObj = json.loads(result)\n",
    "    swathDetails = jsonObj['swathDetails']\n",
    "    gridCells = pd.DataFrame(swathDetails['gridCells'])\n",
    "    gridCells['swathName'] = swathDetails['swathName']\n",
    "    gridCells['swathId'] = swathDetails['swathId']\n",
    "    gridCells['swathPointCount'] = swathDetails['swathPointCount']\n",
    "    gridCells['filteredSwathPointCount'] = swathDetails['filteredSwathPointCount']\n",
    "    data.append(gridCells)\n",
    "\n",
    "df = pd.concat(data, ignore_index=True)\n",
    "\n",
    "\n",
    "groupBy = df.groupby(['x','y','t','projection'])\n",
    "\n",
    "for k,v in groupBy:\n",
    "    x,y,t,projection = k\n",
    "    print(type(x))\n",
    "    files = list(v['fileName'])\n",
    "    print(query.publishGridCellPoints( parentDataSet, dataSet, region, x, y, t, gridCellSize, files, projection))\n",
    "    query.releaseCache(files)\n",
    "    \n"
   ]
  },
  {
   "cell_type": "code",
   "execution_count": null,
   "metadata": {},
   "outputs": [],
   "source": [
    "querySync.getParentDataSets()"
   ]
  },
  {
   "cell_type": "code",
   "execution_count": null,
   "metadata": {},
   "outputs": [],
   "source": [
    "querySync.getDataSets('mtngla')"
   ]
  },
  {
   "cell_type": "code",
   "execution_count": null,
   "metadata": {},
   "outputs": [],
   "source": [
    "querySync.getDataSetBoundingBox( 'mtngla','tdx3','himalayas' )"
   ]
  },
  {
   "cell_type": "code",
   "execution_count": null,
   "metadata": {},
   "outputs": [],
   "source": [
    "import MalardHelpers\n",
    "\n",
    "nofilters = query.executeQuery(  'mtngla','tdx3','himalayas',-1800000,1600000,-1200000,900000,1448949376,1451579312,[],[])\n",
    "#Converts the NetCDF into a DataFrame.\n",
    "dfNoFilter = MalardHelpers.getDataFrameFromNetCDF(nofilters.resultFileName)\n",
    "\n",
    "query.releaseCache(nofilters.resultFileName)\n"
   ]
  },
  {
   "cell_type": "code",
   "execution_count": null,
   "metadata": {},
   "outputs": [],
   "source": [
    "print(len(dfNoFilter['coh']))"
   ]
  },
  {
   "cell_type": "code",
   "execution_count": null,
   "metadata": {},
   "outputs": [],
   "source": [
    "grp = dfNoFilter.groupby( ['swathFileId'] )"
   ]
  },
  {
   "cell_type": "code",
   "execution_count": null,
   "metadata": {},
   "outputs": [],
   "source": [
    "count = 0\n",
    "\n",
    "for k,v in grp:\n",
    "    swathDetails = json.loads(querySync.getSwathDetailsFromId('mtngla','anothertest22','himalayas',k))\n",
    "    print( 'SwathId %d QueryRows %d SwathRows %d FilterSwathRows %d' % (k, len(v['coh']),swathDetails['swathPointCount'],swathDetails['filteredSwathPointCount']))"
   ]
  },
  {
   "cell_type": "code",
   "execution_count": null,
   "metadata": {},
   "outputs": [],
   "source": [
    "swathdir = 'C:\\\\Earthwave\\\\MountainGlaciers\\\\files\\\\'\n",
    "\n",
    "from os import listdir\n",
    "from os.path import isfile, join\n",
    "import re\n",
    "\n",
    "year = 2011\n",
    "\n",
    "def isyear( file, year ):\n",
    "    matchObj = re.findall(r'2S_(\\d+T\\d+)', file)\n",
    "    dataTime = datetime.strptime(matchObj[0], '%Y%m%dT%H%M%S')\n",
    "    \n",
    "    if dataTime.year == year:\n",
    "        return True\n",
    "    else:\n",
    "        return False\n",
    "    \n",
    "swathfiles = [f for f in listdir(swathdir) if isyear( f, year )]\n",
    "\n",
    "print(len(swathfiles))"
   ]
  },
  {
   "cell_type": "code",
   "execution_count": null,
   "metadata": {},
   "outputs": [],
   "source": []
  }
 ],
 "metadata": {
  "kernelspec": {
   "display_name": "Python 3",
   "language": "python",
   "name": "python3"
  },
  "language_info": {
   "codemirror_mode": {
    "name": "ipython",
    "version": 3
   },
   "file_extension": ".py",
   "mimetype": "text/x-python",
   "name": "python",
   "nbconvert_exporter": "python",
   "pygments_lexer": "ipython3",
   "version": "3.7.3"
  }
 },
 "nbformat": 4,
 "nbformat_minor": 2
}
