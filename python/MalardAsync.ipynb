{
 "cells": [
  {
   "cell_type": "code",
   "execution_count": null,
   "metadata": {
    "scrolled": false
   },
   "outputs": [],
   "source": [
    "import AsyncDataSetQuery\n",
    "\n",
    "environmentName = 'JALOCAL'\n",
    "\n",
    "query = AsyncDataSetQuery.AsyncDataSetQuery( 'ws://localhost:9000',environmentName)\n",
    "\n",
    "path = 'C:\\\\Earthwave\\\\MountainGlaciers\\\\files'\n",
    "startsWith = 'CS'\n",
    "endsWith = '.nc'\n",
    "columns = ['coh','power']\n",
    "\n",
    "#data = query.validateNetCdf( path, startsWith, endsWith, columns )\n",
    "\n"
   ]
  },
  {
   "cell_type": "code",
   "execution_count": null,
   "metadata": {
    "scrolled": false
   },
   "outputs": [],
   "source": [
    "import datetime\n",
    "\n",
    "envName = 'JALOCAL'\n",
    "parentDs = 'test'\n",
    "dataSetName ='ReadyData'\n",
    "region ='himalayas'\n",
    "minX=0\n",
    "maxX=100000\n",
    "minY=100000\n",
    "maxY=200000\n",
    "minT=datetime.datetime(2010,12,1,0,0)\n",
    "maxT=datetime.datetime(2010,12,31,0,0)\n",
    "\n",
    "projections = []\n",
    "filters = []\n",
    "\n",
    "filename = query.executeQuery( parentDs, dataSetName,region, minX, maxX, minY, maxY, minT, maxT, projections, filters )\n",
    "\n",
    "print(filename.resultFileName)\n",
    "print(filename.status)\n",
    "print(filename.json)\n",
    "\n",
    "\n",
    "\n"
   ]
  },
  {
   "cell_type": "code",
   "execution_count": null,
   "metadata": {},
   "outputs": [],
   "source": [
    "envName = 'JALOCAL'\n",
    "parentDs = 'test'\n",
    "dataSetName ='ReadyData'\n",
    "region ='himalayas'\n",
    "projection = 'HMA'\n",
    "sourceFileName = 'C:\\\\Earthwave\\\\mtngla\\\\tandemx\\\\swath\\\\y2010\\\\m12\\\\cell_HMA_0_100000\\\\GridCell_0.nc'\n",
    "minX = 0\n",
    "minY = 100000\n",
    "size = 100000\n",
    "\n",
    "\n",
    "results = query.publishGridCellPoints( parentDs, dataSetName, region, minX, minY, size, sourceFileName, projection)"
   ]
  },
  {
   "cell_type": "code",
   "execution_count": null,
   "metadata": {},
   "outputs": [],
   "source": [
    "print(results)"
   ]
  },
  {
   "cell_type": "code",
   "execution_count": null,
   "metadata": {},
   "outputs": [],
   "source": []
  }
 ],
 "metadata": {
  "kernelspec": {
   "display_name": "Python 3",
   "language": "python",
   "name": "python3"
  },
  "language_info": {
   "codemirror_mode": {
    "name": "ipython",
    "version": 3
   },
   "file_extension": ".py",
   "mimetype": "text/x-python",
   "name": "python",
   "nbconvert_exporter": "python",
   "pygments_lexer": "ipython3",
   "version": "3.7.3"
  }
 },
 "nbformat": 4,
 "nbformat_minor": 2
}
