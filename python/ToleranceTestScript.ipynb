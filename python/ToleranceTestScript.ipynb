{
 "cells": [
  {
   "cell_type": "code",
   "execution_count": 4,
   "metadata": {},
   "outputs": [
    {
     "name": "stdout",
     "output_type": "stream",
     "text": [
      "{'File': 'GridCell_0.nc', 'Rows': 25353, 'MaxCoh': 1.0, 'MinCoh': 0.6, 'MaxPower': 58030.324, 'MinPower': 1000.1503}\n",
      "{'File': 'GridCell_0.nc', 'Rows': 17364, 'MaxCoh': 1.0, 'MinCoh': 0.701, 'MaxPower': 58030.324, 'MinPower': 2000.0939}\n"
     ]
    }
   ],
   "source": [
    "import MalardHelpers\n",
    "\n",
    "from os import listdir\n",
    "from os.path import isfile, join\n",
    "\n",
    "lhsDir = 'C:\\\\Earthwave\\\\mtngla\\\\tandemx\\\\swath\\\\y2010\\\\m12\\\\cell_HMA_100000_600000\\\\'\n",
    "rhsDir = 'C:\\\\Earthwave\\\\mtngla2\\\\tandemx\\\\swath\\\\y2010\\\\m12\\\\cell_HMA_100000_600000\\\\'\n",
    "\n",
    "def getCounts( directory ):\n",
    "    onlyfiles = [f for f in listdir(directory) if isfile(join(directory, f))]\n",
    "\n",
    "    results = {}\n",
    "    for f in onlyfiles:\n",
    "        df = MalardHelpers.getDataFrameFromNetCDF(directory + f)\n",
    "        results['File'] = f\n",
    "        results['Rows'] = len(df['coh'])\n",
    "        results['MaxCoh'] = df['coh'].max()\n",
    "        results['MinCoh'] = df['coh'].min()\n",
    "        results['MaxPower'] = df['power'].max()\n",
    "        results['MinPower'] = df['power'].min()\n",
    "    return results\n",
    "\n",
    "lhsResults = getCounts( lhsDir )\n",
    "rhsResults = getCounts( rhsDir )\n",
    "\n",
    "print(lhsResults)\n",
    "print(rhsResults)\n"
   ]
  },
  {
   "cell_type": "code",
   "execution_count": 15,
   "metadata": {},
   "outputs": [
    {
     "name": "stdout",
     "output_type": "stream",
     "text": [
      "Power: 1000.07074\n"
     ]
    }
   ],
   "source": [
    "minPower = df['power'].min()\n",
    "\n",
    "print('Power: '  + str(minPower))"
   ]
  },
  {
   "cell_type": "code",
   "execution_count": null,
   "metadata": {},
   "outputs": [],
   "source": []
  }
 ],
 "metadata": {
  "kernelspec": {
   "display_name": "Python 3",
   "language": "python",
   "name": "python3"
  },
  "language_info": {
   "codemirror_mode": {
    "name": "ipython",
    "version": 3
   },
   "file_extension": ".py",
   "mimetype": "text/x-python",
   "name": "python",
   "nbconvert_exporter": "python",
   "pygments_lexer": "ipython3",
   "version": "3.7.3"
  }
 },
 "nbformat": 4,
 "nbformat_minor": 2
}
