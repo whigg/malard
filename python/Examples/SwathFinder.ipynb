{
 "cells": [
  {
   "cell_type": "code",
   "execution_count": null,
   "metadata": {},
   "outputs": [],
   "source": [
    "import MalardClient.MalardHelpers as mh\n",
    "import numpy as np\n",
    "import pandas as pd\n",
    "import json\n",
    "import MalardClient.MalardClient as mc \n",
    "from datetime import datetime\n",
    "\n",
    "from MalardClient.BoundingBox import BoundingBox\n",
    "from MalardClient.DataSet import DataSet\n",
    "\n",
    "environmentName = 'DEVv2'\n",
    "#Sets the URL of the Malard ServiceGateway.\n",
    "client = mc.MalardClient(environmentName)\n",
    "\n",
    "\n",
    "minT=datetime(2011,2,1,0,0)\n",
    "maxT=datetime(2011,2,28,0,0)\n",
    "\n",
    "##Jakobshavn bbox\n",
    "minX=-262187\n",
    "maxX=-93976\n",
    "minY=-2386746\n",
    "maxY=-2144979\n",
    "\n",
    "ds = DataSet('cryotempo', 'GRIS_BaselineC_Q2', 'greenland')\n",
    "\n",
    "bb = BoundingBox( ds, minX, maxX, minY, maxY, minT, maxT, 0 )\n",
    "\n",
    "print(client.boundingBox(ds))\n"
   ]
  },
  {
   "cell_type": "code",
   "execution_count": null,
   "metadata": {},
   "outputs": [],
   "source": [
    "\n",
    "\n",
    "resultInfo = client.executeQuery( bb )\n",
    "\n",
    "df0 = mh.getDataFrameFromNetCDF(resultInfo.resultFileName)\n",
    "\n",
    "\n",
    "id1 = df0['swathFileId'].unique()\n"
   ]
  },
  {
   "cell_type": "code",
   "execution_count": null,
   "metadata": {},
   "outputs": [],
   "source": [
    "\n",
    "for swathId in id1:\n",
    "    j_obj = json.loads(client.query.getSwathDetailsFromId('cryotempo','GRIS_BaselineC_Q2','greenland',swathId))\n",
    "    print(j_obj['swathName'])"
   ]
  },
  {
   "cell_type": "code",
   "execution_count": null,
   "metadata": {},
   "outputs": [],
   "source": []
  }
 ],
 "metadata": {
  "kernelspec": {
   "display_name": "Python 3",
   "language": "python",
   "name": "python3"
  },
  "language_info": {
   "codemirror_mode": {
    "name": "ipython",
    "version": 3
   },
   "file_extension": ".py",
   "mimetype": "text/x-python",
   "name": "python",
   "nbconvert_exporter": "python",
   "pygments_lexer": "ipython3",
   "version": "3.7.3"
  }
 },
 "nbformat": 4,
 "nbformat_minor": 2
}
