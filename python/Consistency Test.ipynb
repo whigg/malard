{
 "cells": [
  {
   "cell_type": "code",
   "execution_count": null,
   "metadata": {},
   "outputs": [],
   "source": [
    "\n",
    "import DataSetQuery\n",
    "import AsyncDataSetQuery\n",
    "import datetime\n",
    "import json\n",
    "from pandas.io.json import json_normalize\n",
    "import pandas as pd\n",
    "import datetime\n",
    "from datetime import timedelta\n",
    "from dateutil.relativedelta import *\n",
    "\n",
    "import MalardHelpers as m\n",
    "\n",
    "environmentName = 'JALOCALv3'\n",
    "#Sets the URL of the Malard ServiceGateway.\n",
    "query = DataSetQuery.DataSetQuery('http://localhost:9000',environmentName)\n",
    "\n",
    "asyncquery = AsyncDataSetQuery.AsyncDataSetQuery( 'ws://localhost:9000',environmentName)\n"
   ]
  },
  {
   "cell_type": "code",
   "execution_count": null,
   "metadata": {},
   "outputs": [],
   "source": [
    "query.getParentDataSets()"
   ]
  },
  {
   "cell_type": "code",
   "execution_count": null,
   "metadata": {},
   "outputs": [],
   "source": [
    "query.getDataSets('mtngla')"
   ]
  },
  {
   "cell_type": "code",
   "execution_count": null,
   "metadata": {},
   "outputs": [],
   "source": [
    "parentDs = 'mtngla'\n",
    "dataSet = 'tdx3'\n",
    "region = 'himalayas'\n",
    "\n",
    "bbox = json.loads(query.getDataSetBoundingBox( parentDs,dataSet,region ))"
   ]
  },
  {
   "cell_type": "code",
   "execution_count": null,
   "metadata": {},
   "outputs": [],
   "source": [
    "print(bbox)"
   ]
  },
  {
   "cell_type": "code",
   "execution_count": null,
   "metadata": {},
   "outputs": [],
   "source": [
    "minX = bbox['gridCellMinX']\n",
    "maxX = bbox['gridCellMaxX']\n",
    "minY = bbox['gridCellMinY']\n",
    "maxY = bbox['gridCellMaxY']\n",
    "minT = datetime.datetime.fromtimestamp(bbox['minTime'])\n",
    "maxT = datetime.datetime.fromtimestamp(bbox['maxTime'])\n",
    "\n",
    "gridCellsDf = json_normalize(json.loads(query.getGridCells( parentDs, dataSet, region, minX, maxX, minY, maxY, minT, maxT )))\n"
   ]
  },
  {
   "cell_type": "code",
   "execution_count": null,
   "metadata": {},
   "outputs": [],
   "source": [
    "shardsDf = json_normalize(json.loads(query.getShards( parentDs, dataSet, region, minX, maxX, minY, maxY, minT, maxT )))\n",
    "\n",
    "print(shardsDf.info())"
   ]
  },
  {
   "cell_type": "code",
   "execution_count": null,
   "metadata": {},
   "outputs": [],
   "source": [
    "\n",
    "\n",
    "def checkGridCellByMonth( gc ):\n",
    "    count = 0 \n",
    "    gcStartTime = datetime.datetime.fromtimestamp(gc['minTime'])\n",
    "    gcEndTime = datetime.datetime.fromtimestamp(gc['maxTime'])\n",
    "    minX = int(gc['gridCellMinX'])\n",
    "    maxX = int(gc['gridCellMaxX'])\n",
    "    minY = int(gc['gridCellMinY'])\n",
    "    maxY = int(gc['gridCellMaxY'])\n",
    "    \n",
    "    adjStartTime = datetime.datetime( gcStartTime.year, gcStartTime.month, 1, 0, 0,0  )  \n",
    "    incStartTime = adjStartTime +relativedelta(months=+1)-timedelta(seconds=1)\n",
    "    \n",
    "    while adjStartTime < gcEndTime:\n",
    "        minT = adjStartTime\n",
    "        maxT = incStartTime\n",
    "        \n",
    "        cacheResult = asyncquery.executeQuery( parentDs, dataSet, region, minX, maxX, minY, maxY, minT, maxT,[],[] )\n",
    "        \n",
    "        if cacheResult.status != 'Error: Empty resultset.':\n",
    "            df = m.getDataFrameFromNetCDF(cacheResult.resultFileName)\n",
    "            count = count + len(df['x'])\n",
    "            asyncquery.releaseCache(cacheResult.resultFileName)\n",
    "        \n",
    "        adjStartTime = incStartTime\n",
    "        incStartTime = incStartTime +relativedelta(months=+1)-timedelta(seconds=1)\n",
    "    \n",
    "    return count\n",
    "\n",
    "def checkGridCell( gc ):\n",
    "    count = 0 \n",
    "    gcStartTime = datetime.datetime.fromtimestamp(gc['minTime'])\n",
    "    gcEndTime = datetime.datetime.fromtimestamp(gc['maxTime'])\n",
    "    minX = int(gc['gridCellMinX'])\n",
    "    maxX = int(gc['gridCellMaxX'])\n",
    "    minY = int(gc['gridCellMinY'])\n",
    "    maxY = int(gc['gridCellMaxY'])\n",
    "    minT = gcStartTime\n",
    "    maxT = gcEndTime\n",
    "        \n",
    "    cacheResult = asyncquery.executeQuery( parentDs, dataSet, region, minX, maxX, minY, maxY, minT, maxT,['x'],[] )\n",
    "        \n",
    "    if cacheResult.status != 'Error: Empty resultset.':\n",
    "        df = m.getDataFrameFromNetCDF(cacheResult.resultFileName)\n",
    "        count = count + len(df['x'])\n",
    "        asyncquery.releaseCache(cacheResult.resultFileName)\n",
    "    else:\n",
    "        print(\"Unexpected error... \")\n",
    "        \n",
    "    return count"
   ]
  },
  {
   "cell_type": "code",
   "execution_count": null,
   "metadata": {},
   "outputs": [],
   "source": [
    "totalcount = 0\n",
    "\n",
    "for rowId, gridCell  in gridCellsDf.iterrows():\n",
    "    count = checkGridCellByMonth(gridCell)\n",
    "    totalcount = count + totalcount\n",
    "    if count != gridCell['totalPoints']:\n",
    "        print(\"%d CumCount=%d MinX=%d MinY=%d QueryCount=%d GridCellCount=%d\"%(rowId, totalcount, gridCell['gridCellMinX'], gridCell['gridCellMinY'],count, gridCell['totalPoints']))\n",
    "\n",
    "print( 'Number of rows checked %d' % (totalcount))"
   ]
  },
  {
   "cell_type": "code",
   "execution_count": null,
   "metadata": {},
   "outputs": [],
   "source": [
    "#MinX=-600000 MinY=300000 QueryCount=64074 GridCellCount=64077\n",
    "\n",
    "MinX=-600000\n",
    "MaxX = MinX + 100000\n",
    "MinY=300000\n",
    "MaxY=MinY+100000\n",
    "\n",
    "shards = json_normalize(json.loads(query.getShards(parentDs, dataSet, region, MinX, MaxX, MinY, MaxY, minT, maxT )))\n"
   ]
  },
  {
   "cell_type": "code",
   "execution_count": null,
   "metadata": {},
   "outputs": [],
   "source": [
    "count = 0\n",
    "\n",
    "for s in shards['shardName']:\n",
    "    df = m.getDataFrameFromNetCDF(s)\n",
    "    time = datetime.datetime.fromtimestamp(df['time'].min())\n",
    "    startTime = datetime.datetime( time.year, time.month, 1, 0, 0,0  )  \n",
    "    endTime = startTime +relativedelta(months=+1)-timedelta(seconds=1)\n",
    "    \n",
    "    result = asyncquery.executeQuery( parentDs, dataSet, region, MinX, MaxX, MinY, MaxY, startTime, endTime,[],[]   )\n",
    "    dfRes = m.getDataFrameFromNetCDF( result.resultFileName )\n",
    "    \n",
    "    print( 'StartTime %s EndTime %s ShardCount %d QueryCount %d' % (startTime, endTime, len(df['x']), len(dfRes['x'])))\n",
    "    \n",
    "    count = count + len(df['x'])\n",
    "    \n",
    "print(count)"
   ]
  },
  {
   "cell_type": "code",
   "execution_count": null,
   "metadata": {},
   "outputs": [],
   "source": [
    "maxT = datetime.datetime(2019,12,30,23,59,59)\n",
    "minT = datetime.datetime(2012,1,1,0,0,0)\n",
    "\n",
    "result = asyncquery.executeQuery( parentDs, dataSet, region, MinX, MaxX, MinY, MaxY, minT, maxT,[],[]   )\n",
    "\n",
    "dfRes = m.getDataFrameFromNetCDF( result.resultFileName )\n",
    "\n",
    "print(len(dfRes['x'])  ) \n",
    "\n",
    "dfRes.to_csv(\"first.csv\")"
   ]
  },
  {
   "cell_type": "code",
   "execution_count": null,
   "metadata": {},
   "outputs": [],
   "source": []
  }
 ],
 "metadata": {
  "kernelspec": {
   "display_name": "Python 3",
   "language": "python",
   "name": "python3"
  },
  "language_info": {
   "codemirror_mode": {
    "name": "ipython",
    "version": 3
   },
   "file_extension": ".py",
   "mimetype": "text/x-python",
   "name": "python",
   "nbconvert_exporter": "python",
   "pygments_lexer": "ipython3",
   "version": "3.7.3"
  }
 },
 "nbformat": 4,
 "nbformat_minor": 2
}
