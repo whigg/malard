{
 "cells": [
  {
   "cell_type": "code",
   "execution_count": 1,
   "metadata": {},
   "outputs": [],
   "source": [
    "\n",
    "import DataSetQuery\n",
    "import AsyncDataSetQuery\n",
    "import datetime\n",
    "import json\n",
    "from pandas.io.json import json_normalize\n",
    "import pandas as pd\n",
    "import datetime\n",
    "from datetime import timedelta\n",
    "from dateutil.relativedelta import *\n",
    "\n",
    "import MalardHelpers as m\n",
    "\n",
    "environmentName = 'DEVv2'\n",
    "#Sets the URL of the Malard ServiceGateway.\n",
    "query = DataSetQuery.DataSetQuery('http://localhost:9000',environmentName)\n",
    "\n",
    "asyncquery = AsyncDataSetQuery.AsyncDataSetQuery( 'ws://localhost:9000',environmentName)\n"
   ]
  },
  {
   "cell_type": "code",
   "execution_count": 2,
   "metadata": {},
   "outputs": [
    {
     "data": {
      "text/plain": [
       "'[{\"name\":\"cryotempo\"},{\"name\":\"jatest\"},{\"name\":\"mtngla\"},{\"name\":\"mtnglauat\"}]'"
      ]
     },
     "execution_count": 2,
     "metadata": {},
     "output_type": "execute_result"
    }
   ],
   "source": [
    "query.getParentDataSets()"
   ]
  },
  {
   "cell_type": "code",
   "execution_count": 3,
   "metadata": {},
   "outputs": [
    {
     "data": {
      "text/plain": [
       "'[{\"name\":\"tdx\",\"region\":\"himalayas\"},{\"name\":\"tdxtest1\",\"region\":\"himalayas\"},{\"name\":\"srtm\",\"region\":\"himalayas\"},{\"name\":\"testdataset4\",\"region\":\"himalayas\"},{\"name\":\"ADwithTDX\",\"region\":\"alaska\"},{\"name\":\"Ready1\",\"region\":\"himalayas\"},{\"name\":\"publishtest\",\"region\":\"himalayas\"}]'"
      ]
     },
     "execution_count": 3,
     "metadata": {},
     "output_type": "execute_result"
    }
   ],
   "source": [
    "query.getDataSets('mtngla')"
   ]
  },
  {
   "cell_type": "code",
   "execution_count": 4,
   "metadata": {},
   "outputs": [],
   "source": [
    "parentDs = 'mtnglauat'\n",
    "dataSet = 'tdx'\n",
    "region = 'himalayas'\n",
    "\n",
    "bbox = json.loads(query.getDataSetBoundingBox( parentDs,dataSet,region ))"
   ]
  },
  {
   "cell_type": "code",
   "execution_count": 5,
   "metadata": {},
   "outputs": [
    {
     "name": "stdout",
     "output_type": "stream",
     "text": [
      "{'gridCellMinX': -1900000, 'gridCellMaxX': 1700000, 'gridCellMinY': -1300000, 'gridCellMaxY': 900000, 'minTime': 1279266673, 'maxTime': 1556381631, 'totalPoints': 5503342642, 'numberOfShards': 55681}\n"
     ]
    }
   ],
   "source": [
    "print(bbox)"
   ]
  },
  {
   "cell_type": "code",
   "execution_count": 6,
   "metadata": {},
   "outputs": [],
   "source": [
    "minX = bbox['gridCellMinX']\n",
    "maxX = bbox['gridCellMaxX']\n",
    "minY = bbox['gridCellMinY']\n",
    "maxY = bbox['gridCellMaxY']\n",
    "minT = datetime.datetime.fromtimestamp(bbox['minTime'])\n",
    "maxT = datetime.datetime.fromtimestamp(bbox['maxTime'])\n",
    "\n",
    "gridCellsDf = json_normalize(json.loads(query.getGridCells( parentDs, dataSet, region, minX, maxX, minY, maxY, minT, maxT )))\n"
   ]
  },
  {
   "cell_type": "code",
   "execution_count": 7,
   "metadata": {},
   "outputs": [
    {
     "name": "stdout",
     "output_type": "stream",
     "text": [
      "<class 'pandas.core.frame.DataFrame'>\n",
      "RangeIndex: 55681 entries, 0 to 55680\n",
      "Data columns (total 8 columns):\n",
      "maxT              55681 non-null int64\n",
      "maxX              55681 non-null float64\n",
      "maxY              55681 non-null float64\n",
      "minT              55681 non-null int64\n",
      "minX              55681 non-null float64\n",
      "minY              55681 non-null float64\n",
      "numberOfPoints    55681 non-null int64\n",
      "shardName         55681 non-null object\n",
      "dtypes: float64(4), int64(3), object(1)\n",
      "memory usage: 3.4+ MB\n",
      "None\n"
     ]
    }
   ],
   "source": [
    "shardsDf = json_normalize(json.loads(query.getShards( parentDs, dataSet, region, minX, maxX, minY, maxY, minT, maxT )))\n",
    "\n",
    "print(shardsDf.info())"
   ]
  },
  {
   "cell_type": "code",
   "execution_count": 8,
   "metadata": {},
   "outputs": [],
   "source": [
    "\n",
    "\n",
    "def checkGridCellByMonth( gc ):\n",
    "    count = 0 \n",
    "    gcStartTime = datetime.datetime.fromtimestamp(gc['minTime'])\n",
    "    gcEndTime = datetime.datetime.fromtimestamp(gc['maxTime'])\n",
    "    minX = int(gc['gridCellMinX'])\n",
    "    maxX = int(gc['gridCellMaxX'])\n",
    "    minY = int(gc['gridCellMinY'])\n",
    "    maxY = int(gc['gridCellMaxY'])\n",
    "    \n",
    "    adjStartTime = datetime.datetime( gcStartTime.year, gcStartTime.month, 1, 0, 0,0  )  \n",
    "    incStartTime = adjStartTime +relativedelta(months=+1)-timedelta(seconds=1)\n",
    "    \n",
    "    while adjStartTime < gcEndTime:\n",
    "        minT = adjStartTime\n",
    "        maxT = incStartTime\n",
    "        \n",
    "        cacheResult = asyncquery.executeQuery( parentDs, dataSet, region, minX, maxX, minY, maxY, minT, maxT,[],[] )\n",
    "        \n",
    "        if cacheResult.status != 'Error: Empty resultset.':\n",
    "            df = m.getDataFrameFromNetCDF(cacheResult.resultFileName)\n",
    "            count = count + len(df['x'])\n",
    "            query.releaseCache(cacheResult.resultFileName)\n",
    "        \n",
    "        adjStartTime = incStartTime\n",
    "        incStartTime = incStartTime +relativedelta(months=+1)-timedelta(seconds=1)\n",
    "    \n",
    "    return count\n",
    "\n",
    "def checkGridCell( gc ):\n",
    "    count = 0 \n",
    "    gcStartTime = datetime.datetime.fromtimestamp(gc['minTime'])\n",
    "    gcEndTime = datetime.datetime.fromtimestamp(gc['maxTime'])\n",
    "    minX = int(gc['gridCellMinX'])\n",
    "    maxX = int(gc['gridCellMaxX'])\n",
    "    minY = int(gc['gridCellMinY'])\n",
    "    maxY = int(gc['gridCellMaxY'])\n",
    "    minT = gcStartTime\n",
    "    maxT = gcEndTime\n",
    "        \n",
    "    cacheResult = asyncquery.executeQuery( parentDs, dataSet, region, minX, maxX, minY, maxY, minT, maxT,['x'],[] )\n",
    "        \n",
    "    if cacheResult.status != 'Error: Empty resultset.':\n",
    "        df = m.getDataFrameFromNetCDF(cacheResult.resultFileName)\n",
    "        count = count + len(df['x'])\n",
    "        query.releaseCache(cacheResult.resultFileName)\n",
    "    else:\n",
    "        print(\"Unexpected error... \")\n",
    "        \n",
    "    return count"
   ]
  },
  {
   "cell_type": "code",
   "execution_count": 9,
   "metadata": {},
   "outputs": [
    {
     "name": "stdout",
     "output_type": "stream",
     "text": [
      "0 CumCount=8 MinX=1500000 MinY=-400000 QueryCount=8 GridCellCount=8\n",
      "1 CumCount=21 MinX=200000 MinY=800000 QueryCount=13 GridCellCount=13\n",
      "2 CumCount=728 MinX=1500000 MinY=-1200000 QueryCount=707 GridCellCount=707\n",
      "3 CumCount=748 MinX=1600000 MinY=-800000 QueryCount=20 GridCellCount=20\n",
      "4 CumCount=1272 MinX=1600000 MinY=-1000000 QueryCount=524 GridCellCount=524\n",
      "5 CumCount=1678 MinX=1100000 MinY=500000 QueryCount=406 GridCellCount=406\n",
      "6 CumCount=3024 MinX=-1700000 MinY=-900000 QueryCount=1346 GridCellCount=1346\n",
      "7 CumCount=9748 MinX=1000000 MinY=-1100000 QueryCount=6724 GridCellCount=6724\n",
      "8 CumCount=13103 MinX=500000 MinY=800000 QueryCount=3355 GridCellCount=3355\n",
      "9 CumCount=13120 MinX=-1700000 MinY=400000 QueryCount=17 GridCellCount=17\n",
      "10 CumCount=29931 MinX=400000 MinY=500000 QueryCount=16811 GridCellCount=16811\n",
      "11 CumCount=98870 MinX=500000 MinY=700000 QueryCount=68939 GridCellCount=68939\n",
      "12 CumCount=103713 MinX=1200000 MinY=-1100000 QueryCount=4843 GridCellCount=4843\n",
      "13 CumCount=113593 MinX=-200000 MinY=200000 QueryCount=9880 GridCellCount=9880\n",
      "14 CumCount=113702 MinX=-900000 MinY=-700000 QueryCount=109 GridCellCount=109\n",
      "15 CumCount=113913 MinX=-1800000 MinY=-100000 QueryCount=211 GridCellCount=211\n",
      "16 CumCount=137303 MinX=-300000 MinY=-1200000 QueryCount=23390 GridCellCount=23390\n",
      "17 CumCount=201377 MinX=-600000 MinY=300000 QueryCount=64074 GridCellCount=64077\n",
      "18 CumCount=210113 MinX=500000 MinY=-1300000 QueryCount=8736 GridCellCount=8736\n",
      "19 CumCount=211107 MinX=-1700000 MinY=200000 QueryCount=994 GridCellCount=994\n",
      "20 CumCount=296347 MinX=400000 MinY=-1300000 QueryCount=85240 GridCellCount=85256\n",
      "21 CumCount=21694527 MinX=900000 MinY=300000 QueryCount=21398180 GridCellCount=21398286\n",
      "22 CumCount=21694896 MinX=1500000 MinY=-500000 QueryCount=369 GridCellCount=369\n",
      "23 CumCount=21707416 MinX=-500000 MinY=200000 QueryCount=12520 GridCellCount=12520\n",
      "24 CumCount=21708514 MinX=-100000 MinY=-1300000 QueryCount=1098 GridCellCount=1098\n",
      "25 CumCount=21749522 MinX=-100000 MinY=400000 QueryCount=41008 GridCellCount=41010\n",
      "26 CumCount=21749657 MinX=-1900000 MinY=-600000 QueryCount=135 GridCellCount=135\n"
     ]
    },
    {
     "ename": "KeyboardInterrupt",
     "evalue": "",
     "output_type": "error",
     "traceback": [
      "\u001b[0;31m---------------------------------------------------------------------------\u001b[0m",
      "\u001b[0;31mKeyboardInterrupt\u001b[0m                         Traceback (most recent call last)",
      "\u001b[0;32m<ipython-input-9-f2fd610f124a>\u001b[0m in \u001b[0;36m<module>\u001b[0;34m\u001b[0m\n\u001b[1;32m      2\u001b[0m \u001b[0;34m\u001b[0m\u001b[0m\n\u001b[1;32m      3\u001b[0m \u001b[0;32mfor\u001b[0m \u001b[0mrowId\u001b[0m\u001b[0;34m,\u001b[0m \u001b[0mgridCell\u001b[0m  \u001b[0;32min\u001b[0m \u001b[0mgridCellsDf\u001b[0m\u001b[0;34m.\u001b[0m\u001b[0miterrows\u001b[0m\u001b[0;34m(\u001b[0m\u001b[0;34m)\u001b[0m\u001b[0;34m:\u001b[0m\u001b[0;34m\u001b[0m\u001b[0;34m\u001b[0m\u001b[0m\n\u001b[0;32m----> 4\u001b[0;31m     \u001b[0mcount\u001b[0m \u001b[0;34m=\u001b[0m \u001b[0mcheckGridCell\u001b[0m\u001b[0;34m(\u001b[0m\u001b[0mgridCell\u001b[0m\u001b[0;34m)\u001b[0m\u001b[0;34m\u001b[0m\u001b[0;34m\u001b[0m\u001b[0m\n\u001b[0m\u001b[1;32m      5\u001b[0m     \u001b[0mtotalcount\u001b[0m \u001b[0;34m=\u001b[0m \u001b[0mcount\u001b[0m \u001b[0;34m+\u001b[0m \u001b[0mtotalcount\u001b[0m\u001b[0;34m\u001b[0m\u001b[0;34m\u001b[0m\u001b[0m\n\u001b[1;32m      6\u001b[0m     \u001b[0mprint\u001b[0m\u001b[0;34m(\u001b[0m\u001b[0;34m\"%d CumCount=%d MinX=%d MinY=%d QueryCount=%d GridCellCount=%d\"\u001b[0m\u001b[0;34m%\u001b[0m\u001b[0;34m(\u001b[0m\u001b[0mrowId\u001b[0m\u001b[0;34m,\u001b[0m \u001b[0mtotalcount\u001b[0m\u001b[0;34m,\u001b[0m \u001b[0mgridCell\u001b[0m\u001b[0;34m[\u001b[0m\u001b[0;34m'gridCellMinX'\u001b[0m\u001b[0;34m]\u001b[0m\u001b[0;34m,\u001b[0m \u001b[0mgridCell\u001b[0m\u001b[0;34m[\u001b[0m\u001b[0;34m'gridCellMinY'\u001b[0m\u001b[0;34m]\u001b[0m\u001b[0;34m,\u001b[0m\u001b[0mcount\u001b[0m\u001b[0;34m,\u001b[0m \u001b[0mgridCell\u001b[0m\u001b[0;34m[\u001b[0m\u001b[0;34m'totalPoints'\u001b[0m\u001b[0;34m]\u001b[0m\u001b[0;34m)\u001b[0m\u001b[0;34m)\u001b[0m\u001b[0;34m\u001b[0m\u001b[0;34m\u001b[0m\u001b[0m\n",
      "\u001b[0;32m<ipython-input-8-268443271111>\u001b[0m in \u001b[0;36mcheckGridCell\u001b[0;34m(gc)\u001b[0m\n\u001b[1;32m     40\u001b[0m     \u001b[0mmaxT\u001b[0m \u001b[0;34m=\u001b[0m \u001b[0mgcEndTime\u001b[0m\u001b[0;34m\u001b[0m\u001b[0;34m\u001b[0m\u001b[0m\n\u001b[1;32m     41\u001b[0m \u001b[0;34m\u001b[0m\u001b[0m\n\u001b[0;32m---> 42\u001b[0;31m     \u001b[0mcacheResult\u001b[0m \u001b[0;34m=\u001b[0m \u001b[0masyncquery\u001b[0m\u001b[0;34m.\u001b[0m\u001b[0mexecuteQuery\u001b[0m\u001b[0;34m(\u001b[0m \u001b[0mparentDs\u001b[0m\u001b[0;34m,\u001b[0m \u001b[0mdataSet\u001b[0m\u001b[0;34m,\u001b[0m \u001b[0mregion\u001b[0m\u001b[0;34m,\u001b[0m \u001b[0mminX\u001b[0m\u001b[0;34m,\u001b[0m \u001b[0mmaxX\u001b[0m\u001b[0;34m,\u001b[0m \u001b[0mminY\u001b[0m\u001b[0;34m,\u001b[0m \u001b[0mmaxY\u001b[0m\u001b[0;34m,\u001b[0m \u001b[0mminT\u001b[0m\u001b[0;34m,\u001b[0m \u001b[0mmaxT\u001b[0m\u001b[0;34m,\u001b[0m\u001b[0;34m[\u001b[0m\u001b[0;34m'x'\u001b[0m\u001b[0;34m]\u001b[0m\u001b[0;34m,\u001b[0m\u001b[0;34m[\u001b[0m\u001b[0;34m]\u001b[0m \u001b[0;34m)\u001b[0m\u001b[0;34m\u001b[0m\u001b[0;34m\u001b[0m\u001b[0m\n\u001b[0m\u001b[1;32m     43\u001b[0m \u001b[0;34m\u001b[0m\u001b[0m\n\u001b[1;32m     44\u001b[0m     \u001b[0;32mif\u001b[0m \u001b[0mcacheResult\u001b[0m\u001b[0;34m.\u001b[0m\u001b[0mstatus\u001b[0m \u001b[0;34m!=\u001b[0m \u001b[0;34m'Error: Empty resultset.'\u001b[0m\u001b[0;34m:\u001b[0m\u001b[0;34m\u001b[0m\u001b[0;34m\u001b[0m\u001b[0m\n",
      "\u001b[0;32m~/IdeaProjects/malard/python/AsyncDataSetQuery.py\u001b[0m in \u001b[0;36mexecuteQuery\u001b[0;34m(self, parentDs, dataSetName, region, minX, maxX, minY, maxY, minT, maxT, projections, filters)\u001b[0m\n\u001b[1;32m     72\u001b[0m         \u001b[0mrequestJson\u001b[0m \u001b[0;34m=\u001b[0m \u001b[0mjson\u001b[0m\u001b[0;34m.\u001b[0m\u001b[0mdumps\u001b[0m\u001b[0;34m(\u001b[0m\u001b[0mrequest\u001b[0m\u001b[0;34m,\u001b[0m\u001b[0mdefault\u001b[0m\u001b[0;34m=\u001b[0m\u001b[0mdateconverter\u001b[0m\u001b[0;34m)\u001b[0m\u001b[0;34m\u001b[0m\u001b[0;34m\u001b[0m\u001b[0m\n\u001b[1;32m     73\u001b[0m \u001b[0;34m\u001b[0m\u001b[0m\n\u001b[0;32m---> 74\u001b[0;31m         \u001b[0mresults\u001b[0m \u001b[0;34m=\u001b[0m \u001b[0mself\u001b[0m\u001b[0;34m.\u001b[0m\u001b[0msyncServerRequest\u001b[0m\u001b[0;34m(\u001b[0m\u001b[0mrequestJson\u001b[0m\u001b[0;34m,\u001b[0m \u001b[0;34m'/query'\u001b[0m\u001b[0;34m)\u001b[0m\u001b[0;34m\u001b[0m\u001b[0;34m\u001b[0m\u001b[0m\n\u001b[0m\u001b[1;32m     75\u001b[0m \u001b[0;34m\u001b[0m\u001b[0m\n\u001b[1;32m     76\u001b[0m         \u001b[0mresultJson\u001b[0m \u001b[0;34m=\u001b[0m \u001b[0mjson\u001b[0m\u001b[0;34m.\u001b[0m\u001b[0mloads\u001b[0m\u001b[0;34m(\u001b[0m\u001b[0mresults\u001b[0m\u001b[0;34m[\u001b[0m\u001b[0mlen\u001b[0m\u001b[0;34m(\u001b[0m\u001b[0mresults\u001b[0m\u001b[0;34m)\u001b[0m\u001b[0;34m-\u001b[0m\u001b[0;36m1\u001b[0m\u001b[0;34m]\u001b[0m\u001b[0;34m)\u001b[0m\u001b[0;34m\u001b[0m\u001b[0;34m\u001b[0m\u001b[0m\n",
      "\u001b[0;32m~/IdeaProjects/malard/python/AsyncDataSetQuery.py\u001b[0m in \u001b[0;36msyncServerRequest\u001b[0;34m(self, requestJson, endPoint)\u001b[0m\n\u001b[1;32m     58\u001b[0m         \u001b[0mnest_asyncio\u001b[0m\u001b[0;34m.\u001b[0m\u001b[0mapply\u001b[0m\u001b[0;34m(\u001b[0m\u001b[0mloop\u001b[0m\u001b[0;34m)\u001b[0m\u001b[0;34m\u001b[0m\u001b[0;34m\u001b[0m\u001b[0m\n\u001b[1;32m     59\u001b[0m \u001b[0;34m\u001b[0m\u001b[0m\n\u001b[0;32m---> 60\u001b[0;31m         \u001b[0mresults\u001b[0m \u001b[0;34m=\u001b[0m \u001b[0mloop\u001b[0m\u001b[0;34m.\u001b[0m\u001b[0mrun_until_complete\u001b[0m\u001b[0;34m(\u001b[0m\u001b[0mself\u001b[0m\u001b[0;34m.\u001b[0m\u001b[0masyncServerRequest\u001b[0m\u001b[0;34m(\u001b[0m \u001b[0mself\u001b[0m\u001b[0;34m.\u001b[0m\u001b[0mserverUrl\u001b[0m \u001b[0;34m+\u001b[0m \u001b[0mendPoint\u001b[0m\u001b[0;34m,\u001b[0m \u001b[0mrequestJson\u001b[0m\u001b[0;34m)\u001b[0m\u001b[0;34m)\u001b[0m\u001b[0;34m\u001b[0m\u001b[0;34m\u001b[0m\u001b[0m\n\u001b[0m\u001b[1;32m     61\u001b[0m \u001b[0;34m\u001b[0m\u001b[0m\n\u001b[1;32m     62\u001b[0m         \u001b[0;32mreturn\u001b[0m \u001b[0mresults\u001b[0m\u001b[0;34m\u001b[0m\u001b[0;34m\u001b[0m\u001b[0m\n",
      "\u001b[0;32m/home/earthwave/miniconda3/envs/dev/lib/python3.7/site-packages/nest_asyncio.py\u001b[0m in \u001b[0;36mrun_until_complete\u001b[0;34m(self, future)\u001b[0m\n\u001b[1;32m     58\u001b[0m                 \u001b[0mf\u001b[0m\u001b[0;34m.\u001b[0m\u001b[0m_log_destroy_pending\u001b[0m \u001b[0;34m=\u001b[0m \u001b[0;32mFalse\u001b[0m\u001b[0;34m\u001b[0m\u001b[0;34m\u001b[0m\u001b[0m\n\u001b[1;32m     59\u001b[0m             \u001b[0;32mwhile\u001b[0m \u001b[0;32mnot\u001b[0m \u001b[0mf\u001b[0m\u001b[0;34m.\u001b[0m\u001b[0mdone\u001b[0m\u001b[0;34m(\u001b[0m\u001b[0;34m)\u001b[0m\u001b[0;34m:\u001b[0m\u001b[0;34m\u001b[0m\u001b[0;34m\u001b[0m\u001b[0m\n\u001b[0;32m---> 60\u001b[0;31m                 \u001b[0mrun_once\u001b[0m\u001b[0;34m(\u001b[0m\u001b[0mself\u001b[0m\u001b[0;34m)\u001b[0m\u001b[0;34m\u001b[0m\u001b[0;34m\u001b[0m\u001b[0m\n\u001b[0m\u001b[1;32m     61\u001b[0m             \u001b[0;32mreturn\u001b[0m \u001b[0mf\u001b[0m\u001b[0;34m.\u001b[0m\u001b[0mresult\u001b[0m\u001b[0;34m(\u001b[0m\u001b[0;34m)\u001b[0m\u001b[0;34m\u001b[0m\u001b[0;34m\u001b[0m\u001b[0m\n\u001b[1;32m     62\u001b[0m         \u001b[0;32melse\u001b[0m\u001b[0;34m:\u001b[0m\u001b[0;34m\u001b[0m\u001b[0;34m\u001b[0m\u001b[0m\n",
      "\u001b[0;32m/home/earthwave/miniconda3/envs/dev/lib/python3.7/site-packages/nest_asyncio.py\u001b[0m in \u001b[0;36mrun_once\u001b[0;34m(self)\u001b[0m\n\u001b[1;32m     87\u001b[0m             \u001b[0mtimeout\u001b[0m \u001b[0;34m=\u001b[0m \u001b[0mmax\u001b[0m\u001b[0;34m(\u001b[0m\u001b[0;36m0\u001b[0m\u001b[0;34m,\u001b[0m \u001b[0mwhen\u001b[0m \u001b[0;34m-\u001b[0m \u001b[0mself\u001b[0m\u001b[0;34m.\u001b[0m\u001b[0mtime\u001b[0m\u001b[0;34m(\u001b[0m\u001b[0;34m)\u001b[0m\u001b[0;34m)\u001b[0m\u001b[0;34m\u001b[0m\u001b[0;34m\u001b[0m\u001b[0m\n\u001b[1;32m     88\u001b[0m \u001b[0;34m\u001b[0m\u001b[0m\n\u001b[0;32m---> 89\u001b[0;31m         \u001b[0mevent_list\u001b[0m \u001b[0;34m=\u001b[0m \u001b[0mself\u001b[0m\u001b[0;34m.\u001b[0m\u001b[0m_selector\u001b[0m\u001b[0;34m.\u001b[0m\u001b[0mselect\u001b[0m\u001b[0;34m(\u001b[0m\u001b[0mtimeout\u001b[0m\u001b[0;34m)\u001b[0m\u001b[0;34m\u001b[0m\u001b[0;34m\u001b[0m\u001b[0m\n\u001b[0m\u001b[1;32m     90\u001b[0m         \u001b[0mself\u001b[0m\u001b[0;34m.\u001b[0m\u001b[0m_process_events\u001b[0m\u001b[0;34m(\u001b[0m\u001b[0mevent_list\u001b[0m\u001b[0;34m)\u001b[0m\u001b[0;34m\u001b[0m\u001b[0;34m\u001b[0m\u001b[0m\n\u001b[1;32m     91\u001b[0m \u001b[0;34m\u001b[0m\u001b[0m\n",
      "\u001b[0;32m/home/earthwave/miniconda3/envs/dev/lib/python3.7/selectors.py\u001b[0m in \u001b[0;36mselect\u001b[0;34m(self, timeout)\u001b[0m\n\u001b[1;32m    466\u001b[0m             \u001b[0mready\u001b[0m \u001b[0;34m=\u001b[0m \u001b[0;34m[\u001b[0m\u001b[0;34m]\u001b[0m\u001b[0;34m\u001b[0m\u001b[0;34m\u001b[0m\u001b[0m\n\u001b[1;32m    467\u001b[0m             \u001b[0;32mtry\u001b[0m\u001b[0;34m:\u001b[0m\u001b[0;34m\u001b[0m\u001b[0;34m\u001b[0m\u001b[0m\n\u001b[0;32m--> 468\u001b[0;31m                 \u001b[0mfd_event_list\u001b[0m \u001b[0;34m=\u001b[0m \u001b[0mself\u001b[0m\u001b[0;34m.\u001b[0m\u001b[0m_selector\u001b[0m\u001b[0;34m.\u001b[0m\u001b[0mpoll\u001b[0m\u001b[0;34m(\u001b[0m\u001b[0mtimeout\u001b[0m\u001b[0;34m,\u001b[0m \u001b[0mmax_ev\u001b[0m\u001b[0;34m)\u001b[0m\u001b[0;34m\u001b[0m\u001b[0;34m\u001b[0m\u001b[0m\n\u001b[0m\u001b[1;32m    469\u001b[0m             \u001b[0;32mexcept\u001b[0m \u001b[0mInterruptedError\u001b[0m\u001b[0;34m:\u001b[0m\u001b[0;34m\u001b[0m\u001b[0;34m\u001b[0m\u001b[0m\n\u001b[1;32m    470\u001b[0m                 \u001b[0;32mreturn\u001b[0m \u001b[0mready\u001b[0m\u001b[0;34m\u001b[0m\u001b[0;34m\u001b[0m\u001b[0m\n",
      "\u001b[0;31mKeyboardInterrupt\u001b[0m: "
     ]
    }
   ],
   "source": [
    "totalcount = 0\n",
    "\n",
    "for rowId, gridCell  in gridCellsDf.iterrows():\n",
    "    count = checkGridCell(gridCell)\n",
    "    totalcount = count + totalcount\n",
    "    print(\"%d CumCount=%d MinX=%d MinY=%d QueryCount=%d GridCellCount=%d\"%(rowId, totalcount, gridCell['gridCellMinX'], gridCell['gridCellMinY'],count, gridCell['totalPoints']))\n"
   ]
  },
  {
   "cell_type": "code",
   "execution_count": 10,
   "metadata": {},
   "outputs": [],
   "source": [
    "#MinX=-600000 MinY=300000 QueryCount=64074 GridCellCount=64077\n",
    "\n",
    "MinX=-600000\n",
    "MaxX = MinX + 100000\n",
    "MinY=300000\n",
    "MaxY=MinY+100000\n",
    "\n",
    "shards = json_normalize(json.loads(query.getShards(parentDs, dataSet, region, MinX, MaxX, MinY, MaxY, minT, maxT )))\n"
   ]
  },
  {
   "cell_type": "code",
   "execution_count": 11,
   "metadata": {},
   "outputs": [
    {
     "name": "stdout",
     "output_type": "stream",
     "text": [
      "StartTime 2016-06-01 00:00:00 EndTime 2016-06-30 23:59:59 ShardCount 2404 QueryCount 2404\n",
      "StartTime 2016-04-01 00:00:00 EndTime 2016-04-30 23:59:59 ShardCount 5086 QueryCount 5086\n",
      "StartTime 2017-03-01 00:00:00 EndTime 2017-03-31 23:59:59 ShardCount 17407 QueryCount 17407\n",
      "StartTime 2016-12-01 00:00:00 EndTime 2016-12-31 23:59:59 ShardCount 4315 QueryCount 4315\n",
      "StartTime 2018-06-01 00:00:00 EndTime 2018-06-30 23:59:59 ShardCount 552 QueryCount 552\n",
      "StartTime 2016-09-01 00:00:00 EndTime 2016-09-30 23:59:59 ShardCount 1641 QueryCount 1641\n",
      "StartTime 2017-02-01 00:00:00 EndTime 2017-02-28 23:59:59 ShardCount 7248 QueryCount 7248\n",
      "StartTime 2016-11-01 00:00:00 EndTime 2016-11-30 23:59:59 ShardCount 7541 QueryCount 7541\n",
      "StartTime 2017-01-01 00:00:00 EndTime 2017-01-31 23:59:59 ShardCount 16407 QueryCount 16407\n",
      "StartTime 2016-10-01 00:00:00 EndTime 2016-10-31 23:59:59 ShardCount 111 QueryCount 111\n",
      "StartTime 2016-07-01 00:00:00 EndTime 2016-07-31 23:59:59 ShardCount 1314 QueryCount 1314\n",
      "StartTime 2018-05-01 00:00:00 EndTime 2018-05-31 23:59:59 ShardCount 48 QueryCount 48\n",
      "64074\n"
     ]
    }
   ],
   "source": [
    "count = 0\n",
    "\n",
    "for s in shards['shardName']:\n",
    "    df = m.getDataFrameFromNetCDF(s)\n",
    "    time = datetime.datetime.fromtimestamp(df['time'].min())\n",
    "    startTime = datetime.datetime( time.year, time.month, 1, 0, 0,0  )  \n",
    "    endTime = startTime +relativedelta(months=+1)-timedelta(seconds=1)\n",
    "    \n",
    "    result = asyncquery.executeQuery( parentDs, dataSet, region, MinX, MaxX, MinY, MaxY, startTime, endTime,[],[]   )\n",
    "    dfRes = m.getDataFrameFromNetCDF( result.resultFileName )\n",
    "    \n",
    "    print( 'StartTime %s EndTime %s ShardCount %d QueryCount %d' % (startTime, endTime, len(df['x']), len(dfRes['x'])))\n",
    "    \n",
    "    count = count + len(df['x'])\n",
    "    \n",
    "print(count)"
   ]
  },
  {
   "cell_type": "code",
   "execution_count": null,
   "metadata": {},
   "outputs": [],
   "source": [
    "maxT = datetime.datetime(2019,12,30,23,59,59)\n",
    "minT = datetime.datetime(2012,1,1,0,0,0)\n",
    "\n",
    "result = asyncquery.executeQuery( parentDs, dataSet, region, MinX, MaxX, MinY, MaxY, minT, maxT,[],[]   )\n",
    "\n",
    "dfRes = m.getDataFrameFromNetCDF( result.resultFileName )\n",
    "\n",
    "print(len(dfRes['x'])  ) \n",
    "\n",
    "dfRes.to_csv(\"first.csv\")"
   ]
  },
  {
   "cell_type": "code",
   "execution_count": null,
   "metadata": {},
   "outputs": [],
   "source": []
  }
 ],
 "metadata": {
  "kernelspec": {
   "display_name": "Python 3",
   "language": "python",
   "name": "python3"
  },
  "language_info": {
   "codemirror_mode": {
    "name": "ipython",
    "version": 3
   },
   "file_extension": ".py",
   "mimetype": "text/x-python",
   "name": "python",
   "nbconvert_exporter": "python",
   "pygments_lexer": "ipython3",
   "version": "3.7.3"
  }
 },
 "nbformat": 4,
 "nbformat_minor": 2
}
