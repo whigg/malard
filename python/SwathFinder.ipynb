{
 "cells": [
  {
   "cell_type": "code",
   "execution_count": 18,
   "metadata": {},
   "outputs": [],
   "source": [
    "import MalardHelpers\n",
    "import numpy as np\n",
    "import pandas as pd\n",
    "import json\n",
    "gridCell0 = '/data/snail1/scratch/v2/cryotempo/GRIS_BaseC_Q2/swath/y2016/m4/cell_NPS_0_-2900000/GridCell_0.nc'\n",
    "gridCell1 = '/data/snail1/scratch/v2/cryotempo/GRIS_BaseC_Q2/swath/y2016/m4/cell_NPS_0_-2900000/GridCell_1.nc'\n",
    "\n",
    "df0 = MalardHelpers.getDataFrameFromNetCDF(gridCell0)\n",
    "df1 = MalardHelpers.getDataFrameFromNetCDF(gridCell1)\n"
   ]
  },
  {
   "cell_type": "code",
   "execution_count": 19,
   "metadata": {},
   "outputs": [
    {
     "name": "stdout",
     "output_type": "stream",
     "text": [
      "[6782 6134 5868 5004 2232 1986]\n",
      "[{\"name\":\"cryotempo\"},{\"name\":\"mtngla\"}]\n",
      "[{\"name\":\"GRIS_BASE_CQ2\",\"region\":\"greenland\"}]\n"
     ]
    }
   ],
   "source": [
    "id1 = df0['swathFileId'].unique()\n",
    "id2 = df1['swathFileId'].unique()\n",
    "\n",
    "results = np.append(id1, id2)\n",
    "print(results)\n",
    "\n",
    "import DataSetQuery\n",
    "environmentName = 'DEVv2'\n",
    "#Sets the URL of the Malard ServiceGateway.\n",
    "query = DataSetQuery.DataSetQuery('http://localhost:9000',environmentName)\n",
    "\n",
    "print(query.getParentDataSets())\n",
    "\n",
    "print(query.getDataSets('cryotempo'))\n",
    "\n",
    "swaths = []\n",
    "for d in results:  \n",
    "    swaths.append(json.loads(query.getSwathDetailsFromId('cryotempo','GRIS_Base_CQ2','greenland',d)))\n",
    "\n",
    "df = pd.DataFrame(swaths)\n",
    "\n"
   ]
  },
  {
   "cell_type": "code",
   "execution_count": 20,
   "metadata": {},
   "outputs": [
    {
     "name": "stdout",
     "output_type": "stream",
     "text": [
      "0    CS_OFFL_SIR_SIN_2S_20160423T191206_20160423T19...\n",
      "1    CS_OFFL_SIR_SIN_2S_20160423T075310_20160423T07...\n",
      "2    CS_OFFL_SIR_SIN_2S_20160425T190942_20160425T19...\n",
      "3    CS_OFFL_SIR_SIN_2S_20160421T075505_20160421T07...\n",
      "4    CS_OFFL_SIR_SIN_2S_20160419T075707_20160419T07...\n",
      "5    CS_OFFL_SIR_SIN_2S_20160421T191450_20160421T19...\n",
      "Name: swathName, dtype: object\n"
     ]
    }
   ],
   "source": [
    "files = df['swathName']\n",
    "print(files)"
   ]
  },
  {
   "cell_type": "code",
   "execution_count": 22,
   "metadata": {},
   "outputs": [
    {
     "name": "stdout",
     "output_type": "stream",
     "text": [
      "Copy 1\n",
      "Copy 2\n",
      "Copy 3\n",
      "Copy 4\n",
      "Copy 5\n",
      "Copy 6\n"
     ]
    }
   ],
   "source": [
    "import shutil\n",
    "\n",
    "rawdataDir = '/data/slug1/store/rawdata/initialSwath/Greenland/'\n",
    "targetDir = '/data/snail1/scratch/'\n",
    "\n",
    "i=0\n",
    "for f in files:\n",
    "    i = i + 1\n",
    "    shutil.copy(rawdataDir+f, targetDir+f)\n",
    "    print(\"Copy %d\" %(i))\n",
    "\n",
    "\n"
   ]
  },
  {
   "cell_type": "code",
   "execution_count": null,
   "metadata": {},
   "outputs": [],
   "source": []
  }
 ],
 "metadata": {
  "kernelspec": {
   "display_name": "Python 3",
   "language": "python",
   "name": "python3"
  },
  "language_info": {
   "codemirror_mode": {
    "name": "ipython",
    "version": 3
   },
   "file_extension": ".py",
   "mimetype": "text/x-python",
   "name": "python",
   "nbconvert_exporter": "python",
   "pygments_lexer": "ipython3",
   "version": "3.7.3"
  }
 },
 "nbformat": 4,
 "nbformat_minor": 2
}
