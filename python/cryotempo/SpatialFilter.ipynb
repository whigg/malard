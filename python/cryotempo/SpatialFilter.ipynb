{
 "cells": [
  {
   "cell_type": "code",
   "execution_count": 64,
   "metadata": {},
   "outputs": [],
   "source": [
    "\n",
    "from MalardClient.MalardClient import MalardClient\n",
    "from MalardClient.DataSet import DataSet\n",
    "from MalardClient.BoundingBox import BoundingBox\n",
    "\n",
    "from osgeo import ogr, osr\n",
    "from datetime import datetime\n",
    "\n",
    "import numpy as np\n",
    "\n",
    "client = MalardClient()\n",
    "ds = DataSet( \"mtngla\", \"tdx\", \"himalayas\"  )\n",
    "\n",
    "proj4 = client.getProjection(ds).proj4\n",
    "\n",
    "shapeFile = \"Karakoram_TDM_XY.shp\"\n",
    "\n",
    "drv = ogr.GetDriverByName('ESRI Shapefile') #We will load a shape file\n",
    "ds_in = drv.Open(shapeFile)    #Get the contents of the shape file\n",
    "lyr_in = ds_in.GetLayer(0)    #Get the shape file's first layer\n",
    "\n",
    "def check(x, y):\n",
    "    #Create a point\n",
    "    pt = ogr.Geometry(ogr.wkbPoint)\n",
    "    pt.SetPoint_2D(0, x, y)\n",
    "\n",
    "    #Set up a spatial filter such that the only features we see when we\n",
    "    #loop through \"lyr_in\" are those which overlap the point defined above\n",
    "    lyr_in.SetSpatialFilter(pt)\n",
    "\n",
    "    #Loop through the overlapped features and display the field of interest\n",
    "    if lyr_in.GetFeatureCount() > 0:\n",
    "        return True\n",
    "    else:\n",
    "        return False\n",
    "    \n",
    "def applyMask( xSrs, ySrs ):\n",
    "    withinMask = np.zeros( len(xSrs) )\n",
    "    \n",
    "    for i, xy in enumerate(zip(xSrs, ySrs)):\n",
    "        x,y = xy\n",
    "        withinMask[i] = 1 if check(x,y) else 0\n",
    "        \n",
    "    return withinMask\n"
   ]
  },
  {
   "cell_type": "code",
   "execution_count": 67,
   "metadata": {},
   "outputs": [
    {
     "name": "stdout",
     "output_type": "stream",
     "text": [
      "Started With 9600478 points. Finished with 6027623.0\n",
      "Masking took 173.307949 in total, 31.251193 to query, 4.671644 to build df, 137.385112 to mask\n"
     ]
    }
   ],
   "source": [
    "minX, maxX, minY, maxY = lyr_in.GetExtent()\n",
    "minT = datetime(2019,1,1,0,0)\n",
    "maxT = datetime(2019,4,30,23,59)\n",
    "\n",
    "bb = BoundingBox(minX, maxX, minY, maxY, minT, maxT )\n",
    "\n",
    "start =datetime.now()\n",
    "resultInfo = client.executeQuery(ds, bb )\n",
    "postQuery = datetime.now()\n",
    "df = resultInfo.to_df\n",
    "postDf = datetime.now()\n",
    "mask = applyMask(df['x'],df['y'])\n",
    "postMask = datetime.now()\n",
    "df['withinMask'] = mask\n",
    "\n",
    "print(\"Started With {} points. Finished with {}\".format(len(df),df['withinMask'].sum()))\n",
    "\n",
    "totalDiff = (postMask - start).total_seconds()\n",
    "totalMask = (postMask - postDf).total_seconds()\n",
    "totalDf = (postDf - postQuery).total_seconds()\n",
    "totalQuery = (postQuery - start).total_seconds()\n",
    "\n",
    "print(\"Masking took {} in total, {} to query, {} to build df, {} to mask\".format(totalDiff, totalQuery, totalDf, totalMask))"
   ]
  },
  {
   "cell_type": "code",
   "execution_count": 68,
   "metadata": {},
   "outputs": [
    {
     "name": "stdout",
     "output_type": "stream",
     "text": [
      "45\n",
      "32\n",
      "22\n",
      "15295656\n"
     ]
    }
   ],
   "source": [
    "gcs = client.gridCells(ds,bb)\n",
    "\n",
    "print(len(gcs))\n",
    "\n",
    "\n",
    "def checkGCInExtent( gc ):\n",
    "    if check(gc.minX,gc.minY) or check(gc.minX,gc.maxY) or check(gc.maxX,gc.maxY) or check(gc.minX,gc.minY):\n",
    "        return True\n",
    "    else:\n",
    "        return False\n",
    "\n",
    "def completelyInsideExtent(gc):\n",
    "    if check(gc.minX,gc.minY) and check(gc.minX,gc.maxY) and check(gc.maxX,gc.maxY) and check(gc.minX,gc.minY):\n",
    "        return True\n",
    "    else:\n",
    "        return False\n",
    "    \n",
    "inextent = [ gc for gc in gcs if checkGCInExtent(gc) ]\n",
    "\n",
    "print(len(inextent))\n",
    "\n",
    "compinextent = [ gc for gc in inextent if not completelyInsideExtent(gc) ]\n",
    "\n",
    "print(len(compinextent))\n",
    "\n",
    "totalPoints = [ gc.numberOfPoints for gc in gcs ]\n",
    "\n",
    "print(sum(totalPoints))"
   ]
  },
  {
   "cell_type": "code",
   "execution_count": null,
   "metadata": {},
   "outputs": [],
   "source": []
  }
 ],
 "metadata": {
  "kernelspec": {
   "display_name": "Python 3",
   "language": "python",
   "name": "python3"
  },
  "language_info": {
   "codemirror_mode": {
    "name": "ipython",
    "version": 3
   },
   "file_extension": ".py",
   "mimetype": "text/x-python",
   "name": "python",
   "nbconvert_exporter": "python",
   "pygments_lexer": "ipython3",
   "version": "3.7.3"
  }
 },
 "nbformat": 4,
 "nbformat_minor": 2
}
