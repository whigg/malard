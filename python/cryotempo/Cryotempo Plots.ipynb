{
 "cells": [
  {
   "cell_type": "code",
   "execution_count": null,
   "metadata": {},
   "outputs": [],
   "source": [
    "%matplotlib notebook\n",
    "\n",
    "import matplotlib as mpl\n",
    "from MalardClient.MalardClient import MalardClient\n",
    "from MalardClient.DataSet import DataSet\n",
    "from MalardClient.BoundingBox import BoundingBox\n",
    "import datetime\n",
    "import pandas as pd\n",
    "import geopandas as gp\n",
    "import matplotlib.pyplot as plt\n",
    "from shapely.geometry import Polygon, Point\n",
    "import os\n",
    "import numpy as np\n",
    "import pandas as  pd\n",
    "import json\n",
    "import math\n",
    "from pandas.io.json import json_normalize\n",
    "from matplotlib.colors import LinearSegmentedColormap\n",
    "\n",
    "from datetime import datetime"
   ]
  },
  {
   "cell_type": "code",
   "execution_count": null,
   "metadata": {},
   "outputs": [],
   "source": [
    "\n",
    "#ds = DataSet('cryotempo', 'GRIS_BaselineC_Q2', 'greenland')\n",
    "ds = DataSet('cryotempo', 'AntarcticaV2b', 'antarctic')\n",
    "\n",
    "runName='test'\n",
    "size = 100000\n",
    "\n",
    "client = MalardClient()\n",
    "\n",
    "bbox = client.boundingBox( ds )\n",
    "\n",
    "print(bbox)"
   ]
  },
  {
   "cell_type": "code",
   "execution_count": null,
   "metadata": {
    "scrolled": false
   },
   "outputs": [],
   "source": [
    "#stats = query.getRunStatistics(parentDsName, runName)\n",
    "#stats = json.loads(stats)\n",
    "#dfStats = json_normalize(stats)\n",
    "#dfStats.head()\n",
    "\n",
    "bbox = BoundingBox( bbox.minX, bbox.maxX, bbox.minY, bbox.maxY,  datetime(2017,1,1,0,0,0), datetime(2017,12,31,0,0,0) )\n",
    "\n",
    "\n",
    "gcs = client.gridCells(ds, bbox)\n",
    "\n"
   ]
  },
  {
   "cell_type": "code",
   "execution_count": null,
   "metadata": {},
   "outputs": [],
   "source": [
    "# background layers (must be same projection)\n",
    "#rivers = gp.read_file(\"/data/puma1/scratch/mtngla/background-shapefiles/rivers_reprojected.shp\")\n",
    "countries = gp.read_file(\"/data/puma1/scratch/cryotempo/masks/ice.shp\")"
   ]
  },
  {
   "cell_type": "code",
   "execution_count": null,
   "metadata": {},
   "outputs": [],
   "source": [
    "# OPTION 1 (display as points)\n",
    "# convert center points to geo points\n",
    "crs = client.getProjection(ds).proj4\n",
    "\n",
    "def toGeoData(data):\n",
    "    # Convert gridcells to point geometries in the middle of the cell\n",
    "    geometry = [Point(xy) for xy in zip(data['gridCell.minX']+(size/2), data['gridCell.minY']+(size/2))]\n",
    "    gData = gp.GeoDataFrame(data, crs=crs, geometry=geometry)\n",
    "    return gData\n",
    "\n",
    "dfPoints = toGeoData(dfStats.copy())"
   ]
  },
  {
   "cell_type": "code",
   "execution_count": null,
   "metadata": {},
   "outputs": [],
   "source": [
    "# OPTION 2 (display as squares)\n",
    "# convert to polygons\n",
    "crs = client.getProjection(ds).proj4\n",
    "\n",
    "def toGeoData(data):\n",
    "    #data.drop(['geometry'], axis=1)\n",
    "    geometry = []\n",
    "    totals = []\n",
    "    for gc in data:\n",
    "        geometry.append(Polygon([(gc.minX,gc.minY), (gc.minX,gc.maxY), (gc.maxX,gc.maxY), (gc.maxX,gc.minY), (gc.minX,gc.minY)]))\n",
    "        totals.append(gc.numberOfPoints)\n",
    "        \n",
    "        \n",
    "    df = pd.DataFrame()\n",
    "    df['TotalPoints'] = totals\n",
    "    \n",
    "    gData = gp.GeoDataFrame(df, crs=crs, geometry=geometry)\n",
    "    \n",
    "      \n",
    "    return gData\n",
    "\n",
    "dfPolys = toGeoData(gcs)"
   ]
  },
  {
   "cell_type": "code",
   "execution_count": null,
   "metadata": {},
   "outputs": [],
   "source": [
    "# OPTION 1: define point sizes\n",
    "dfPoints.loc[(dfPoints['statistics.GlacierMaskArea']<10.0), 'statistics.GlacierMaskArea.pointsize'] = 5\n",
    "dfPoints.loc[(dfPoints['statistics.GlacierMaskArea']>=10.0) & (dfPoints['statistics.GlacierMaskArea']<100.0), 'statistics.GlacierMaskArea.pointsize'] = 20\n",
    "dfPoints.loc[(dfPoints['statistics.GlacierMaskArea']>=100.0) & (dfPoints['statistics.GlacierMaskArea']<500.0), 'statistics.GlacierMaskArea.pointsize'] = 50\n",
    "dfPoints.loc[(dfPoints['statistics.GlacierMaskArea']>=500.0) & (dfPoints['statistics.GlacierMaskArea']<1000.0), 'statistics.GlacierMaskArea.pointsize'] = 80\n",
    "dfPoints.loc[(dfPoints['statistics.GlacierMaskArea']>=1000.0) & (dfPoints['statistics.GlacierMaskArea']<2000.0), 'statistics.GlacierMaskArea.pointsize'] = 125\n",
    "dfPoints.loc[(dfPoints['statistics.GlacierMaskArea']>2000.0), 'statistics.GlacierMaskArea.pointsize'] = 170"
   ]
  },
  {
   "cell_type": "code",
   "execution_count": null,
   "metadata": {
    "scrolled": false
   },
   "outputs": [],
   "source": [
    "# OPTION 1: plot\n",
    "%matplotlib notebook\n",
    "\n",
    "# plot figure\n",
    "fig, ax = plt.subplots(figsize=(11,5))\n",
    "\n",
    "# plot background\n",
    "countries.plot(ax=ax, edgecolor='grey', color='gainsboro', linewidth=0.5)\n",
    "rivers.plot(ax=ax, edgecolor='blue', linewidth=0.2)\n",
    "\n",
    "# marker size\n",
    "markersize = dfPoints['statistics.GlacierMaskArea.pointsize']\n",
    "\n",
    "# min and max of colour scheme (change this!)\n",
    "vmin=0\n",
    "vmax=20000\n",
    "\n",
    "# color scheme\n",
    "cm = 'viridis'\n",
    "\n",
    "# plot data\n",
    "dfPoints.plot(ax=ax, column='statistics.result_total', markersize=markersize, vmin=vmin, \\\n",
    "                     vmax=vmax, cmap=cm)\n",
    "\n",
    "# marker size legend\n",
    "labels = [\"<10\", \"10-100\", \"100-500\", \"500-1000\", \"1000-2000\", \">2000\"]\n",
    "sizes = [5, 20, 50, 80, 125, 170]\n",
    "markers=[]\n",
    "for size in sizes:\n",
    "    markers.append(plt.scatter([],[], s=size, label=size, color='white', edgecolor='black', linewidth=0.5))\n",
    "plt.legend(handles=markers)\n",
    "leg = plt.legend(markers, labels, ncol=1, frameon=True, fontsize=7,handlelength=1, loc = 3, borderpad = 1.3,\\\n",
    "handletextpad=1, title='Glacier area [km2]', scatterpoints = 1, labelspacing=1.5)\n",
    "\n",
    "# add colorbar with label\n",
    "bar=fig.colorbar(mappable=mpl.cm.ScalarMappable(norm=mpl.colors.Normalize(vmin=vmin, vmax=vmax), cmap=cm))\n",
    "bar.set_label('Total number of points')\n",
    "\n",
    "# add plot title\n",
    "plt.title('Title blah')"
   ]
  },
  {
   "cell_type": "code",
   "execution_count": null,
   "metadata": {},
   "outputs": [],
   "source": [
    "# OPTION 2: plot\n",
    "%matplotlib notebook\n",
    "\n",
    "# plot figure\n",
    "fig, ax = plt.subplots(figsize=(11,8))\n",
    "\n",
    "# plot background\n",
    "#countries.plot(ax=ax, edgecolor='grey', color='gainsboro', linewidth=0.5)\n",
    "#rivers.plot(ax=ax, edgecolor='blue', linewidth=0.2)\n",
    "\n",
    "# marker size\n",
    "markersize = 1 #dfPoints['statistics.GlacierMaskArea.pointsize']\n",
    "\n",
    "# min and max of colour scheme (change this!)\n",
    "\n",
    "totals = [ gc.numberOfPoints for gc in gcs ]\n",
    "\n",
    "diff = max(totals) - min(totals)\n",
    "vmin= min(totals) #+ diff*0.25\n",
    "vmax= max(totals)# - diff*0.25\n",
    "\n",
    "#vmin = 6500000\n",
    "#vmax = 7000000\n",
    "\n",
    "# color scheme\n",
    "cm = 'plasma'\n",
    "\n",
    "# plot data\n",
    "#dfPolys.plot(ax=ax, column='TotalPoints', vmin=vmin, \\\n",
    "#                     vmax=vmax, cmap=cm, alpha=0.8)\n",
    "dfPolys.plot(ax=ax, column='TotalPoints',color='lightblue',edgecolor='dimgray', alpha=0.5)\n",
    "\n",
    "# add colorbar with label\n",
    "#bar=fig.colorbar(mappable=mpl.cm.ScalarMappable(norm=mpl.colors.Normalize(vmin=vmin, vmax=vmax), cmap=cm))\n",
    "#bar.set_label('Total number of points')\n",
    "\n",
    "# add plot title\n",
    "plt.title('Antarctic area coverage with 100km tiles')\n",
    "ax.set_xlabel(\"X Coordinate (m)\")\n",
    "ax.set_ylabel(\"Y Coordinate (m)\")\n"
   ]
  },
  {
   "cell_type": "code",
   "execution_count": null,
   "metadata": {},
   "outputs": [],
   "source": [
    "print(gcs[100].numberOfPoints)"
   ]
  },
  {
   "cell_type": "code",
   "execution_count": null,
   "metadata": {},
   "outputs": [],
   "source": [
    "print(dfPolys.TotalPoints[100])"
   ]
  },
  {
   "cell_type": "code",
   "execution_count": null,
   "metadata": {},
   "outputs": [],
   "source": [
    "fig.savefig('antarctica_area_coverage_2017.png')"
   ]
  },
  {
   "cell_type": "raw",
   "metadata": {},
   "source": []
  }
 ],
 "metadata": {
  "kernelspec": {
   "display_name": "Python 3",
   "language": "python",
   "name": "python3"
  },
  "language_info": {
   "codemirror_mode": {
    "name": "ipython",
    "version": 3
   },
   "file_extension": ".py",
   "mimetype": "text/x-python",
   "name": "python",
   "nbconvert_exporter": "python",
   "pygments_lexer": "ipython3",
   "version": "3.7.3"
  }
 },
 "nbformat": 4,
 "nbformat_minor": 2
}
