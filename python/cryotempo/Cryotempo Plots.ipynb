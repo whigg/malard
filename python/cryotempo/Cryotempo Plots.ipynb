{
 "cells": [
  {
   "cell_type": "code",
   "execution_count": null,
   "metadata": {},
   "outputs": [],
   "source": [
    "%matplotlib notebook\n",
    "\n",
    "import matplotlib as mpl\n",
    "from MalardClient.MalardClient import MalardClient\n",
    "from MalardClient.DataSet import DataSet\n",
    "from MalardClient.BoundingBox import BoundingBox\n",
    "import datetime\n",
    "import pandas as pd\n",
    "import geopandas as gp\n",
    "import matplotlib.pyplot as plt\n",
    "from shapely.geometry import Polygon, Point\n",
    "import os\n",
    "import numpy as np\n",
    "import pandas as  pd\n",
    "import json\n",
    "import math\n",
    "from pandas.io.json import json_normalize\n",
    "from matplotlib.colors import LinearSegmentedColormap\n",
    "\n",
    "from datetime import datetime"
   ]
  },
  {
   "cell_type": "code",
   "execution_count": null,
   "metadata": {},
   "outputs": [],
   "source": [
    "\n",
    "ds = DataSet('cryotempo', 'GRIS_BaselineC_Q2', 'greenland')\n",
    "#ds = DataSet('cryotempo', 'AntarcticaV2b', 'antarctic')\n",
    "\n",
    "runName='test'\n",
    "size = 100000\n",
    "\n",
    "client = MalardClient()\n",
    "\n",
    "bbox = client.boundingBox( ds )\n",
    "\n",
    "print(bbox)"
   ]
  },
  {
   "cell_type": "code",
   "execution_count": null,
   "metadata": {
    "scrolled": false
   },
   "outputs": [],
   "source": [
    "\n",
    "from MalardClient.MaskFilter import MaskFilter\n",
    "\n",
    "\n",
    "minT = datetime(2011,2,1,0,0,0)\n",
    "maxT = datetime(2011,2,28,23,59,59) \n",
    "\n",
    "maskFilterIce = MaskFilter( p_shapeFile=\"/data/puma1/scratch/cryotempo/masks/icesheets.shp\"  ) \n",
    "maskFilterLRM = MaskFilter( p_shapeFile=\"/data/puma1/scratch/cryotempo/sarinmasks/LRM_Greenland.shp\" , p_includeWithin=False ) \n",
    "\n",
    "gcs = client.shardsWithinPolygon(ds, minT, maxT, [maskFilterIce, maskFilterLRM ] )\n",
    "\n",
    "\n",
    "###Jakobshavn bbox\n",
    "minX=-262187\n",
    "maxX=-93976\n",
    "minY=-2386746\n",
    "maxY=-2144979\n",
    "\n",
    "wkt = \"POLYGON (( {} {}, {} {}, {} {}, {} {}, {} {}))\".format( minX,minY,minX,maxY,maxX,maxY,maxX,minY,minX,minY )\n",
    "\n",
    "maskFilter = MaskFilter( p_wkt=wkt )\n",
    "\n",
    "#gcs = client.shardsWithinPolygon(ds, minT, maxT, maskFilters=maskFilter)\n",
    "\n",
    "print(len(gcs))"
   ]
  },
  {
   "cell_type": "code",
   "execution_count": null,
   "metadata": {},
   "outputs": [],
   "source": [
    "# background layers (must be same projection)\n",
    "#rivers = gp.read_file(\"/data/puma1/scratch/mtngla/background-shapefiles/rivers_reprojected.shp\")\n",
    "countries = gp.read_file(\"/data/puma1/scratch/cryotempo/masks/icesheets.shp\")"
   ]
  },
  {
   "cell_type": "code",
   "execution_count": null,
   "metadata": {},
   "outputs": [],
   "source": [
    "# OPTION 2 (display as squares)\n",
    "# convert to polygons\n",
    "crs = client.getProjection(ds).proj4\n",
    "\n",
    "def toGeoData(data):\n",
    "    #data.drop(['geometry'], axis=1)\n",
    "    geometry = []\n",
    "    totals = []\n",
    "    for gc in data:\n",
    "        bb = gc.boundingBox\n",
    "        geometry.append(Polygon([(bb.minX,bb.minY), (bb.minX,bb.maxY), (bb.maxX,bb.maxY), (bb.maxX,bb.minY), (bb.minX,bb.minY)]))\n",
    "        totals.append(bb.numberOfPoints)\n",
    "        \n",
    "        \n",
    "    df = pd.DataFrame()\n",
    "    df['TotalPoints'] = totals\n",
    "    \n",
    "    gData = gp.GeoDataFrame(df, crs=crs, geometry=geometry)\n",
    "    \n",
    "      \n",
    "    return gData\n",
    "\n",
    "dfPolys = toGeoData(gcs)"
   ]
  },
  {
   "cell_type": "code",
   "execution_count": null,
   "metadata": {},
   "outputs": [],
   "source": [
    "# OPTION 2: plot\n",
    "%matplotlib notebook\n",
    "\n",
    "# plot figure\n",
    "fig, ax = plt.subplots(figsize=(11,8))\n",
    "\n",
    "# plot background\n",
    "countries.plot(ax=ax, edgecolor='grey', color='gainsboro', linewidth=0.5)\n",
    "#rivers.plot(ax=ax, edgecolor='blue', linewidth=0.2)\n",
    "\n",
    "# marker size\n",
    "markersize = 1 #dfPoints['statistics.GlacierMaskArea.pointsize']\n",
    "\n",
    "# min and max of colour scheme (change this!)\n",
    "\n",
    "totals = [ gc.boundingBox.numberOfPoints for gc in gcs ]\n",
    "\n",
    "diff = max(totals) - min(totals)\n",
    "vmin= min(totals) #+ diff*0.25\n",
    "vmax= max(totals)# - diff*0.25\n",
    "\n",
    "#vmin = 6500000\n",
    "#vmax = 7000000\n",
    "\n",
    "# color scheme\n",
    "cm = 'plasma'\n",
    "\n",
    "# plot data\n",
    "#dfPolys.plot(ax=ax, column='TotalPoints', vmin=vmin, \\\n",
    "#                     vmax=vmax, cmap=cm, alpha=0.8)\n",
    "dfPolys.plot(ax=ax, column='TotalPoints',color='lightblue',edgecolor='dimgray', alpha=0.5)\n",
    "\n",
    "# add colorbar with label\n",
    "#bar=fig.colorbar(mappable=mpl.cm.ScalarMappable(norm=mpl.colors.Normalize(vmin=vmin, vmax=vmax), cmap=cm))\n",
    "#bar.set_label('Total number of points')\n",
    "\n",
    "# add plot title\n",
    "plt.title('Greenland area coverage with 100km tiles')\n",
    "ax.set_xlabel(\"X Coordinate (m)\")\n",
    "ax.set_ylabel(\"Y Coordinate (m)\")\n",
    "\n",
    "r = np.arange(-500000, bbox.maxX, 500000)\n",
    "ax.set_xticks(r)\n",
    "\n"
   ]
  },
  {
   "cell_type": "code",
   "execution_count": null,
   "metadata": {},
   "outputs": [],
   "source": [
    "print(gcs[100].numberOfPoints)"
   ]
  },
  {
   "cell_type": "code",
   "execution_count": null,
   "metadata": {},
   "outputs": [],
   "source": [
    "print(dfPolys.TotalPoints[100])"
   ]
  },
  {
   "cell_type": "code",
   "execution_count": null,
   "metadata": {},
   "outputs": [],
   "source": [
    "fig.savefig('greenland_area_coverage_2011.png')"
   ]
  },
  {
   "cell_type": "raw",
   "metadata": {},
   "source": []
  }
 ],
 "metadata": {
  "kernelspec": {
   "display_name": "Python 3",
   "language": "python",
   "name": "python3"
  },
  "language_info": {
   "codemirror_mode": {
    "name": "ipython",
    "version": 3
   },
   "file_extension": ".py",
   "mimetype": "text/x-python",
   "name": "python",
   "nbconvert_exporter": "python",
   "pygments_lexer": "ipython3",
   "version": "3.7.3"
  }
 },
 "nbformat": 4,
 "nbformat_minor": 2
}
