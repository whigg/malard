{
 "cells": [
  {
   "cell_type": "code",
   "execution_count": 1,
   "metadata": {},
   "outputs": [
    {
     "name": "stdout",
     "output_type": "stream",
     "text": [
      "+proj=stere +lat_0=-90 +lat_ts=-71 +lon_0=0 +k=1 +x_0=0 +y_0=0 +datum=WGS84 +units=m +no_defs\n",
      "LRM over Antarctica ice sheet\n",
      "LRM over Greenland ice sheet\n"
     ]
    }
   ],
   "source": [
    "import os\n",
    "from osgeo import ogr, osr\n",
    "\n",
    "from MalardClient.MalardClient import MalardClient\n",
    "from MalardClient.DataSet import DataSet\n",
    "\n",
    "client = MalardClient()\n",
    "\n",
    "\n",
    "proj4 = client.getProjection(DataSet( \"cryotempo\", \"AntarcticaV2b\", \"antarctic\"  )).proj4\n",
    "print(proj4)\n",
    "\n",
    "\n",
    "daShapefile = \"/data/eagle/team/shared/Work/CryoTEMPO/MaskShape/CryoSat_Mask_4.0-polygon.shp\"\n",
    "#daShapefile = \"/data/puma1/scratch/mtngla/chucach/Chucach-polygon.shp\"\n",
    "\n",
    "#kmz file\n",
    "#daShapeFile = \"/data/mouse1/team/jon/Anarctica/Coastline_Antarctica_v02.shp\"\n",
    "\n",
    "\n",
    "# Save extent to a new Shapefile\n",
    "outShapefile = \"SARIN_Antarctica.shp\"\n",
    "\n",
    "driver = ogr.GetDriverByName('ESRI Shapefile')\n",
    "\n",
    "dataSource = driver.Open(daShapefile) # 0 means read-only. 1 means writeable.\n",
    "feature = None\n",
    "\n",
    "layer = dataSource.GetLayer(0)\n",
    "\n",
    "for i in range(0, layer.GetFeatureCount()):\n",
    "    f = layer.GetFeature(i)\n",
    "    \n",
    "    if str(f.GetField(1)).startswith(\"LRM\"):\n",
    "        print( f.GetField(1))\n",
    "    \n",
    "    if f.GetField(1) == \"SARIN over Greenland Coast\":    #SARIN over Greenland Coast, LRM over Antarctica ice sheet, LRM over Greenland ice sheet,  \n",
    "        feature = f\n",
    "        print(f.GetField(1))\n",
    "    if f.GetField(1) == \"SARIN over Greenland Coast\":\n",
    "        print(f.GetGeometryRef().GetEnvelope())\n",
    "\n",
    "\n",
    "#greenlandExtent = (-81.265, -6.8349, 59.1676, 84.2163)\n",
    "\n",
    "        \n",
    "\n"
   ]
  },
  {
   "cell_type": "code",
   "execution_count": null,
   "metadata": {},
   "outputs": [],
   "source": [
    "\n",
    "\n",
    "sourceprj = layer.GetSpatialRef()\n",
    "\n",
    "srs = osr.SpatialReference()\n",
    "srs.ImportFromProj4(proj4)\n",
    "\n",
    "targetprj = srs\n",
    "transform = osr.CoordinateTransformation(sourceprj, targetprj)\n",
    "        \n",
    "        \n",
    "outDriver = ogr.GetDriverByName(\"ESRI Shapefile\")\n",
    "\n",
    "# Remove output shapefile if it already exists\n",
    "if os.path.exists(outShapefile):\n",
    "    outDriver.DeleteDataSource(outShapefile)\n",
    "\n",
    "# Create the output shapefile\n",
    "outDataSource = outDriver.CreateDataSource(outShapefile)\n",
    "outlayer = outDataSource.CreateLayer(\"lrm_greenland\", targetprj,geom_type=ogr.wkbPolygon)\n",
    "\n",
    "# Add an ID field\n",
    "idField = ogr.FieldDefn(\"id\", ogr.OFTInteger)\n",
    "outlayer.CreateField(idField)\n",
    "\n",
    "# Create the feature and set values\n",
    "transformed = feature.GetGeometryRef()\n",
    "transformed.Transform(transform)\n",
    "\n",
    "geom = ogr.CreateGeometryFromWkb(transformed.ExportToWkb())\n",
    "defn = outlayer.GetLayerDefn()\n",
    "feat = ogr.Feature(defn)\n",
    "feat.SetGeometry(geom)\n",
    "outlayer.CreateFeature(feat)\n",
    "\n",
    "# Save and close DataSource\n",
    "inDataSource = None\n",
    "outDataSource = None"
   ]
  },
  {
   "cell_type": "code",
   "execution_count": null,
   "metadata": {},
   "outputs": [],
   "source": []
  }
 ],
 "metadata": {
  "kernelspec": {
   "display_name": "Python 3",
   "language": "python",
   "name": "python3"
  },
  "language_info": {
   "codemirror_mode": {
    "name": "ipython",
    "version": 3
   },
   "file_extension": ".py",
   "mimetype": "text/x-python",
   "name": "python",
   "nbconvert_exporter": "python",
   "pygments_lexer": "ipython3",
   "version": "3.7.3"
  }
 },
 "nbformat": 4,
 "nbformat_minor": 2
}
