{
 "cells": [
  {
   "cell_type": "code",
   "execution_count": null,
   "metadata": {},
   "outputs": [],
   "source": [
    "import DataSetQuery\n",
    "import datetime\n",
    "\n",
    "\n",
    "environmentName = 'DEV'\n",
    "#Sets the URL of the Malard ServiceGateway.\n",
    "query = DataSetQuery.DataSetQuery('http://localhost:9000',environmentName)\n",
    "\n",
    "print(query.getEnvironment(environmentName))\n",
    "\n",
    "#determines the databases that store multiple datasets \n",
    "print(query.getParentDataSets())\n"
   ]
  },
  {
   "cell_type": "code",
   "execution_count": null,
   "metadata": {},
   "outputs": [],
   "source": [
    "#retrieve the data sets for a given parent\n",
    "print(query.getDataSets('antarctic'))\n"
   ]
  },
  {
   "cell_type": "code",
   "execution_count": null,
   "metadata": {},
   "outputs": [],
   "source": [
    "\n",
    "from datetime import datetime\n",
    "\n",
    "\n",
    "import json\n",
    "\n",
    "box = query.getDataSetBoundingBox( 'antarctic','tdx' )\n",
    "data = json.loads(box)\n",
    "\n",
    "startDate = datetime.fromtimestamp(data['minTime'])\n",
    "endDate = datetime.fromtimestamp(data['maxTime'])\n",
    "\n",
    "print(startDate)\n",
    "print(endDate)\n",
    "\n",
    "print(box)"
   ]
  },
  {
   "cell_type": "code",
   "execution_count": null,
   "metadata": {},
   "outputs": [],
   "source": [
    "from datetime import timedelta\n",
    "from dateutil.relativedelta import *\n",
    "import os\n",
    "years = range(2010,2017)\n",
    "months= range(1,13)\n",
    "columns = ['lat','lon','x','y','elev','heading','demDiff','demDiffMad','wf_number','sampleNb','power','powerdB','phase','phaseS','coh','time']\n",
    "path = '/data/puma1/scratch/malard/export/'\n",
    "\n",
    "def extractDataByMonth(path,name,years,months,columns,minX,maxX,minY,maxY):\n",
    "    for y in years:\n",
    "        for m in months:\n",
    "            startTime=datetime(y,m,1,0,0)\n",
    "            endTime=startTime+relativedelta(months=+1)-timedelta(seconds=1)\n",
    "            fileName = query.executeQuery( 'antarctic','tdx',minX,maxX,minY,maxY,startTime,endTime,columns,[])\n",
    "            print(fileName)\n",
    "            newName = path+name+'_'+str(y)+'-'+str(m)+'.nc'\n",
    "            if fileName != 'Error: Empty resultset.':\n",
    "                os.rename(fileName,newName)\n",
    "                print(newName)\n",
    "            else:\n",
    "                print( name + ' has no results for: ' + str(y) +'-' + str(m) )\n",
    "            \n",
    "extractDataByMonth(path,'Thwaites',years,months,columns,-1.64E+06,-1.26E+06,-7.59E+05,-3.08E+05)\n",
    "\n",
    "extractDataByMonth(path,'Amery',years,months,columns,1.34E+06,1.86E+06,3.98E+05,1.03E+06)\n",
    "\n",
    "minX= 8.40E+05\n",
    "maxX= 1.67E+06\n",
    "minY= -2.16E+06\n",
    "maxY= -1.36E+06\n",
    "\n",
    "extractDataByMonth(path,'Cook',years,months,columns,minX,maxX,minY,maxY)\n",
    "\n",
    "#SIPLE\n",
    "minX=-6.53E+05\n",
    "maxX=6.96E+04\n",
    "minY=-8.71E+05\n",
    "maxY=-1.60E+05\n",
    "\n",
    "extractDataByMonth(path,'Siple',years,months,columns,minX,maxX,minY,maxY)\n",
    "\n",
    "#wingham\n",
    "minX=1.01E+06\n",
    "maxX=1.27E+06\n",
    "minY=-1.20E+06\n",
    "maxY=-1.04E+06\n",
    "\n",
    "\n",
    "extractDataByMonth(path,'Wingham',years,months,columns,minX,maxX,minY,maxY)"
   ]
  },
  {
   "cell_type": "code",
   "execution_count": null,
   "metadata": {},
   "outputs": [],
   "source": [
    "\n",
    "\n",
    "#wingham\n",
    "minX=1.01E+06\n",
    "maxX=1.27E+06\n",
    "minY=-1.20E+06\n",
    "maxY=-1.04E+06\n",
    "minT = datetime(2010,12,1,0,0)\n",
    "maxT = datetime(2016,12,31,23,59)\n",
    "\n",
    "\n",
    "gcs = query.getShards( 'antarctic','tdx',minX,maxX,minY,maxY,minT,maxT )\n",
    "\n",
    "print(gcs)\n"
   ]
  },
  {
   "cell_type": "code",
   "execution_count": null,
   "metadata": {},
   "outputs": [],
   "source": []
  }
 ],
 "metadata": {
  "kernelspec": {
   "display_name": "Python 3",
   "language": "python",
   "name": "python3"
  },
  "language_info": {
   "codemirror_mode": {
    "name": "ipython",
    "version": 3
   },
   "file_extension": ".py",
   "mimetype": "text/x-python",
   "name": "python",
   "nbconvert_exporter": "python",
   "pygments_lexer": "ipython3",
   "version": "3.7.3"
  }
 },
 "nbformat": 4,
 "nbformat_minor": 2
}
